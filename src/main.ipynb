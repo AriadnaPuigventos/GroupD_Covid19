{
 "metadata": {
  "language_info": {
   "codemirror_mode": {
    "name": "ipython",
    "version": 3
   },
   "file_extension": ".py",
   "mimetype": "text/x-python",
   "name": "python",
   "nbconvert_exporter": "python",
   "pygments_lexer": "ipython3",
   "version": "3.9.0-final"
  },
  "orig_nbformat": 2,
  "kernelspec": {
   "name": "python3",
   "display_name": "Python 3.9.0 64-bit",
   "metadata": {
    "interpreter": {
     "hash": "aee8b7b246df8f9039afb4144a1f6fd8d2ca17a180786b69acc140d282b71a49"
    }
   }
  }
 },
 "nbformat": 4,
 "nbformat_minor": 2,
 "cells": [
  {
   "cell_type": "code",
   "execution_count": 2,
   "metadata": {},
   "outputs": [],
   "source": [
    "import pandas as pd\n",
    "import numpy as np\n",
    "import seaborn as sns #visualisation\n",
    "import matplotlib.pyplot as plt #visualisation"
   ]
  },
  {
   "source": [
    "### **STEPS**\n",
    "\n",
    "Dataframe about Coronavirus Group D"
   ],
   "cell_type": "markdown",
   "metadata": {}
  },
  {
   "cell_type": "code",
   "execution_count": 5,
   "metadata": {},
   "outputs": [
    {
     "output_type": "execute_result",
     "data": {
      "text/plain": [
       "      iso_code        date  total_cases  total_deaths  \\\n",
       "57046      GBR  2020-01-31          2.0           NaN   \n",
       "57047      GBR  2020-02-01          2.0           NaN   \n",
       "57048      GBR  2020-02-02          2.0           NaN   \n",
       "57049      GBR  2020-02-03          8.0           NaN   \n",
       "57050      GBR  2020-02-04          8.0           NaN   \n",
       "...        ...         ...          ...           ...   \n",
       "57394      GBR  2021-01-13    3220953.0       84910.0   \n",
       "57395      GBR  2021-01-14    3269757.0       86163.0   \n",
       "57396      GBR  2021-01-15    3325642.0       87448.0   \n",
       "57397      GBR  2021-01-16    3367070.0       88747.0   \n",
       "57398      GBR  2021-01-17    3405740.0       89429.0   \n",
       "\n",
       "       total_deaths_per_million  \n",
       "57046                       NaN  \n",
       "57047                       NaN  \n",
       "57048                       NaN  \n",
       "57049                       NaN  \n",
       "57050                       NaN  \n",
       "...                         ...  \n",
       "57394                  1250.773  \n",
       "57395                  1269.231  \n",
       "57396                  1288.159  \n",
       "57397                  1307.295  \n",
       "57398                  1317.341  \n",
       "\n",
       "[353 rows x 5 columns]"
      ],
      "text/html": "<div>\n<style scoped>\n    .dataframe tbody tr th:only-of-type {\n        vertical-align: middle;\n    }\n\n    .dataframe tbody tr th {\n        vertical-align: top;\n    }\n\n    .dataframe thead th {\n        text-align: right;\n    }\n</style>\n<table border=\"1\" class=\"dataframe\">\n  <thead>\n    <tr style=\"text-align: right;\">\n      <th></th>\n      <th>iso_code</th>\n      <th>date</th>\n      <th>total_cases</th>\n      <th>total_deaths</th>\n      <th>total_deaths_per_million</th>\n    </tr>\n  </thead>\n  <tbody>\n    <tr>\n      <th>57046</th>\n      <td>GBR</td>\n      <td>2020-01-31</td>\n      <td>2.0</td>\n      <td>NaN</td>\n      <td>NaN</td>\n    </tr>\n    <tr>\n      <th>57047</th>\n      <td>GBR</td>\n      <td>2020-02-01</td>\n      <td>2.0</td>\n      <td>NaN</td>\n      <td>NaN</td>\n    </tr>\n    <tr>\n      <th>57048</th>\n      <td>GBR</td>\n      <td>2020-02-02</td>\n      <td>2.0</td>\n      <td>NaN</td>\n      <td>NaN</td>\n    </tr>\n    <tr>\n      <th>57049</th>\n      <td>GBR</td>\n      <td>2020-02-03</td>\n      <td>8.0</td>\n      <td>NaN</td>\n      <td>NaN</td>\n    </tr>\n    <tr>\n      <th>57050</th>\n      <td>GBR</td>\n      <td>2020-02-04</td>\n      <td>8.0</td>\n      <td>NaN</td>\n      <td>NaN</td>\n    </tr>\n    <tr>\n      <th>...</th>\n      <td>...</td>\n      <td>...</td>\n      <td>...</td>\n      <td>...</td>\n      <td>...</td>\n    </tr>\n    <tr>\n      <th>57394</th>\n      <td>GBR</td>\n      <td>2021-01-13</td>\n      <td>3220953.0</td>\n      <td>84910.0</td>\n      <td>1250.773</td>\n    </tr>\n    <tr>\n      <th>57395</th>\n      <td>GBR</td>\n      <td>2021-01-14</td>\n      <td>3269757.0</td>\n      <td>86163.0</td>\n      <td>1269.231</td>\n    </tr>\n    <tr>\n      <th>57396</th>\n      <td>GBR</td>\n      <td>2021-01-15</td>\n      <td>3325642.0</td>\n      <td>87448.0</td>\n      <td>1288.159</td>\n    </tr>\n    <tr>\n      <th>57397</th>\n      <td>GBR</td>\n      <td>2021-01-16</td>\n      <td>3367070.0</td>\n      <td>88747.0</td>\n      <td>1307.295</td>\n    </tr>\n    <tr>\n      <th>57398</th>\n      <td>GBR</td>\n      <td>2021-01-17</td>\n      <td>3405740.0</td>\n      <td>89429.0</td>\n      <td>1317.341</td>\n    </tr>\n  </tbody>\n</table>\n<p>353 rows × 5 columns</p>\n</div>"
     },
     "metadata": {},
     "execution_count": 5
    }
   ],
   "source": [
    "from utils.folders_tb import readcsv #esta ruta donde están los módulos hay que cambiarla!!\n",
    "\n",
    "world = readcsv(ruta=\"../../data/owid-covid-data.csv\")\n"
   ]
  },
  {
   "cell_type": "code",
   "execution_count": 6,
   "metadata": {},
   "outputs": [
    {
     "output_type": "execute_result",
     "data": {
      "text/plain": [
       "      iso_code        date  total_cases  total_deaths  \\\n",
       "43593      PRT  2020-02-02          NaN           NaN   \n",
       "43594      PRT  2020-02-09          NaN           NaN   \n",
       "43595      PRT  2020-02-15          NaN           NaN   \n",
       "43596      PRT  2020-02-23          NaN           NaN   \n",
       "43597      PRT  2020-03-01          NaN           NaN   \n",
       "...        ...         ...          ...           ...   \n",
       "43915      PRT  2021-01-13     507108.0        8236.0   \n",
       "43916      PRT  2021-01-14     517806.0        8384.0   \n",
       "43917      PRT  2021-01-15     528469.0        8543.0   \n",
       "43918      PRT  2021-01-16     539416.0        8709.0   \n",
       "43919      PRT  2021-01-17     549801.0        8861.0   \n",
       "\n",
       "       total_deaths_per_million  \n",
       "43593                       NaN  \n",
       "43594                       NaN  \n",
       "43595                       NaN  \n",
       "43596                       NaN  \n",
       "43597                       NaN  \n",
       "...                         ...  \n",
       "43915                   807.712  \n",
       "43916                   822.226  \n",
       "43917                   837.820  \n",
       "43918                   854.099  \n",
       "43919                   869.006  \n",
       "\n",
       "[327 rows x 5 columns]"
      ],
      "text/html": "<div>\n<style scoped>\n    .dataframe tbody tr th:only-of-type {\n        vertical-align: middle;\n    }\n\n    .dataframe tbody tr th {\n        vertical-align: top;\n    }\n\n    .dataframe thead th {\n        text-align: right;\n    }\n</style>\n<table border=\"1\" class=\"dataframe\">\n  <thead>\n    <tr style=\"text-align: right;\">\n      <th></th>\n      <th>iso_code</th>\n      <th>date</th>\n      <th>total_cases</th>\n      <th>total_deaths</th>\n      <th>total_deaths_per_million</th>\n    </tr>\n  </thead>\n  <tbody>\n    <tr>\n      <th>43593</th>\n      <td>PRT</td>\n      <td>2020-02-02</td>\n      <td>NaN</td>\n      <td>NaN</td>\n      <td>NaN</td>\n    </tr>\n    <tr>\n      <th>43594</th>\n      <td>PRT</td>\n      <td>2020-02-09</td>\n      <td>NaN</td>\n      <td>NaN</td>\n      <td>NaN</td>\n    </tr>\n    <tr>\n      <th>43595</th>\n      <td>PRT</td>\n      <td>2020-02-15</td>\n      <td>NaN</td>\n      <td>NaN</td>\n      <td>NaN</td>\n    </tr>\n    <tr>\n      <th>43596</th>\n      <td>PRT</td>\n      <td>2020-02-23</td>\n      <td>NaN</td>\n      <td>NaN</td>\n      <td>NaN</td>\n    </tr>\n    <tr>\n      <th>43597</th>\n      <td>PRT</td>\n      <td>2020-03-01</td>\n      <td>NaN</td>\n      <td>NaN</td>\n      <td>NaN</td>\n    </tr>\n    <tr>\n      <th>...</th>\n      <td>...</td>\n      <td>...</td>\n      <td>...</td>\n      <td>...</td>\n      <td>...</td>\n    </tr>\n    <tr>\n      <th>43915</th>\n      <td>PRT</td>\n      <td>2021-01-13</td>\n      <td>507108.0</td>\n      <td>8236.0</td>\n      <td>807.712</td>\n    </tr>\n    <tr>\n      <th>43916</th>\n      <td>PRT</td>\n      <td>2021-01-14</td>\n      <td>517806.0</td>\n      <td>8384.0</td>\n      <td>822.226</td>\n    </tr>\n    <tr>\n      <th>43917</th>\n      <td>PRT</td>\n      <td>2021-01-15</td>\n      <td>528469.0</td>\n      <td>8543.0</td>\n      <td>837.820</td>\n    </tr>\n    <tr>\n      <th>43918</th>\n      <td>PRT</td>\n      <td>2021-01-16</td>\n      <td>539416.0</td>\n      <td>8709.0</td>\n      <td>854.099</td>\n    </tr>\n    <tr>\n      <th>43919</th>\n      <td>PRT</td>\n      <td>2021-01-17</td>\n      <td>549801.0</td>\n      <td>8861.0</td>\n      <td>869.006</td>\n    </tr>\n  </tbody>\n</table>\n<p>327 rows × 5 columns</p>\n</div>"
     },
     "metadata": {},
     "execution_count": 6
    }
   ],
   "source": [
    "port = world[world[\"iso_code\"]==\"PRT\"]\n",
    "\n",
    "port = port.drop(port.columns.difference([\"iso_code\",\"date\",'total_cases',\"total_deaths\", 'total_deaths_per_million']), 1)\n",
    "port"
   ]
  },
  {
   "cell_type": "code",
   "execution_count": 7,
   "metadata": {},
   "outputs": [
    {
     "output_type": "execute_result",
     "data": {
      "text/plain": [
       "      iso_code        date  total_cases  total_deaths  \\\n",
       "55753      TUR  2020-03-11          1.0           NaN   \n",
       "55754      TUR  2020-03-12          1.0           NaN   \n",
       "55755      TUR  2020-03-13          5.0           NaN   \n",
       "55756      TUR  2020-03-14          5.0           NaN   \n",
       "55757      TUR  2020-03-15          6.0           NaN   \n",
       "...        ...         ...          ...           ...   \n",
       "56062      TUR  2021-01-14    2364801.0       23495.0   \n",
       "56063      TUR  2021-01-15    2373115.0       23664.0   \n",
       "56064      TUR  2021-01-16    2380665.0       23832.0   \n",
       "56065      TUR  2021-01-17    2387101.0       23997.0   \n",
       "56066      TUR  2021-01-18          NaN           NaN   \n",
       "\n",
       "       total_deaths_per_million  \n",
       "55753                       NaN  \n",
       "55754                       NaN  \n",
       "55755                       NaN  \n",
       "55756                       NaN  \n",
       "55757                       NaN  \n",
       "...                         ...  \n",
       "56062                   278.578  \n",
       "56063                   280.582  \n",
       "56064                   282.574  \n",
       "56065                   284.530  \n",
       "56066                       NaN  \n",
       "\n",
       "[314 rows x 5 columns]"
      ],
      "text/html": "<div>\n<style scoped>\n    .dataframe tbody tr th:only-of-type {\n        vertical-align: middle;\n    }\n\n    .dataframe tbody tr th {\n        vertical-align: top;\n    }\n\n    .dataframe thead th {\n        text-align: right;\n    }\n</style>\n<table border=\"1\" class=\"dataframe\">\n  <thead>\n    <tr style=\"text-align: right;\">\n      <th></th>\n      <th>iso_code</th>\n      <th>date</th>\n      <th>total_cases</th>\n      <th>total_deaths</th>\n      <th>total_deaths_per_million</th>\n    </tr>\n  </thead>\n  <tbody>\n    <tr>\n      <th>55753</th>\n      <td>TUR</td>\n      <td>2020-03-11</td>\n      <td>1.0</td>\n      <td>NaN</td>\n      <td>NaN</td>\n    </tr>\n    <tr>\n      <th>55754</th>\n      <td>TUR</td>\n      <td>2020-03-12</td>\n      <td>1.0</td>\n      <td>NaN</td>\n      <td>NaN</td>\n    </tr>\n    <tr>\n      <th>55755</th>\n      <td>TUR</td>\n      <td>2020-03-13</td>\n      <td>5.0</td>\n      <td>NaN</td>\n      <td>NaN</td>\n    </tr>\n    <tr>\n      <th>55756</th>\n      <td>TUR</td>\n      <td>2020-03-14</td>\n      <td>5.0</td>\n      <td>NaN</td>\n      <td>NaN</td>\n    </tr>\n    <tr>\n      <th>55757</th>\n      <td>TUR</td>\n      <td>2020-03-15</td>\n      <td>6.0</td>\n      <td>NaN</td>\n      <td>NaN</td>\n    </tr>\n    <tr>\n      <th>...</th>\n      <td>...</td>\n      <td>...</td>\n      <td>...</td>\n      <td>...</td>\n      <td>...</td>\n    </tr>\n    <tr>\n      <th>56062</th>\n      <td>TUR</td>\n      <td>2021-01-14</td>\n      <td>2364801.0</td>\n      <td>23495.0</td>\n      <td>278.578</td>\n    </tr>\n    <tr>\n      <th>56063</th>\n      <td>TUR</td>\n      <td>2021-01-15</td>\n      <td>2373115.0</td>\n      <td>23664.0</td>\n      <td>280.582</td>\n    </tr>\n    <tr>\n      <th>56064</th>\n      <td>TUR</td>\n      <td>2021-01-16</td>\n      <td>2380665.0</td>\n      <td>23832.0</td>\n      <td>282.574</td>\n    </tr>\n    <tr>\n      <th>56065</th>\n      <td>TUR</td>\n      <td>2021-01-17</td>\n      <td>2387101.0</td>\n      <td>23997.0</td>\n      <td>284.530</td>\n    </tr>\n    <tr>\n      <th>56066</th>\n      <td>TUR</td>\n      <td>2021-01-18</td>\n      <td>NaN</td>\n      <td>NaN</td>\n      <td>NaN</td>\n    </tr>\n  </tbody>\n</table>\n<p>314 rows × 5 columns</p>\n</div>"
     },
     "metadata": {},
     "execution_count": 7
    }
   ],
   "source": [
    "turk = world[world[\"iso_code\"]==\"TUR\"]\n",
    "\n",
    "turk = turk.drop(turk.columns.difference([\"iso_code\",\"date\",'total_cases',\"total_deaths\", 'total_deaths_per_million']), 1)\n",
    "turk"
   ]
  },
  {
   "cell_type": "code",
   "execution_count": 8,
   "metadata": {},
   "outputs": [
    {
     "output_type": "execute_result",
     "data": {
      "text/plain": [
       "      iso_code        date  total_cases  total_deaths  \\\n",
       "50838      ESP  2020-02-01          1.0           NaN   \n",
       "50839      ESP  2020-02-02          1.0           NaN   \n",
       "50840      ESP  2020-02-03          1.0           NaN   \n",
       "50841      ESP  2020-02-04          1.0           NaN   \n",
       "50842      ESP  2020-02-05          1.0           NaN   \n",
       "...        ...         ...          ...           ...   \n",
       "51185      ESP  2021-01-13    2176089.0       52878.0   \n",
       "51186      ESP  2021-01-14    2211967.0       53079.0   \n",
       "51187      ESP  2021-01-15    2252164.0       53314.0   \n",
       "51188      ESP  2021-01-16    2252164.0       53314.0   \n",
       "51189      ESP  2021-01-17    2252164.0       53314.0   \n",
       "\n",
       "       total_deaths_per_million  \n",
       "50838                       NaN  \n",
       "50839                       NaN  \n",
       "50840                       NaN  \n",
       "50841                       NaN  \n",
       "50842                       NaN  \n",
       "...                         ...  \n",
       "51185                  1130.965  \n",
       "51186                  1135.264  \n",
       "51187                  1140.290  \n",
       "51188                  1140.290  \n",
       "51189                  1140.290  \n",
       "\n",
       "[352 rows x 5 columns]"
      ],
      "text/html": "<div>\n<style scoped>\n    .dataframe tbody tr th:only-of-type {\n        vertical-align: middle;\n    }\n\n    .dataframe tbody tr th {\n        vertical-align: top;\n    }\n\n    .dataframe thead th {\n        text-align: right;\n    }\n</style>\n<table border=\"1\" class=\"dataframe\">\n  <thead>\n    <tr style=\"text-align: right;\">\n      <th></th>\n      <th>iso_code</th>\n      <th>date</th>\n      <th>total_cases</th>\n      <th>total_deaths</th>\n      <th>total_deaths_per_million</th>\n    </tr>\n  </thead>\n  <tbody>\n    <tr>\n      <th>50838</th>\n      <td>ESP</td>\n      <td>2020-02-01</td>\n      <td>1.0</td>\n      <td>NaN</td>\n      <td>NaN</td>\n    </tr>\n    <tr>\n      <th>50839</th>\n      <td>ESP</td>\n      <td>2020-02-02</td>\n      <td>1.0</td>\n      <td>NaN</td>\n      <td>NaN</td>\n    </tr>\n    <tr>\n      <th>50840</th>\n      <td>ESP</td>\n      <td>2020-02-03</td>\n      <td>1.0</td>\n      <td>NaN</td>\n      <td>NaN</td>\n    </tr>\n    <tr>\n      <th>50841</th>\n      <td>ESP</td>\n      <td>2020-02-04</td>\n      <td>1.0</td>\n      <td>NaN</td>\n      <td>NaN</td>\n    </tr>\n    <tr>\n      <th>50842</th>\n      <td>ESP</td>\n      <td>2020-02-05</td>\n      <td>1.0</td>\n      <td>NaN</td>\n      <td>NaN</td>\n    </tr>\n    <tr>\n      <th>...</th>\n      <td>...</td>\n      <td>...</td>\n      <td>...</td>\n      <td>...</td>\n      <td>...</td>\n    </tr>\n    <tr>\n      <th>51185</th>\n      <td>ESP</td>\n      <td>2021-01-13</td>\n      <td>2176089.0</td>\n      <td>52878.0</td>\n      <td>1130.965</td>\n    </tr>\n    <tr>\n      <th>51186</th>\n      <td>ESP</td>\n      <td>2021-01-14</td>\n      <td>2211967.0</td>\n      <td>53079.0</td>\n      <td>1135.264</td>\n    </tr>\n    <tr>\n      <th>51187</th>\n      <td>ESP</td>\n      <td>2021-01-15</td>\n      <td>2252164.0</td>\n      <td>53314.0</td>\n      <td>1140.290</td>\n    </tr>\n    <tr>\n      <th>51188</th>\n      <td>ESP</td>\n      <td>2021-01-16</td>\n      <td>2252164.0</td>\n      <td>53314.0</td>\n      <td>1140.290</td>\n    </tr>\n    <tr>\n      <th>51189</th>\n      <td>ESP</td>\n      <td>2021-01-17</td>\n      <td>2252164.0</td>\n      <td>53314.0</td>\n      <td>1140.290</td>\n    </tr>\n  </tbody>\n</table>\n<p>352 rows × 5 columns</p>\n</div>"
     },
     "metadata": {},
     "execution_count": 8
    }
   ],
   "source": [
    "esp = world[world[\"iso_code\"]==\"ESP\"]\n",
    "\n",
    "esp = esp.drop(esp.columns.difference([\"iso_code\",\"date\",'total_cases',\"total_deaths\", 'total_deaths_per_million']), 1)\n",
    "esp"
   ]
  },
  {
   "cell_type": "code",
   "execution_count": 9,
   "metadata": {},
   "outputs": [
    {
     "output_type": "execute_result",
     "data": {
      "text/plain": [
       "      iso_code        date  total_cases  total_deaths  \\\n",
       "58768      VEN  2020-03-14          2.0           NaN   \n",
       "58769      VEN  2020-03-15         10.0           NaN   \n",
       "58770      VEN  2020-03-16         17.0           NaN   \n",
       "58771      VEN  2020-03-17         33.0           NaN   \n",
       "58772      VEN  2020-03-18         36.0           NaN   \n",
       "...        ...         ...          ...           ...   \n",
       "59073      VEN  2021-01-13     117811.0        1084.0   \n",
       "59074      VEN  2021-01-14     118415.0        1090.0   \n",
       "59075      VEN  2021-01-15     118856.0        1095.0   \n",
       "59076      VEN  2021-01-16     119306.0        1101.0   \n",
       "59077      VEN  2021-01-17     119803.0        1106.0   \n",
       "\n",
       "       total_deaths_per_million  \n",
       "58768                       NaN  \n",
       "58769                       NaN  \n",
       "58770                       NaN  \n",
       "58771                       NaN  \n",
       "58772                       NaN  \n",
       "...                         ...  \n",
       "59073                    38.121  \n",
       "59074                    38.332  \n",
       "59075                    38.508  \n",
       "59076                    38.719  \n",
       "59077                    38.894  \n",
       "\n",
       "[310 rows x 5 columns]"
      ],
      "text/html": "<div>\n<style scoped>\n    .dataframe tbody tr th:only-of-type {\n        vertical-align: middle;\n    }\n\n    .dataframe tbody tr th {\n        vertical-align: top;\n    }\n\n    .dataframe thead th {\n        text-align: right;\n    }\n</style>\n<table border=\"1\" class=\"dataframe\">\n  <thead>\n    <tr style=\"text-align: right;\">\n      <th></th>\n      <th>iso_code</th>\n      <th>date</th>\n      <th>total_cases</th>\n      <th>total_deaths</th>\n      <th>total_deaths_per_million</th>\n    </tr>\n  </thead>\n  <tbody>\n    <tr>\n      <th>58768</th>\n      <td>VEN</td>\n      <td>2020-03-14</td>\n      <td>2.0</td>\n      <td>NaN</td>\n      <td>NaN</td>\n    </tr>\n    <tr>\n      <th>58769</th>\n      <td>VEN</td>\n      <td>2020-03-15</td>\n      <td>10.0</td>\n      <td>NaN</td>\n      <td>NaN</td>\n    </tr>\n    <tr>\n      <th>58770</th>\n      <td>VEN</td>\n      <td>2020-03-16</td>\n      <td>17.0</td>\n      <td>NaN</td>\n      <td>NaN</td>\n    </tr>\n    <tr>\n      <th>58771</th>\n      <td>VEN</td>\n      <td>2020-03-17</td>\n      <td>33.0</td>\n      <td>NaN</td>\n      <td>NaN</td>\n    </tr>\n    <tr>\n      <th>58772</th>\n      <td>VEN</td>\n      <td>2020-03-18</td>\n      <td>36.0</td>\n      <td>NaN</td>\n      <td>NaN</td>\n    </tr>\n    <tr>\n      <th>...</th>\n      <td>...</td>\n      <td>...</td>\n      <td>...</td>\n      <td>...</td>\n      <td>...</td>\n    </tr>\n    <tr>\n      <th>59073</th>\n      <td>VEN</td>\n      <td>2021-01-13</td>\n      <td>117811.0</td>\n      <td>1084.0</td>\n      <td>38.121</td>\n    </tr>\n    <tr>\n      <th>59074</th>\n      <td>VEN</td>\n      <td>2021-01-14</td>\n      <td>118415.0</td>\n      <td>1090.0</td>\n      <td>38.332</td>\n    </tr>\n    <tr>\n      <th>59075</th>\n      <td>VEN</td>\n      <td>2021-01-15</td>\n      <td>118856.0</td>\n      <td>1095.0</td>\n      <td>38.508</td>\n    </tr>\n    <tr>\n      <th>59076</th>\n      <td>VEN</td>\n      <td>2021-01-16</td>\n      <td>119306.0</td>\n      <td>1101.0</td>\n      <td>38.719</td>\n    </tr>\n    <tr>\n      <th>59077</th>\n      <td>VEN</td>\n      <td>2021-01-17</td>\n      <td>119803.0</td>\n      <td>1106.0</td>\n      <td>38.894</td>\n    </tr>\n  </tbody>\n</table>\n<p>310 rows × 5 columns</p>\n</div>"
     },
     "metadata": {},
     "execution_count": 9
    }
   ],
   "source": [
    "ven = world[world[\"iso_code\"]==\"VEN\"]\n",
    "\n",
    "ven = ven.drop(ven.columns.difference([\"iso_code\",\"date\",'total_cases',\"total_deaths\", 'total_deaths_per_million']), 1)\n",
    "ven"
   ]
  },
  {
   "cell_type": "code",
   "execution_count": null,
   "metadata": {},
   "outputs": [],
   "source": []
  }
 ]
}