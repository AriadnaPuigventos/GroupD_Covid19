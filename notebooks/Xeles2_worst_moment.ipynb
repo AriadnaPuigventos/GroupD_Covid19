{
 "metadata": {
  "language_info": {
   "codemirror_mode": {
    "name": "ipython",
    "version": 3
   },
   "file_extension": ".py",
   "mimetype": "text/x-python",
   "name": "python",
   "nbconvert_exporter": "python",
   "pygments_lexer": "ipython3",
   "version": "3.9.0-final"
  },
  "orig_nbformat": 2,
  "kernelspec": {
   "name": "python3",
   "display_name": "Python 3.9.0 64-bit",
   "metadata": {
    "interpreter": {
     "hash": "c8d5d7fe281331becef24f1e4ea1b077975784ba7fc5580d584a0d626ad22e12"
    }
   }
  }
 },
 "nbformat": 4,
 "nbformat_minor": 2,
 "cells": [
  {
   "cell_type": "code",
   "execution_count": 1,
   "metadata": {},
   "outputs": [],
   "source": [
    "import numpy as np \n",
    "import pandas as pd \n",
    "import matplotlib.pyplot as plt\n",
    "import seaborn as sns \n",
    "import plotly.graph_objects as go\n"
   ]
  },
  {
   "cell_type": "code",
   "execution_count": 2,
   "metadata": {},
   "outputs": [],
   "source": [
    "world = pd.read_csv(\"owid-covid-data.csv\", sep = \",\")"
   ]
  },
  {
   "cell_type": "code",
   "execution_count": 3,
   "metadata": {},
   "outputs": [
    {
     "output_type": "execute_result",
     "data": {
      "text/plain": [
       "iso_code                                   346\n",
       "continent                                  708\n",
       "location                                     0\n",
       "date                                         0\n",
       "total_cases                                585\n",
       "new_cases                                  592\n",
       "new_cases_smoothed                        1547\n",
       "total_deaths                              9048\n",
       "new_deaths                                9049\n",
       "new_deaths_smoothed                       1547\n",
       "total_cases_per_million                    931\n",
       "new_cases_per_million                      938\n",
       "new_cases_smoothed_per_million            1888\n",
       "total_deaths_per_million                  9381\n",
       "new_deaths_per_million                    9382\n",
       "new_deaths_smoothed_per_million           1888\n",
       "reproduction_rate                        11938\n",
       "icu_patients                             54154\n",
       "icu_patients_per_million                 54154\n",
       "hosp_patients                            53103\n",
       "hosp_patients_per_million                53103\n",
       "weekly_icu_admissions                    60119\n",
       "weekly_icu_admissions_per_million        60119\n",
       "weekly_hosp_admissions                   59743\n",
       "weekly_hosp_admissions_per_million       59743\n",
       "new_tests                                32672\n",
       "total_tests                              32853\n",
       "total_tests_per_thousand                 32853\n",
       "new_tests_per_thousand                   32672\n",
       "new_tests_smoothed                       29207\n",
       "new_tests_smoothed_per_thousand          29207\n",
       "positive_rate                            30965\n",
       "tests_per_case                           31440\n",
       "tests_units                              28050\n",
       "total_vaccinations                       60083\n",
       "new_vaccinations                         60252\n",
       "new_vaccinations_smoothed                59872\n",
       "total_vaccinations_per_hundred           60083\n",
       "new_vaccinations_smoothed_per_million    59872\n",
       "stringency_index                          6777\n",
       "population                                 346\n",
       "population_density                        1622\n",
       "median_age                                2949\n",
       "aged_65_older                             3619\n",
       "aged_70_older                             3276\n",
       "gdp_per_capita                            2920\n",
       "extreme_poverty                          21146\n",
       "cardiovasc_death_rate                     2319\n",
       "diabetes_prevalence                       1644\n",
       "female_smokers                           14609\n",
       "male_smokers                             15240\n",
       "handwashing_facilities                   31473\n",
       "hospital_beds_per_thousand                7063\n",
       "life_expectancy                            656\n",
       "human_development_index                   2662\n",
       "dtype: int64"
      ]
     },
     "metadata": {},
     "execution_count": 3
    }
   ],
   "source": [
    "world.isnull().sum()\n"
   ]
  },
  {
   "source": [
    "C6. Show different tendencies for each column (top 10 with less NaNs) in your dataset.\n",
    "Show, vertically, the start date and end date of the alarm state in each plot. If there\n",
    "is no alarm state, then show only the start date.\n",
    "\n",
    "\n",
    "B4. When are the worst moments to go to the countries? Answer this referring to the\n",
    "“per_million” columns.\n"
   ],
   "cell_type": "markdown",
   "metadata": {}
  },
  {
   "source": [
    "Extraigo las columnas necesarias para el análisis de tendencias por columnas y el posterior de peor momento para ir a los paises (columnas _per_million)\n",
    "\n",
    "Analisis de tendencias por columnas: columnas de estudio: Descarto las weekly_ por la cantidad de nulos. Los paises europeos tienen mejor calidad de datos que Turquia y Venezuela, cuya cantidad de NaNs me hace descartar algunas columnas mas."
   ],
   "cell_type": "markdown",
   "metadata": {}
  },
  {
   "source": [
    "Elimino las que tienen muchos valores nulos \n",
    "\n",
    "icu_patients                             54154\n",
    "icu_patients_per_million                 54154\n",
    "hosp_patients                            53103\n",
    "hosp_patients_per_million                53103\n",
    "weekly_icu_admissions                    60119\n",
    "weekly_icu_admissions_per_million        60119\n",
    "weekly_hosp_admissions                   59743\n",
    "weekly_hosp_admissions_per_million       59743\n",
    "new_tests                                32672\n",
    "total_tests                              32853\n",
    "total_tests_per_thousand                 32853\n",
    "new_tests_per_thousand                   32672\n",
    "new_tests_smoothed                       29207\n",
    "new_tests_smoothed_per_thousand          29207\n",
    "tests_per_case                           31440\n",
    "tests_units                              28050\n",
    "total_vaccinations                       60083\n",
    "new_vaccinations                         60252\n",
    "new_vaccinations_smoothed                59872\n",
    "total_vaccinations_per_hundred           60083\n",
    "new_vaccinations_smoothed_per_million    59872\n",
    "female_smokers                           14609\n",
    "male_smokers                             15240\n",
    "handwashing_facilities                   31473\n",
    "extreme_poverty                          21146\n",
    "\n",
    "Descarto las columnas con datos estimados (_smoothed), continent y location\n",
    "\n",
    "Descarto las columnas que tienen un valor fijo o que no proporcionan unformación de tendencias.\n",
    "median_age                                2949\n",
    "aged_65_older                             3619\n",
    "aged_70_older                             3276\n",
    "gdp_per_capita                            2920\n",
    "cardiovasc_death_rate                     2319\n",
    "diabetes_prevalence                       1644\n",
    "hospital_beds_per_thousand                7063\n",
    "life_expectancy                            656\n",
    "human_development_index                   2662"
   ],
   "cell_type": "markdown",
   "metadata": {}
  },
  {
   "source": [
    "#Columnas en el DataFrame de estudio de tendencias\n",
    "\n",
    "iso_code                                   346\n",
    "date                                         0\n",
    "total_cases                                585\n",
    "new_cases                                  592\n",
    "total_deaths                              9048\n",
    "new_deaths                                9049\n",
    "reproduction_rate                        11938\n",
    "stringency_index                          6777\n",
    "positive_rate                            30965 Uso esta columna a pesar de su alto valor de nulos\n",
    "total_cases_per_million                    931\n",
    "new_cases_per_million                      938\n",
    "total_deaths_per_million                  9381\n",
    "new_deaths_per_million                    9382\n",
    "icu_patients_per_million                 54154\n",
    "hosp_patients_per_million                53103\n"
   ],
   "cell_type": "markdown",
   "metadata": {}
  },
  {
   "cell_type": "code",
   "execution_count": 4,
   "metadata": {},
   "outputs": [],
   "source": [
    "world_cols = world.drop(world.columns.difference(['iso_code', 'date', 'total_cases', 'new_cases', 'total_deaths', 'new_deaths', 'total_cases_per_million','new_cases_per_million','total_deaths_per_million', 'new_deaths_per_million','reproduction_rate', 'icu_patients_per_million', 'hosp_patients_per_million', 'positive_rate', 'stringency_index']), 1)"
   ]
  },
  {
   "cell_type": "code",
   "execution_count": 5,
   "metadata": {},
   "outputs": [
    {
     "output_type": "execute_result",
     "data": {
      "text/plain": [
       "Index(['iso_code', 'date', 'total_cases', 'new_cases', 'total_deaths',\n",
       "       'new_deaths', 'total_cases_per_million', 'new_cases_per_million',\n",
       "       'total_deaths_per_million', 'new_deaths_per_million',\n",
       "       'reproduction_rate', 'icu_patients_per_million',\n",
       "       'hosp_patients_per_million', 'positive_rate', 'stringency_index'],\n",
       "      dtype='object')"
      ]
     },
     "metadata": {},
     "execution_count": 5
    }
   ],
   "source": [
    "world_cols.columns"
   ]
  },
  {
   "cell_type": "code",
   "execution_count": 6,
   "metadata": {},
   "outputs": [
    {
     "output_type": "execute_result",
     "data": {
      "text/plain": [
       "iso_code                       346\n",
       "date                             0\n",
       "total_cases                    585\n",
       "new_cases                      592\n",
       "total_deaths                  9048\n",
       "new_deaths                    9049\n",
       "total_cases_per_million        931\n",
       "new_cases_per_million          938\n",
       "total_deaths_per_million      9381\n",
       "new_deaths_per_million        9382\n",
       "reproduction_rate            11938\n",
       "icu_patients_per_million     54154\n",
       "hosp_patients_per_million    53103\n",
       "positive_rate                30965\n",
       "stringency_index              6777\n",
       "dtype: int64"
      ]
     },
     "metadata": {},
     "execution_count": 6
    }
   ],
   "source": [
    "world_cols.isnull().sum()"
   ]
  },
  {
   "cell_type": "code",
   "execution_count": 7,
   "metadata": {},
   "outputs": [],
   "source": [
    "gbr = world_cols[world_cols[\"iso_code\"]==\"GBR\"]\n",
    "prt = world_cols[world_cols[\"iso_code\"]==\"PRT\"]\n",
    "ven = world_cols[world_cols[\"iso_code\"]==\"VEN\"]\n",
    "tur = world_cols[world_cols[\"iso_code\"]==\"TUR\"]\n",
    "esp = world_cols[world_cols[\"iso_code\"]==\"ESP\"]"
   ]
  },
  {
   "cell_type": "code",
   "execution_count": 8,
   "metadata": {},
   "outputs": [],
   "source": [
    "gbr.dropna(how = 'any', inplace = True)\n",
    "esp.dropna(how = 'any', inplace = True)\n",
    "prt.dropna(how = 'any', inplace = True)\n",
    "tur.dropna(how = 'any', inplace = True)\n",
    "ven.dropna(how = 'any', inplace = True)"
   ]
  },
  {
   "cell_type": "code",
   "execution_count": 19,
   "metadata": {},
   "outputs": [
    {
     "output_type": "execute_result",
     "data": {
      "text/plain": [
       "Empty DataFrame\n",
       "Columns: [iso_code, date, total_cases, new_cases, total_deaths, new_deaths, total_cases_per_million, new_cases_per_million, total_deaths_per_million, new_deaths_per_million, reproduction_rate, icu_patients_per_million, hosp_patients_per_million, positive_rate, stringency_index]\n",
       "Index: []"
      ],
      "text/html": "<div>\n<style scoped>\n    .dataframe tbody tr th:only-of-type {\n        vertical-align: middle;\n    }\n\n    .dataframe tbody tr th {\n        vertical-align: top;\n    }\n\n    .dataframe thead th {\n        text-align: right;\n    }\n</style>\n<table border=\"1\" class=\"dataframe\">\n  <thead>\n    <tr style=\"text-align: right;\">\n      <th></th>\n      <th>iso_code</th>\n      <th>date</th>\n      <th>total_cases</th>\n      <th>new_cases</th>\n      <th>total_deaths</th>\n      <th>new_deaths</th>\n      <th>total_cases_per_million</th>\n      <th>new_cases_per_million</th>\n      <th>total_deaths_per_million</th>\n      <th>new_deaths_per_million</th>\n      <th>reproduction_rate</th>\n      <th>icu_patients_per_million</th>\n      <th>hosp_patients_per_million</th>\n      <th>positive_rate</th>\n      <th>stringency_index</th>\n    </tr>\n  </thead>\n  <tbody>\n  </tbody>\n</table>\n</div>"
     },
     "metadata": {},
     "execution_count": 19
    }
   ],
   "source": [
    "#VENEZUELA ME ESTA DANDO PROBLEMAS PORQUE HAY MUCHOS NULOS EN ESTAS COLUMNAS. TENGO QUE REVISAR SI LO HE HECHO BIEN\n",
    "ven"
   ]
  },
  {
   "cell_type": "code",
   "execution_count": 9,
   "metadata": {},
   "outputs": [
    {
     "output_type": "execute_result",
     "data": {
      "text/plain": [
       "iso_code                     0\n",
       "date                         0\n",
       "total_cases                  0\n",
       "new_cases                    0\n",
       "total_deaths                 0\n",
       "new_deaths                   0\n",
       "total_cases_per_million      0\n",
       "new_cases_per_million        0\n",
       "total_deaths_per_million     0\n",
       "new_deaths_per_million       0\n",
       "reproduction_rate            0\n",
       "icu_patients_per_million     0\n",
       "hosp_patients_per_million    0\n",
       "positive_rate                0\n",
       "stringency_index             0\n",
       "dtype: int64"
      ]
     },
     "metadata": {},
     "execution_count": 9
    }
   ],
   "source": [
    "# Columnas de estudio de los 5 paises analizados\n",
    "countries_cols = pd.concat([gbr, prt, ven, tur, esp])\n",
    "countries_cols.columns\n",
    "countries_cols.isnull().sum()"
   ]
  },
  {
   "cell_type": "code",
   "execution_count": 71,
   "metadata": {},
   "outputs": [
    {
     "output_type": "execute_result",
     "data": {
      "text/plain": [
       "iso_code                      object\n",
       "date                          object\n",
       "total_cases                  float64\n",
       "new_cases                    float64\n",
       "total_deaths                 float64\n",
       "new_deaths                   float64\n",
       "total_cases_per_million      float64\n",
       "new_cases_per_million        float64\n",
       "total_deaths_per_million     float64\n",
       "new_deaths_per_million       float64\n",
       "reproduction_rate            float64\n",
       "icu_patients_per_million     float64\n",
       "hosp_patients_per_million    float64\n",
       "positive_rate                float64\n",
       "stringency_index             float64\n",
       "dtype: object"
      ]
     },
     "metadata": {},
     "execution_count": 71
    }
   ],
   "source": [
    "countries_cols.dtypes"
   ]
  },
  {
   "cell_type": "code",
   "execution_count": 23,
   "metadata": {},
   "outputs": [
    {
     "output_type": "execute_result",
     "data": {
      "text/plain": [
       "0       2020-02-24\n",
       "1       2020-02-25\n",
       "2       2020-02-26\n",
       "3       2020-02-27\n",
       "4       2020-02-28\n",
       "           ...    \n",
       "60689   2021-01-13\n",
       "60690   2021-01-14\n",
       "60691   2021-01-15\n",
       "60692   2021-01-16\n",
       "60693   2021-01-17\n",
       "Name: date, Length: 60694, dtype: datetime64[ns]"
      ]
     },
     "metadata": {},
     "execution_count": 23
    }
   ],
   "source": [
    "##?????\n",
    "# world['date'] = pd.to_datetime(world['date'])\n",
    "world['date']"
   ]
  },
  {
   "source": [
    "# GRAFICAS POR COLUMNAS"
   ],
   "cell_type": "markdown",
   "metadata": {}
  },
  {
   "cell_type": "code",
   "execution_count": 10,
   "metadata": {},
   "outputs": [
    {
     "output_type": "execute_result",
     "data": {
      "text/plain": [
       "Index(['iso_code', 'date', 'total_cases', 'new_cases', 'total_deaths',\n",
       "       'new_deaths', 'total_cases_per_million', 'new_cases_per_million',\n",
       "       'total_deaths_per_million', 'new_deaths_per_million',\n",
       "       'reproduction_rate', 'icu_patients_per_million',\n",
       "       'hosp_patients_per_million', 'positive_rate', 'stringency_index'],\n",
       "      dtype='object')"
      ]
     },
     "metadata": {},
     "execution_count": 10
    }
   ],
   "source": [
    "countries_cols.columns\n",
    "\n"
   ]
  },
  {
   "cell_type": "code",
   "execution_count": 46,
   "metadata": {},
   "outputs": [
    {
     "output_type": "display_data",
     "data": {
      "application/vnd.plotly.v1+json": {
       "config": {
        "plotlyServerURL": "https://plot.ly"
       },
       "data": [
        {
         "type": "bar",
         "x": [
          "2020-04-07",
          "2020-04-08",
          "2020-04-09",
          "2020-04-10",
          "2020-04-11",
          "2020-04-12",
          "2020-04-13",
          "2020-04-14",
          "2020-04-15",
          "2020-04-16",
          "2020-04-17",
          "2020-04-18",
          "2020-04-19",
          "2020-04-20",
          "2020-04-21",
          "2020-04-22",
          "2020-04-23",
          "2020-04-24",
          "2020-04-25",
          "2020-04-26",
          "2020-04-27",
          "2020-04-28",
          "2020-04-29",
          "2020-04-30",
          "2020-05-01",
          "2020-05-02",
          "2020-05-03",
          "2020-05-04",
          "2020-05-05",
          "2020-05-06",
          "2020-05-07",
          "2020-05-08",
          "2020-05-09",
          "2020-05-10",
          "2020-05-11",
          "2020-05-12",
          "2020-05-13",
          "2020-05-14",
          "2020-05-15",
          "2020-05-16",
          "2020-05-17",
          "2020-05-18",
          "2020-05-19",
          "2020-05-20",
          "2020-05-21",
          "2020-05-22",
          "2020-05-23",
          "2020-05-24",
          "2020-05-25",
          "2020-05-26",
          "2020-05-27",
          "2020-05-28",
          "2020-05-29",
          "2020-05-30",
          "2020-05-31",
          "2020-06-01",
          "2020-06-02",
          "2020-06-03",
          "2020-06-04",
          "2020-06-05",
          "2020-06-06",
          "2020-06-07",
          "2020-06-08",
          "2020-06-09",
          "2020-06-10",
          "2020-06-11",
          "2020-06-12",
          "2020-06-13",
          "2020-06-14",
          "2020-06-15",
          "2020-06-16",
          "2020-06-17",
          "2020-06-18",
          "2020-06-19",
          "2020-06-20",
          "2020-06-21",
          "2020-06-22",
          "2020-06-23",
          "2020-06-24",
          "2020-06-25",
          "2020-06-26",
          "2020-06-27",
          "2020-06-28",
          "2020-06-29",
          "2020-06-30",
          "2020-07-01",
          "2020-07-02",
          "2020-07-03",
          "2020-07-04",
          "2020-07-05",
          "2020-07-06",
          "2020-07-07",
          "2020-07-08",
          "2020-07-09",
          "2020-07-10",
          "2020-07-11",
          "2020-07-12",
          "2020-07-13",
          "2020-07-14",
          "2020-07-15",
          "2020-07-16",
          "2020-07-17",
          "2020-07-18",
          "2020-07-19",
          "2020-07-20",
          "2020-07-21",
          "2020-07-22",
          "2020-07-23",
          "2020-07-24",
          "2020-07-25",
          "2020-07-26",
          "2020-07-27",
          "2020-07-28",
          "2020-07-29",
          "2020-07-30",
          "2020-07-31",
          "2020-08-01",
          "2020-08-02",
          "2020-08-03",
          "2020-08-04",
          "2020-08-05",
          "2020-08-06",
          "2020-08-07",
          "2020-08-08",
          "2020-08-09",
          "2020-08-10",
          "2020-08-11",
          "2020-08-12",
          "2020-08-13",
          "2020-08-14",
          "2020-08-15",
          "2020-08-16",
          "2020-08-17",
          "2020-08-18",
          "2020-08-19",
          "2020-08-20",
          "2020-08-21",
          "2020-08-22",
          "2020-08-23",
          "2020-08-24",
          "2020-08-25",
          "2020-08-26",
          "2020-08-27",
          "2020-08-28",
          "2020-08-29",
          "2020-08-30",
          "2020-08-31",
          "2020-09-01",
          "2020-09-02",
          "2020-09-03",
          "2020-09-04",
          "2020-09-05",
          "2020-09-06",
          "2020-09-07",
          "2020-09-08",
          "2020-09-09",
          "2020-09-10",
          "2020-09-11",
          "2020-09-12",
          "2020-09-13",
          "2020-09-14",
          "2020-09-15",
          "2020-09-16",
          "2020-09-17",
          "2020-09-18",
          "2020-09-19",
          "2020-09-20",
          "2020-09-21",
          "2020-09-22",
          "2020-09-23",
          "2020-09-24",
          "2020-09-25",
          "2020-09-26",
          "2020-09-27",
          "2020-09-28",
          "2020-09-29",
          "2020-09-30",
          "2020-10-01",
          "2020-10-02",
          "2020-10-03",
          "2020-10-04",
          "2020-10-05",
          "2020-10-06",
          "2020-10-07",
          "2020-10-08",
          "2020-10-09",
          "2020-10-10",
          "2020-10-11",
          "2020-10-12",
          "2020-10-13",
          "2020-10-14",
          "2020-10-15",
          "2020-10-16",
          "2020-10-17",
          "2020-10-18",
          "2020-10-19",
          "2020-10-20",
          "2020-10-21",
          "2020-10-22",
          "2020-10-23",
          "2020-10-24",
          "2020-10-25",
          "2020-10-26",
          "2020-10-27",
          "2020-10-28",
          "2020-10-29",
          "2020-10-30",
          "2020-10-31",
          "2020-11-01",
          "2020-11-02",
          "2020-11-03",
          "2020-11-04",
          "2020-11-05",
          "2020-11-06",
          "2020-11-07",
          "2020-11-08",
          "2020-11-09",
          "2020-11-10",
          "2020-11-11",
          "2020-11-12",
          "2020-11-13",
          "2020-11-14",
          "2020-11-15",
          "2020-11-16",
          "2020-11-17",
          "2020-11-18",
          "2020-11-19",
          "2020-11-20",
          "2020-11-21",
          "2020-11-22",
          "2020-11-23",
          "2020-11-24",
          "2020-11-25",
          "2020-11-26",
          "2020-11-27",
          "2020-11-28",
          "2020-11-29",
          "2020-11-30",
          "2020-12-01",
          "2020-12-02",
          "2020-12-03",
          "2020-12-04",
          "2020-12-05",
          "2020-12-06",
          "2020-12-07",
          "2020-12-08",
          "2020-12-09",
          "2020-12-10",
          "2020-12-11",
          "2020-12-12",
          "2020-12-13",
          "2020-12-14",
          "2020-12-15",
          "2020-12-16",
          "2020-12-17",
          "2020-12-18",
          "2020-12-19",
          "2020-12-20",
          "2020-12-21",
          "2020-12-22",
          "2020-12-23",
          "2020-12-24",
          "2020-12-25",
          "2020-12-26",
          "2020-12-27",
          "2020-12-28",
          "2020-12-29",
          "2020-12-30",
          "2020-12-31",
          "2021-01-01",
          "2021-01-02",
          "2021-01-03",
          "2021-01-04",
          "2021-01-05",
          "2021-01-06",
          "2021-01-07",
          "2021-01-08",
          "2020-03-17",
          "2020-03-18",
          "2020-03-19",
          "2020-03-20",
          "2020-03-21",
          "2020-03-22",
          "2020-03-23",
          "2020-03-24",
          "2020-03-25",
          "2020-03-26",
          "2020-03-27",
          "2020-03-28",
          "2020-03-29",
          "2020-03-30",
          "2020-03-31",
          "2020-04-01",
          "2020-04-02",
          "2020-04-03",
          "2020-04-04",
          "2020-04-05",
          "2020-04-06",
          "2020-04-07",
          "2020-04-08",
          "2020-04-09",
          "2020-04-10",
          "2020-04-11",
          "2020-04-12",
          "2020-04-13",
          "2020-04-14",
          "2020-04-15",
          "2020-04-16",
          "2020-04-17",
          "2020-04-18",
          "2020-04-19",
          "2020-04-20",
          "2020-04-21",
          "2020-04-22",
          "2020-04-23",
          "2020-04-24",
          "2020-04-25",
          "2020-04-26",
          "2020-04-27",
          "2020-04-28",
          "2020-04-29",
          "2020-04-30",
          "2020-05-01",
          "2020-05-02",
          "2020-05-03",
          "2020-05-04",
          "2020-05-05",
          "2020-05-06",
          "2020-05-07",
          "2020-05-08",
          "2020-05-09",
          "2020-05-10",
          "2020-05-11",
          "2020-05-12",
          "2020-05-13",
          "2020-05-14",
          "2020-05-15",
          "2020-05-16",
          "2020-05-17",
          "2020-05-18",
          "2020-05-19",
          "2020-05-20",
          "2020-05-21",
          "2020-05-22",
          "2020-05-23",
          "2020-05-24",
          "2020-05-25",
          "2020-05-26",
          "2020-05-27",
          "2020-05-28",
          "2020-05-29",
          "2020-05-30",
          "2020-05-31",
          "2020-06-01",
          "2020-06-02",
          "2020-06-03",
          "2020-06-04",
          "2020-06-05",
          "2020-06-06",
          "2020-06-07",
          "2020-06-08",
          "2020-06-09",
          "2020-06-10",
          "2020-06-11",
          "2020-06-12",
          "2020-06-13",
          "2020-06-14",
          "2020-06-15",
          "2020-06-16",
          "2020-06-17",
          "2020-06-18",
          "2020-06-19",
          "2020-06-20",
          "2020-06-21",
          "2020-06-22",
          "2020-06-23",
          "2020-06-24",
          "2020-06-25",
          "2020-06-26",
          "2020-06-27",
          "2020-06-28",
          "2020-06-29",
          "2020-06-30",
          "2020-07-01",
          "2020-07-02",
          "2020-07-03",
          "2020-07-04",
          "2020-07-05",
          "2020-07-06",
          "2020-07-07",
          "2020-07-08",
          "2020-07-09",
          "2020-07-10",
          "2020-07-11",
          "2020-07-12",
          "2020-07-13",
          "2020-07-14",
          "2020-07-15",
          "2020-07-16",
          "2020-07-17",
          "2020-07-18",
          "2020-07-19",
          "2020-07-20",
          "2020-07-21",
          "2020-07-22",
          "2020-07-23",
          "2020-07-24",
          "2020-07-25",
          "2020-07-26",
          "2020-07-27",
          "2020-07-28",
          "2020-07-29",
          "2020-07-30",
          "2020-07-31",
          "2020-08-01",
          "2020-08-02",
          "2020-08-03",
          "2020-08-04",
          "2020-08-05",
          "2020-08-06",
          "2020-08-07",
          "2020-08-08",
          "2020-08-09",
          "2020-08-10",
          "2020-08-11",
          "2020-08-12",
          "2020-08-13",
          "2020-08-14",
          "2020-08-15",
          "2020-08-16",
          "2020-08-17",
          "2020-08-18",
          "2020-08-19",
          "2020-08-20",
          "2020-08-21",
          "2020-08-22",
          "2020-08-23",
          "2020-08-24",
          "2020-08-25",
          "2020-08-26",
          "2020-08-27",
          "2020-08-28",
          "2020-08-29",
          "2020-08-30",
          "2020-08-31",
          "2020-09-01",
          "2020-09-02",
          "2020-09-03",
          "2020-09-04",
          "2020-09-05",
          "2020-09-06",
          "2020-09-07",
          "2020-09-08",
          "2020-09-09",
          "2020-09-10",
          "2020-09-11",
          "2020-09-12",
          "2020-09-13",
          "2020-09-14",
          "2020-09-15",
          "2020-09-16",
          "2020-09-17",
          "2020-09-18",
          "2020-09-19",
          "2020-09-20",
          "2020-09-21",
          "2020-09-22",
          "2020-09-23",
          "2020-09-24",
          "2020-09-25",
          "2020-09-26",
          "2020-09-27",
          "2020-09-28",
          "2020-09-29",
          "2020-09-30",
          "2020-10-01",
          "2020-10-02",
          "2020-10-03",
          "2020-10-04",
          "2020-10-05",
          "2020-10-06",
          "2020-10-07",
          "2020-10-08",
          "2020-10-09",
          "2020-10-10",
          "2020-10-11",
          "2020-10-12",
          "2020-10-13",
          "2020-10-14",
          "2020-10-15",
          "2020-10-16",
          "2020-10-17",
          "2020-10-18",
          "2020-10-19",
          "2020-10-20",
          "2020-10-21",
          "2020-10-22",
          "2020-10-23",
          "2020-10-24",
          "2020-10-25",
          "2020-10-26",
          "2020-10-27",
          "2020-10-28",
          "2020-10-29",
          "2020-10-30",
          "2020-10-31",
          "2020-11-01",
          "2020-11-02",
          "2020-11-03",
          "2020-11-04",
          "2020-11-05",
          "2020-11-06",
          "2020-11-07",
          "2020-11-08",
          "2020-11-09",
          "2020-11-10",
          "2020-11-11",
          "2020-11-12",
          "2020-11-13",
          "2020-11-14",
          "2020-11-15",
          "2020-11-16",
          "2020-11-17",
          "2020-11-18",
          "2020-11-19",
          "2020-11-20",
          "2020-11-21",
          "2020-11-22",
          "2020-11-23",
          "2020-11-24",
          "2020-11-25",
          "2020-11-26",
          "2020-11-27",
          "2020-11-28",
          "2020-11-29",
          "2020-11-30",
          "2020-12-01",
          "2020-12-02",
          "2020-12-03",
          "2020-12-04",
          "2020-12-05",
          "2020-12-06",
          "2020-12-07",
          "2020-12-08",
          "2020-12-09",
          "2020-12-10",
          "2020-12-11",
          "2020-12-12",
          "2020-12-13",
          "2020-12-14",
          "2020-12-15",
          "2020-12-16",
          "2020-12-17",
          "2020-12-18",
          "2020-12-19",
          "2020-12-20",
          "2020-12-21",
          "2020-12-22",
          "2020-12-23",
          "2020-12-24",
          "2020-12-25",
          "2020-12-26",
          "2020-12-27",
          "2020-12-28",
          "2020-12-29",
          "2020-12-30",
          "2020-12-31",
          "2021-01-01",
          "2021-01-02",
          "2021-01-03",
          "2021-01-04",
          "2021-01-05",
          "2021-01-06",
          "2021-01-07",
          "2021-01-08",
          "2020-08-20",
          "2020-08-21",
          "2020-08-24",
          "2020-08-25",
          "2020-08-26",
          "2020-08-27",
          "2020-08-28",
          "2020-08-31",
          "2020-09-01",
          "2020-09-02",
          "2020-09-03",
          "2020-09-04",
          "2020-09-07",
          "2020-09-08",
          "2020-09-09",
          "2020-09-10",
          "2020-09-11",
          "2020-09-14",
          "2020-09-15",
          "2020-09-16",
          "2020-09-17",
          "2020-09-18",
          "2020-09-21",
          "2020-09-22",
          "2020-09-23",
          "2020-09-24",
          "2020-09-25",
          "2020-09-28",
          "2020-09-29",
          "2020-09-30",
          "2020-10-01",
          "2020-10-02",
          "2020-10-05",
          "2020-10-06",
          "2020-10-07",
          "2020-10-08",
          "2020-10-09",
          "2020-10-12",
          "2020-10-13",
          "2020-10-14",
          "2020-10-15",
          "2020-10-16",
          "2020-10-19",
          "2020-10-20",
          "2020-10-21",
          "2020-10-22",
          "2020-10-23",
          "2020-10-26",
          "2020-10-27",
          "2020-10-28",
          "2020-10-29",
          "2020-10-30",
          "2020-11-02",
          "2020-11-03",
          "2020-11-04",
          "2020-11-05",
          "2020-11-06",
          "2020-11-09",
          "2020-11-10",
          "2020-11-11",
          "2020-11-12",
          "2020-11-13",
          "2020-11-16",
          "2020-11-17",
          "2020-11-18",
          "2020-11-19",
          "2020-11-20",
          "2020-11-23",
          "2020-11-24",
          "2020-11-25",
          "2020-11-26",
          "2020-11-27",
          "2020-11-30",
          "2020-12-01",
          "2020-12-02",
          "2020-12-03",
          "2020-12-04",
          "2020-12-09",
          "2020-12-10",
          "2020-12-11",
          "2020-12-14",
          "2020-12-15",
          "2020-12-16",
          "2020-12-17",
          "2020-12-18",
          "2020-12-21",
          "2020-12-22",
          "2020-12-23",
          "2020-12-24",
          "2020-12-28",
          "2020-12-29",
          "2020-12-30",
          "2020-12-31",
          "2021-01-04",
          "2021-01-05",
          "2021-01-07"
         ],
         "y": [
          1063.901,
          1139.955,
          1212.223,
          1276.552,
          1329.773,
          1381.905,
          1443.8470000000002,
          1507.896,
          1583.021,
          1661.727,
          1735.2320000000002,
          1804.997,
          1861.8570000000002,
          1933.536,
          2003.874,
          2084.966,
          2161.093,
          2234.466,
          2289.9120000000003,
          2341.072,
          2410.364,
          2479.996,
          2560.277,
          2633.4,
          2703.0759999999996,
          2750.655,
          2794.508,
          2844.342,
          2898.683,
          2955.1890000000003,
          3010.738,
          3055.696,
          3087.367,
          3121.571,
          3174.4390000000003,
          3224.45,
          3273.0609999999997,
          3311.625,
          3348.761,
          3379.283,
          3406.1809999999996,
          3444.1409999999996,
          3489.188,
          3529.137,
          3566.759,
          3596.824,
          3619.038,
          3638.998,
          3662.758,
          3687.196,
          3713.844,
          3739.4159999999997,
          3761.63,
          3777.9359999999997,
          3793.698,
          3814.969,
          3836.623,
          3856.494,
          3874.7309999999998,
          3891.0820000000003,
          3902.778,
          3913.355,
          3929.47,
          3946.5429999999997,
          3964.013,
          3978.847,
          3994.373,
          4007.453,
          4019.341,
          4034.528,
          4050.4809999999998,
          4065.197,
          4080.222,
          4094.717,
          4104.528,
          4113.72,
          4126.859,
          4139.852,
          4151.298,
          4161.565,
          4170.978,
          4180.317,
          4186.312,
          4195.445,
          4201.396,
          4202.3240000000005,
          4202.413,
          4209.807,
          4219.014,
          4226.659000000001,
          4231.947,
          4240.55,
          4249.933,
          4259.405,
          4267.124,
          4279.292,
          4288.866,
          4296.777,
          4315.043,
          4322.968,
          4332.498,
          4342.6179999999995,
          4354.83,
          4365.524,
          4374.156,
          4380.712,
          4389.005,
          4400.48,
          4411.808,
          4423.15,
          4434.198,
          4444.333,
          4452.479,
          4464.293,
          4476.77,
          4489.777,
          4501.105,
          4512.108,
          4525.984,
          4535.928,
          4549.274,
          4563.474,
          4576.731,
          4588,
          4604.395,
          4616.445,
          4633.385,
          4648.69,
          4665.601,
          4687.122,
          4702.472,
          4718.837,
          4729.458,
          4745.853,
          4758.094,
          4775.697,
          4791.312,
          4810.933,
          4826.37,
          4840.762,
          4858.454000000001,
          4875.335,
          4898.049,
          4917.155,
          4933.505999999999,
          4959.314,
          4980.157999999999,
          4999.779,
          5022.081,
          5048.287,
          5077.424,
          5104.335999999999,
          5148.337,
          5191.807,
          5228.353,
          5267.846,
          5311.021,
          5363.226,
          5414.842,
          5464.013000000001,
          5502.681,
          5548.566,
          5607.592,
          5657.823,
          5721.592,
          5786.8330000000005,
          5844.268,
          5908.758000000001,
          5981.469,
          6072.607,
          6170.477,
          6271.794,
          6360.914000000001,
          6444.878000000001,
          6504.625,
          6610.036999999999,
          6714.875,
          6816.943,
          6919.968000000001,
          7109.772,
          7448.06,
          7633.709,
          7848.142,
          8056.918000000001,
          8315.44,
          8520.018,
          8743.555,
          8933.314,
          9139.704,
          9393.806999999999,
          9684.75,
          9964.572,
          10195.209,
          10433.638,
          10683.97,
          10961.346000000001,
          11276.065,
          11669.475,
          11982.601999999999,
          12285.448,
          12624.738000000001,
          12916.358999999999,
          13224.228000000001,
          13561.912,
          13925.963,
          14265.916000000001,
          14625.607,
          14948.486,
          15291.133999999998,
          15570.528999999999,
          15866.29,
          16237.589,
          16593.538,
          16937.085,
          17305.04,
          17608.195,
          17923.385,
          18224.64,
          18563.444,
          19057.168,
          19459.549,
          19855.448,
          20223.373,
          20538.828999999998,
          20834.324,
          21123.706000000002,
          21461.567000000003,
          21760.214,
          22053.662,
          22328.638,
          22556.446,
          22723.55,
          22992.545,
          23251.17,
          23469.492000000002,
          23703.575,
          23882.757999999998,
          24065.83,
          24264.647999999997,
          24503.828999999998,
          24724.065,
          24965.382,
          25194.869,
          25450.769,
          25668.397999999997,
          25850.851000000002,
          26095.88,
          26406.194,
          26727.085,
          27044.588,
          27317.707000000002,
          27617.872000000003,
          27891.405,
          28264.088,
          28787.495,
          29208.2,
          29609.593999999997,
          30141.132,
          30634.857000000004,
          31178.872000000003,
          31759.065,
          32335.737,
          32818.945,
          33331.392,
          33810.032,
          34420.762,
          35205.534,
          35945.583,
          36770.922999999995,
          37558.39,
          38410.598,
          39223.092000000004,
          40091.062000000005,
          40990.909,
          41912.395,
          42689.977999999996,
          43694.485,
          43.93600000000001,
          43.93600000000001,
          76.986,
          100.03200000000001,
          125.531,
          156.91299999999998,
          202.02599999999998,
          231.643,
          293.722,
          347.56300000000005,
          418.56699999999995,
          507.026,
          584.6990000000001,
          628.438,
          729.942,
          809.183,
          885.972,
          969.529,
          1032.098,
          1106.0430000000001,
          1150.371,
          1220.198,
          1288.749,
          1368.6770000000001,
          1517.3529999999998,
          1567.859,
          1626.505,
          1660.7320000000002,
          1711.141,
          1774.2,
          1847.753,
          1865.504,
          1930.525,
          1981.62,
          2046.0529999999999,
          2096.657,
          2155.794,
          2192.178,
          2235.722,
          2294.074,
          2340.363,
          2356.349,
          2385.28,
          2403.2270000000003,
          2456.185,
          2486.195,
          2470.405,
          2479.428,
          2503.161,
          2520.618,
          2567.692,
          2619.9629999999997,
          2674.197,
          2687.73,
          2704.893,
          2714.5040000000004,
          2737.452,
          2758.93,
          2777.2690000000002,
          2803.16,
          2825.422,
          2847.586,
          2864.552,
          2886.422,
          2908.782,
          2933.4959999999996,
          2961.74,
          2988.3179999999998,
          3003.224,
          3019.406,
          3040.884,
          3068.8340000000003,
          3098.647,
          3132.972,
          3158.176,
          3187.304,
          3206.9179999999997,
          3226.042,
          3261.935,
          3294.397,
          3331.37,
          3368.833,
          3402.373,
          3421.203,
          3462.49,
          3491.323,
          3521.725,
          3548.204,
          3575.958,
          3598.22,
          3632.153,
          3661.574,
          3694.526,
          3735.422,
          3772.198,
          3809.171,
          3837.808,
          3863.208,
          3897.042,
          3933.034,
          3963.535,
          4007.764,
          4039.441,
          4084.26,
          4110.347,
          4132.805,
          4163.501,
          4195.668,
          4232.347,
          4272.85,
          4305.017,
          4327.77,
          4355.916,
          4399.361,
          4440.355,
          4479.78,
          4532.934,
          4561.473,
          4591.482,
          4614.333,
          4651.109,
          4684.355,
          4714.954000000001,
          4745.65,
          4769.775,
          4783.015,
          4795.47,
          4820.184,
          4842.642,
          4873.338,
          4899.130999999999,
          4919.627,
          4932.867,
          4943.753,
          4963.661,
          4988.669,
          5008.6759999999995,
          5032.017,
          5047.022,
          5057.417,
          5068.401,
          5084.779,
          5105.668,
          5134.108,
          5152.35,
          5165.197,
          5180.594,
          5192.363,
          5219.626,
          5251.499,
          5274.545999999999,
          5293.964,
          5305.831,
          5318.776,
          5339.763000000001,
          5364.575,
          5393.1140000000005,
          5414.590999999999,
          5438.226,
          5452.446999999999,
          5464.509,
          5483.339,
          5518.840999999999,
          5557.971,
          5597.297,
          5633.976,
          5665.358,
          5689.2880000000005,
          5711.941999999999,
          5750.19,
          5791.183000000001,
          5831,
          5878.6630000000005,
          5909.555,
          5933.975,
          5972.026,
          6035.38,
          6092.751,
          6160.126,
          6208.866999999999,
          6274.869000000001,
          6334.986,
          6376.6669999999995,
          6435.999,
          6511.514,
          6588.009,
          6671.271,
          6725.406999999999,
          6786.505,
          6831.911999999999,
          6910.564,
          6978.331,
          7066.496999999999,
          7153.191999999999,
          7218.409000000001,
          7260.089,
          7327.562,
          7408.47,
          7492.223000000001,
          7579.31,
          7673.7519999999995,
          7762.408,
          7834.392,
          7876.268,
          7968.847,
          8094.182,
          8230.893,
          8392.317,
          8499.215,
          8621.705,
          8740.175,
          8943.378,
          9149.424,
          9405.193000000001,
          9616.34,
          9798.359,
          9989.5,
          10173.481,
          10422.09,
          10742.782,
          11027.089,
          11386.911,
          11639.64,
          11879.62,
          12203.155,
          12591.516000000001,
          13005.767,
          13462.385,
          13855.355,
          14155.648000000001,
          14401.413999999999,
          14656.006000000001,
          15391.243,
          15823.736,
          16368.028999999999,
          17019.22,
          17586.462,
          17988.16,
          18362.497,
          18846.477,
          19419.112,
          20071.578,
          20719.042,
          21310.9,
          22131.851000000002,
          22568.463,
          23146.197999999997,
          23832.106,
          24468.487999999998,
          25103.202,
          25572.766,
          25969.363999999998,
          26353.703999999998,
          26872.499,
          27498.486,
          28032.382999999998,
          28509.792,
          28911.197,
          29231.104,
          29466.572,
          29798.444,
          30168.367000000002,
          30652.347,
          31249.304,
          31625.307999999997,
          31879.998,
          32164.894,
          32566.69,
          32874.045,
          33372.245,
          33805.031,
          34201.63,
          34416.797999999995,
          34675.508,
          35138.403,
          35562.068999999996,
          35987.305,
          36363.406,
          36690.375,
          36896.225,
          37135.126000000004,
          37586.448,
          38015.803,
          38422.404,
          38541.462,
          38696.12,
          38901.383,
          39228.547,
          39821.778,
          40569.763999999996,
          41251.455,
          41569.303,
          41901.175,
          42329.64599999999,
          42815.685,
          43799.042,
          44772.592000000004,
          45770.560999999994,
          8082.724,
          8256.995,
          8671.541,
          8823.76,
          8979.809000000001,
          9186.376,
          9395.530999999999,
          9899.693000000001,
          10073.258,
          10256.79,
          10448.407,
          10672.47,
          11240.54,
          11432.264,
          11621.891000000001,
          11852.114,
          12112.686000000002,
          12698.808,
          12900.648000000001,
          13140.046,
          13381.54,
          13689.295,
          14361.483,
          14592.454,
          14833.905,
          15061.753,
          15324.229,
          16004.052,
          16004.052,
          16451.536,
          16652.991,
          16895.213,
          17397.407,
          17654.023,
          17878.406000000003,
          18144.112,
          18417.624,
          19013.413,
          19165.654,
          19421.671000000002,
          19706.519,
          20031.32,
          20841.697,
          21138.415,
          21501.437,
          21950.289,
          22374.866,
          23491.072999999997,
          23885,
          24307.737999999998,
          24812.071,
          25359.502,
          26536.257999999998,
          26935.554,
          27471.157000000003,
          27939.73,
          28421.306,
          29541.748,
          29541.748,
          30322.224,
          30739.529,
          31196.616,
          32015.206000000002,
          32296.653,
          32624.277000000002,
          32971.472,
          33295.631,
          33849.286,
          34110.82,
          34329.45,
          34592.29,
          34824.416,
          35251.73,
          35428.333,
          35627.906,
          35844.504,
          36031.544,
          36618.735,
          36788.878,
          37013.86,
          37469.621,
          37690.518,
          37927.457,
          38186.917,
          38439.617999999995,
          38910.436,
          39138.306000000004,
          39403.22,
          39674.037000000004,
          40197.235,
          40498.573,
          40856.098,
          41242.091,
          41896.12,
          42403.02,
          43309.024000000005
         ]
        }
       ],
       "layout": {
        "template": {
         "data": {
          "bar": [
           {
            "error_x": {
             "color": "#2a3f5f"
            },
            "error_y": {
             "color": "#2a3f5f"
            },
            "marker": {
             "line": {
              "color": "#E5ECF6",
              "width": 0.5
             }
            },
            "type": "bar"
           }
          ],
          "barpolar": [
           {
            "marker": {
             "line": {
              "color": "#E5ECF6",
              "width": 0.5
             }
            },
            "type": "barpolar"
           }
          ],
          "carpet": [
           {
            "aaxis": {
             "endlinecolor": "#2a3f5f",
             "gridcolor": "white",
             "linecolor": "white",
             "minorgridcolor": "white",
             "startlinecolor": "#2a3f5f"
            },
            "baxis": {
             "endlinecolor": "#2a3f5f",
             "gridcolor": "white",
             "linecolor": "white",
             "minorgridcolor": "white",
             "startlinecolor": "#2a3f5f"
            },
            "type": "carpet"
           }
          ],
          "choropleth": [
           {
            "colorbar": {
             "outlinewidth": 0,
             "ticks": ""
            },
            "type": "choropleth"
           }
          ],
          "contour": [
           {
            "colorbar": {
             "outlinewidth": 0,
             "ticks": ""
            },
            "colorscale": [
             [
              0,
              "#0d0887"
             ],
             [
              0.1111111111111111,
              "#46039f"
             ],
             [
              0.2222222222222222,
              "#7201a8"
             ],
             [
              0.3333333333333333,
              "#9c179e"
             ],
             [
              0.4444444444444444,
              "#bd3786"
             ],
             [
              0.5555555555555556,
              "#d8576b"
             ],
             [
              0.6666666666666666,
              "#ed7953"
             ],
             [
              0.7777777777777778,
              "#fb9f3a"
             ],
             [
              0.8888888888888888,
              "#fdca26"
             ],
             [
              1,
              "#f0f921"
             ]
            ],
            "type": "contour"
           }
          ],
          "contourcarpet": [
           {
            "colorbar": {
             "outlinewidth": 0,
             "ticks": ""
            },
            "type": "contourcarpet"
           }
          ],
          "heatmap": [
           {
            "colorbar": {
             "outlinewidth": 0,
             "ticks": ""
            },
            "colorscale": [
             [
              0,
              "#0d0887"
             ],
             [
              0.1111111111111111,
              "#46039f"
             ],
             [
              0.2222222222222222,
              "#7201a8"
             ],
             [
              0.3333333333333333,
              "#9c179e"
             ],
             [
              0.4444444444444444,
              "#bd3786"
             ],
             [
              0.5555555555555556,
              "#d8576b"
             ],
             [
              0.6666666666666666,
              "#ed7953"
             ],
             [
              0.7777777777777778,
              "#fb9f3a"
             ],
             [
              0.8888888888888888,
              "#fdca26"
             ],
             [
              1,
              "#f0f921"
             ]
            ],
            "type": "heatmap"
           }
          ],
          "heatmapgl": [
           {
            "colorbar": {
             "outlinewidth": 0,
             "ticks": ""
            },
            "colorscale": [
             [
              0,
              "#0d0887"
             ],
             [
              0.1111111111111111,
              "#46039f"
             ],
             [
              0.2222222222222222,
              "#7201a8"
             ],
             [
              0.3333333333333333,
              "#9c179e"
             ],
             [
              0.4444444444444444,
              "#bd3786"
             ],
             [
              0.5555555555555556,
              "#d8576b"
             ],
             [
              0.6666666666666666,
              "#ed7953"
             ],
             [
              0.7777777777777778,
              "#fb9f3a"
             ],
             [
              0.8888888888888888,
              "#fdca26"
             ],
             [
              1,
              "#f0f921"
             ]
            ],
            "type": "heatmapgl"
           }
          ],
          "histogram": [
           {
            "marker": {
             "colorbar": {
              "outlinewidth": 0,
              "ticks": ""
             }
            },
            "type": "histogram"
           }
          ],
          "histogram2d": [
           {
            "colorbar": {
             "outlinewidth": 0,
             "ticks": ""
            },
            "colorscale": [
             [
              0,
              "#0d0887"
             ],
             [
              0.1111111111111111,
              "#46039f"
             ],
             [
              0.2222222222222222,
              "#7201a8"
             ],
             [
              0.3333333333333333,
              "#9c179e"
             ],
             [
              0.4444444444444444,
              "#bd3786"
             ],
             [
              0.5555555555555556,
              "#d8576b"
             ],
             [
              0.6666666666666666,
              "#ed7953"
             ],
             [
              0.7777777777777778,
              "#fb9f3a"
             ],
             [
              0.8888888888888888,
              "#fdca26"
             ],
             [
              1,
              "#f0f921"
             ]
            ],
            "type": "histogram2d"
           }
          ],
          "histogram2dcontour": [
           {
            "colorbar": {
             "outlinewidth": 0,
             "ticks": ""
            },
            "colorscale": [
             [
              0,
              "#0d0887"
             ],
             [
              0.1111111111111111,
              "#46039f"
             ],
             [
              0.2222222222222222,
              "#7201a8"
             ],
             [
              0.3333333333333333,
              "#9c179e"
             ],
             [
              0.4444444444444444,
              "#bd3786"
             ],
             [
              0.5555555555555556,
              "#d8576b"
             ],
             [
              0.6666666666666666,
              "#ed7953"
             ],
             [
              0.7777777777777778,
              "#fb9f3a"
             ],
             [
              0.8888888888888888,
              "#fdca26"
             ],
             [
              1,
              "#f0f921"
             ]
            ],
            "type": "histogram2dcontour"
           }
          ],
          "mesh3d": [
           {
            "colorbar": {
             "outlinewidth": 0,
             "ticks": ""
            },
            "type": "mesh3d"
           }
          ],
          "parcoords": [
           {
            "line": {
             "colorbar": {
              "outlinewidth": 0,
              "ticks": ""
             }
            },
            "type": "parcoords"
           }
          ],
          "scatter": [
           {
            "marker": {
             "colorbar": {
              "outlinewidth": 0,
              "ticks": ""
             }
            },
            "type": "scatter"
           }
          ],
          "scatter3d": [
           {
            "line": {
             "colorbar": {
              "outlinewidth": 0,
              "ticks": ""
             }
            },
            "marker": {
             "colorbar": {
              "outlinewidth": 0,
              "ticks": ""
             }
            },
            "type": "scatter3d"
           }
          ],
          "scattercarpet": [
           {
            "marker": {
             "colorbar": {
              "outlinewidth": 0,
              "ticks": ""
             }
            },
            "type": "scattercarpet"
           }
          ],
          "scattergeo": [
           {
            "marker": {
             "colorbar": {
              "outlinewidth": 0,
              "ticks": ""
             }
            },
            "type": "scattergeo"
           }
          ],
          "scattergl": [
           {
            "marker": {
             "colorbar": {
              "outlinewidth": 0,
              "ticks": ""
             }
            },
            "type": "scattergl"
           }
          ],
          "scattermapbox": [
           {
            "marker": {
             "colorbar": {
              "outlinewidth": 0,
              "ticks": ""
             }
            },
            "type": "scattermapbox"
           }
          ],
          "scatterpolar": [
           {
            "marker": {
             "colorbar": {
              "outlinewidth": 0,
              "ticks": ""
             }
            },
            "type": "scatterpolar"
           }
          ],
          "scatterpolargl": [
           {
            "marker": {
             "colorbar": {
              "outlinewidth": 0,
              "ticks": ""
             }
            },
            "type": "scatterpolargl"
           }
          ],
          "scatterternary": [
           {
            "marker": {
             "colorbar": {
              "outlinewidth": 0,
              "ticks": ""
             }
            },
            "type": "scatterternary"
           }
          ],
          "surface": [
           {
            "colorbar": {
             "outlinewidth": 0,
             "ticks": ""
            },
            "colorscale": [
             [
              0,
              "#0d0887"
             ],
             [
              0.1111111111111111,
              "#46039f"
             ],
             [
              0.2222222222222222,
              "#7201a8"
             ],
             [
              0.3333333333333333,
              "#9c179e"
             ],
             [
              0.4444444444444444,
              "#bd3786"
             ],
             [
              0.5555555555555556,
              "#d8576b"
             ],
             [
              0.6666666666666666,
              "#ed7953"
             ],
             [
              0.7777777777777778,
              "#fb9f3a"
             ],
             [
              0.8888888888888888,
              "#fdca26"
             ],
             [
              1,
              "#f0f921"
             ]
            ],
            "type": "surface"
           }
          ],
          "table": [
           {
            "cells": {
             "fill": {
              "color": "#EBF0F8"
             },
             "line": {
              "color": "white"
             }
            },
            "header": {
             "fill": {
              "color": "#C8D4E3"
             },
             "line": {
              "color": "white"
             }
            },
            "type": "table"
           }
          ]
         },
         "layout": {
          "annotationdefaults": {
           "arrowcolor": "#2a3f5f",
           "arrowhead": 0,
           "arrowwidth": 1
          },
          "colorscale": {
           "diverging": [
            [
             0,
             "#8e0152"
            ],
            [
             0.1,
             "#c51b7d"
            ],
            [
             0.2,
             "#de77ae"
            ],
            [
             0.3,
             "#f1b6da"
            ],
            [
             0.4,
             "#fde0ef"
            ],
            [
             0.5,
             "#f7f7f7"
            ],
            [
             0.6,
             "#e6f5d0"
            ],
            [
             0.7,
             "#b8e186"
            ],
            [
             0.8,
             "#7fbc41"
            ],
            [
             0.9,
             "#4d9221"
            ],
            [
             1,
             "#276419"
            ]
           ],
           "sequential": [
            [
             0,
             "#0d0887"
            ],
            [
             0.1111111111111111,
             "#46039f"
            ],
            [
             0.2222222222222222,
             "#7201a8"
            ],
            [
             0.3333333333333333,
             "#9c179e"
            ],
            [
             0.4444444444444444,
             "#bd3786"
            ],
            [
             0.5555555555555556,
             "#d8576b"
            ],
            [
             0.6666666666666666,
             "#ed7953"
            ],
            [
             0.7777777777777778,
             "#fb9f3a"
            ],
            [
             0.8888888888888888,
             "#fdca26"
            ],
            [
             1,
             "#f0f921"
            ]
           ],
           "sequentialminus": [
            [
             0,
             "#0d0887"
            ],
            [
             0.1111111111111111,
             "#46039f"
            ],
            [
             0.2222222222222222,
             "#7201a8"
            ],
            [
             0.3333333333333333,
             "#9c179e"
            ],
            [
             0.4444444444444444,
             "#bd3786"
            ],
            [
             0.5555555555555556,
             "#d8576b"
            ],
            [
             0.6666666666666666,
             "#ed7953"
            ],
            [
             0.7777777777777778,
             "#fb9f3a"
            ],
            [
             0.8888888888888888,
             "#fdca26"
            ],
            [
             1,
             "#f0f921"
            ]
           ]
          },
          "colorway": [
           "#636efa",
           "#EF553B",
           "#00cc96",
           "#ab63fa",
           "#FFA15A",
           "#19d3f3",
           "#FF6692",
           "#B6E880",
           "#FF97FF",
           "#FECB52"
          ],
          "font": {
           "color": "#2a3f5f"
          },
          "geo": {
           "bgcolor": "white",
           "lakecolor": "white",
           "landcolor": "#E5ECF6",
           "showlakes": true,
           "showland": true,
           "subunitcolor": "white"
          },
          "hoverlabel": {
           "align": "left"
          },
          "hovermode": "closest",
          "mapbox": {
           "style": "light"
          },
          "paper_bgcolor": "white",
          "plot_bgcolor": "#E5ECF6",
          "polar": {
           "angularaxis": {
            "gridcolor": "white",
            "linecolor": "white",
            "ticks": ""
           },
           "bgcolor": "#E5ECF6",
           "radialaxis": {
            "gridcolor": "white",
            "linecolor": "white",
            "ticks": ""
           }
          },
          "scene": {
           "xaxis": {
            "backgroundcolor": "#E5ECF6",
            "gridcolor": "white",
            "gridwidth": 2,
            "linecolor": "white",
            "showbackground": true,
            "ticks": "",
            "zerolinecolor": "white"
           },
           "yaxis": {
            "backgroundcolor": "#E5ECF6",
            "gridcolor": "white",
            "gridwidth": 2,
            "linecolor": "white",
            "showbackground": true,
            "ticks": "",
            "zerolinecolor": "white"
           },
           "zaxis": {
            "backgroundcolor": "#E5ECF6",
            "gridcolor": "white",
            "gridwidth": 2,
            "linecolor": "white",
            "showbackground": true,
            "ticks": "",
            "zerolinecolor": "white"
           }
          },
          "shapedefaults": {
           "line": {
            "color": "#2a3f5f"
           }
          },
          "ternary": {
           "aaxis": {
            "gridcolor": "white",
            "linecolor": "white",
            "ticks": ""
           },
           "baxis": {
            "gridcolor": "white",
            "linecolor": "white",
            "ticks": ""
           },
           "bgcolor": "#E5ECF6",
           "caxis": {
            "gridcolor": "white",
            "linecolor": "white",
            "ticks": ""
           }
          },
          "title": {
           "x": 0.05
          },
          "xaxis": {
           "automargin": true,
           "gridcolor": "white",
           "linecolor": "white",
           "ticks": "",
           "zerolinecolor": "white",
           "zerolinewidth": 2
          },
          "yaxis": {
           "automargin": true,
           "gridcolor": "white",
           "linecolor": "white",
           "ticks": "",
           "zerolinecolor": "white",
           "zerolinewidth": 2
          }
         }
        },
        "title": {
         "text": "total_cases_per_million"
        }
       }
      }
     },
     "metadata": {}
    }
   ],
   "source": [
    "fig = go.Figure(data=[go.Bar(x=countries_cols['date'], y=countries_cols['total_cases_per_million'])], layout_title_text=\"total_cases_per_million\")\n",
    "fig.show()"
   ]
  },
  {
   "cell_type": "code",
   "execution_count": 41,
   "metadata": {},
   "outputs": [
    {
     "output_type": "display_data",
     "data": {
      "application/vnd.plotly.v1+json": {
       "config": {
        "plotlyServerURL": "https://plot.ly"
       },
       "data": [
        {
         "type": "bar",
         "x": [
          "2020-04-07",
          "2020-04-08",
          "2020-04-09",
          "2020-04-10",
          "2020-04-11",
          "2020-04-12",
          "2020-04-13",
          "2020-04-14",
          "2020-04-15",
          "2020-04-16",
          "2020-04-17",
          "2020-04-18",
          "2020-04-19",
          "2020-04-20",
          "2020-04-21",
          "2020-04-22",
          "2020-04-23",
          "2020-04-24",
          "2020-04-25",
          "2020-04-26",
          "2020-04-27",
          "2020-04-28",
          "2020-04-29",
          "2020-04-30",
          "2020-05-01",
          "2020-05-02",
          "2020-05-03",
          "2020-05-04",
          "2020-05-05",
          "2020-05-06",
          "2020-05-07",
          "2020-05-08",
          "2020-05-09",
          "2020-05-10",
          "2020-05-11",
          "2020-05-12",
          "2020-05-13",
          "2020-05-14",
          "2020-05-15",
          "2020-05-16",
          "2020-05-17",
          "2020-05-18",
          "2020-05-19",
          "2020-05-20",
          "2020-05-21",
          "2020-05-22",
          "2020-05-23",
          "2020-05-24",
          "2020-05-25",
          "2020-05-26",
          "2020-05-27",
          "2020-05-28",
          "2020-05-29",
          "2020-05-30",
          "2020-05-31",
          "2020-06-01",
          "2020-06-02",
          "2020-06-03",
          "2020-06-04",
          "2020-06-05",
          "2020-06-06",
          "2020-06-07",
          "2020-06-08",
          "2020-06-09",
          "2020-06-10",
          "2020-06-11",
          "2020-06-12",
          "2020-06-13",
          "2020-06-14",
          "2020-06-15",
          "2020-06-16",
          "2020-06-17",
          "2020-06-18",
          "2020-06-19",
          "2020-06-20",
          "2020-06-21",
          "2020-06-22",
          "2020-06-23",
          "2020-06-24",
          "2020-06-25",
          "2020-06-26",
          "2020-06-27",
          "2020-06-28",
          "2020-06-29",
          "2020-06-30",
          "2020-07-01",
          "2020-07-02",
          "2020-07-03",
          "2020-07-04",
          "2020-07-05",
          "2020-07-06",
          "2020-07-07",
          "2020-07-08",
          "2020-07-09",
          "2020-07-10",
          "2020-07-11",
          "2020-07-12",
          "2020-07-13",
          "2020-07-14",
          "2020-07-15",
          "2020-07-16",
          "2020-07-17",
          "2020-07-18",
          "2020-07-19",
          "2020-07-20",
          "2020-07-21",
          "2020-07-22",
          "2020-07-23",
          "2020-07-24",
          "2020-07-25",
          "2020-07-26",
          "2020-07-27",
          "2020-07-28",
          "2020-07-29",
          "2020-07-30",
          "2020-07-31",
          "2020-08-01",
          "2020-08-02",
          "2020-08-03",
          "2020-08-04",
          "2020-08-05",
          "2020-08-06",
          "2020-08-07",
          "2020-08-08",
          "2020-08-09",
          "2020-08-10",
          "2020-08-11",
          "2020-08-12",
          "2020-08-13",
          "2020-08-14",
          "2020-08-15",
          "2020-08-16",
          "2020-08-17",
          "2020-08-18",
          "2020-08-19",
          "2020-08-20",
          "2020-08-21",
          "2020-08-22",
          "2020-08-23",
          "2020-08-24",
          "2020-08-25",
          "2020-08-26",
          "2020-08-27",
          "2020-08-28",
          "2020-08-29",
          "2020-08-30",
          "2020-08-31",
          "2020-09-01",
          "2020-09-02",
          "2020-09-03",
          "2020-09-04",
          "2020-09-05",
          "2020-09-06",
          "2020-09-07",
          "2020-09-08",
          "2020-09-09",
          "2020-09-10",
          "2020-09-11",
          "2020-09-12",
          "2020-09-13",
          "2020-09-14",
          "2020-09-15",
          "2020-09-16",
          "2020-09-17",
          "2020-09-18",
          "2020-09-19",
          "2020-09-20",
          "2020-09-21",
          "2020-09-22",
          "2020-09-23",
          "2020-09-24",
          "2020-09-25",
          "2020-09-26",
          "2020-09-27",
          "2020-09-28",
          "2020-09-29",
          "2020-09-30",
          "2020-10-01",
          "2020-10-02",
          "2020-10-03",
          "2020-10-04",
          "2020-10-05",
          "2020-10-06",
          "2020-10-07",
          "2020-10-08",
          "2020-10-09",
          "2020-10-10",
          "2020-10-11",
          "2020-10-12",
          "2020-10-13",
          "2020-10-14",
          "2020-10-15",
          "2020-10-16",
          "2020-10-17",
          "2020-10-18",
          "2020-10-19",
          "2020-10-20",
          "2020-10-21",
          "2020-10-22",
          "2020-10-23",
          "2020-10-24",
          "2020-10-25",
          "2020-10-26",
          "2020-10-27",
          "2020-10-28",
          "2020-10-29",
          "2020-10-30",
          "2020-10-31",
          "2020-11-01",
          "2020-11-02",
          "2020-11-03",
          "2020-11-04",
          "2020-11-05",
          "2020-11-06",
          "2020-11-07",
          "2020-11-08",
          "2020-11-09",
          "2020-11-10",
          "2020-11-11",
          "2020-11-12",
          "2020-11-13",
          "2020-11-14",
          "2020-11-15",
          "2020-11-16",
          "2020-11-17",
          "2020-11-18",
          "2020-11-19",
          "2020-11-20",
          "2020-11-21",
          "2020-11-22",
          "2020-11-23",
          "2020-11-24",
          "2020-11-25",
          "2020-11-26",
          "2020-11-27",
          "2020-11-28",
          "2020-11-29",
          "2020-11-30",
          "2020-12-01",
          "2020-12-02",
          "2020-12-03",
          "2020-12-04",
          "2020-12-05",
          "2020-12-06",
          "2020-12-07",
          "2020-12-08",
          "2020-12-09",
          "2020-12-10",
          "2020-12-11",
          "2020-12-12",
          "2020-12-13",
          "2020-12-14",
          "2020-12-15",
          "2020-12-16",
          "2020-12-17",
          "2020-12-18",
          "2020-12-19",
          "2020-12-20",
          "2020-12-21",
          "2020-12-22",
          "2020-12-23",
          "2020-12-24",
          "2020-12-25",
          "2020-12-26",
          "2020-12-27",
          "2020-12-28",
          "2020-12-29",
          "2020-12-30",
          "2020-12-31",
          "2021-01-01",
          "2021-01-02",
          "2021-01-03",
          "2021-01-04",
          "2021-01-05",
          "2021-01-06",
          "2021-01-07",
          "2021-01-08",
          "2020-03-17",
          "2020-03-18",
          "2020-03-19",
          "2020-03-20",
          "2020-03-21",
          "2020-03-22",
          "2020-03-23",
          "2020-03-24",
          "2020-03-25",
          "2020-03-26",
          "2020-03-27",
          "2020-03-28",
          "2020-03-29",
          "2020-03-30",
          "2020-03-31",
          "2020-04-01",
          "2020-04-02",
          "2020-04-03",
          "2020-04-04",
          "2020-04-05",
          "2020-04-06",
          "2020-04-07",
          "2020-04-08",
          "2020-04-09",
          "2020-04-10",
          "2020-04-11",
          "2020-04-12",
          "2020-04-13",
          "2020-04-14",
          "2020-04-15",
          "2020-04-16",
          "2020-04-17",
          "2020-04-18",
          "2020-04-19",
          "2020-04-20",
          "2020-04-21",
          "2020-04-22",
          "2020-04-23",
          "2020-04-24",
          "2020-04-25",
          "2020-04-26",
          "2020-04-27",
          "2020-04-28",
          "2020-04-29",
          "2020-04-30",
          "2020-05-01",
          "2020-05-02",
          "2020-05-03",
          "2020-05-04",
          "2020-05-05",
          "2020-05-06",
          "2020-05-07",
          "2020-05-08",
          "2020-05-09",
          "2020-05-10",
          "2020-05-11",
          "2020-05-12",
          "2020-05-13",
          "2020-05-14",
          "2020-05-15",
          "2020-05-16",
          "2020-05-17",
          "2020-05-18",
          "2020-05-19",
          "2020-05-20",
          "2020-05-21",
          "2020-05-22",
          "2020-05-23",
          "2020-05-24",
          "2020-05-25",
          "2020-05-26",
          "2020-05-27",
          "2020-05-28",
          "2020-05-29",
          "2020-05-30",
          "2020-05-31",
          "2020-06-01",
          "2020-06-02",
          "2020-06-03",
          "2020-06-04",
          "2020-06-05",
          "2020-06-06",
          "2020-06-07",
          "2020-06-08",
          "2020-06-09",
          "2020-06-10",
          "2020-06-11",
          "2020-06-12",
          "2020-06-13",
          "2020-06-14",
          "2020-06-15",
          "2020-06-16",
          "2020-06-17",
          "2020-06-18",
          "2020-06-19",
          "2020-06-20",
          "2020-06-21",
          "2020-06-22",
          "2020-06-23",
          "2020-06-24",
          "2020-06-25",
          "2020-06-26",
          "2020-06-27",
          "2020-06-28",
          "2020-06-29",
          "2020-06-30",
          "2020-07-01",
          "2020-07-02",
          "2020-07-03",
          "2020-07-04",
          "2020-07-05",
          "2020-07-06",
          "2020-07-07",
          "2020-07-08",
          "2020-07-09",
          "2020-07-10",
          "2020-07-11",
          "2020-07-12",
          "2020-07-13",
          "2020-07-14",
          "2020-07-15",
          "2020-07-16",
          "2020-07-17",
          "2020-07-18",
          "2020-07-19",
          "2020-07-20",
          "2020-07-21",
          "2020-07-22",
          "2020-07-23",
          "2020-07-24",
          "2020-07-25",
          "2020-07-26",
          "2020-07-27",
          "2020-07-28",
          "2020-07-29",
          "2020-07-30",
          "2020-07-31",
          "2020-08-01",
          "2020-08-02",
          "2020-08-03",
          "2020-08-04",
          "2020-08-05",
          "2020-08-06",
          "2020-08-07",
          "2020-08-08",
          "2020-08-09",
          "2020-08-10",
          "2020-08-11",
          "2020-08-12",
          "2020-08-13",
          "2020-08-14",
          "2020-08-15",
          "2020-08-16",
          "2020-08-17",
          "2020-08-18",
          "2020-08-19",
          "2020-08-20",
          "2020-08-21",
          "2020-08-22",
          "2020-08-23",
          "2020-08-24",
          "2020-08-25",
          "2020-08-26",
          "2020-08-27",
          "2020-08-28",
          "2020-08-29",
          "2020-08-30",
          "2020-08-31",
          "2020-09-01",
          "2020-09-02",
          "2020-09-03",
          "2020-09-04",
          "2020-09-05",
          "2020-09-06",
          "2020-09-07",
          "2020-09-08",
          "2020-09-09",
          "2020-09-10",
          "2020-09-11",
          "2020-09-12",
          "2020-09-13",
          "2020-09-14",
          "2020-09-15",
          "2020-09-16",
          "2020-09-17",
          "2020-09-18",
          "2020-09-19",
          "2020-09-20",
          "2020-09-21",
          "2020-09-22",
          "2020-09-23",
          "2020-09-24",
          "2020-09-25",
          "2020-09-26",
          "2020-09-27",
          "2020-09-28",
          "2020-09-29",
          "2020-09-30",
          "2020-10-01",
          "2020-10-02",
          "2020-10-03",
          "2020-10-04",
          "2020-10-05",
          "2020-10-06",
          "2020-10-07",
          "2020-10-08",
          "2020-10-09",
          "2020-10-10",
          "2020-10-11",
          "2020-10-12",
          "2020-10-13",
          "2020-10-14",
          "2020-10-15",
          "2020-10-16",
          "2020-10-17",
          "2020-10-18",
          "2020-10-19",
          "2020-10-20",
          "2020-10-21",
          "2020-10-22",
          "2020-10-23",
          "2020-10-24",
          "2020-10-25",
          "2020-10-26",
          "2020-10-27",
          "2020-10-28",
          "2020-10-29",
          "2020-10-30",
          "2020-10-31",
          "2020-11-01",
          "2020-11-02",
          "2020-11-03",
          "2020-11-04",
          "2020-11-05",
          "2020-11-06",
          "2020-11-07",
          "2020-11-08",
          "2020-11-09",
          "2020-11-10",
          "2020-11-11",
          "2020-11-12",
          "2020-11-13",
          "2020-11-14",
          "2020-11-15",
          "2020-11-16",
          "2020-11-17",
          "2020-11-18",
          "2020-11-19",
          "2020-11-20",
          "2020-11-21",
          "2020-11-22",
          "2020-11-23",
          "2020-11-24",
          "2020-11-25",
          "2020-11-26",
          "2020-11-27",
          "2020-11-28",
          "2020-11-29",
          "2020-11-30",
          "2020-12-01",
          "2020-12-02",
          "2020-12-03",
          "2020-12-04",
          "2020-12-05",
          "2020-12-06",
          "2020-12-07",
          "2020-12-08",
          "2020-12-09",
          "2020-12-10",
          "2020-12-11",
          "2020-12-12",
          "2020-12-13",
          "2020-12-14",
          "2020-12-15",
          "2020-12-16",
          "2020-12-17",
          "2020-12-18",
          "2020-12-19",
          "2020-12-20",
          "2020-12-21",
          "2020-12-22",
          "2020-12-23",
          "2020-12-24",
          "2020-12-25",
          "2020-12-26",
          "2020-12-27",
          "2020-12-28",
          "2020-12-29",
          "2020-12-30",
          "2020-12-31",
          "2021-01-01",
          "2021-01-02",
          "2021-01-03",
          "2021-01-04",
          "2021-01-05",
          "2021-01-06",
          "2021-01-07",
          "2021-01-08",
          "2020-08-20",
          "2020-08-21",
          "2020-08-24",
          "2020-08-25",
          "2020-08-26",
          "2020-08-27",
          "2020-08-28",
          "2020-08-31",
          "2020-09-01",
          "2020-09-02",
          "2020-09-03",
          "2020-09-04",
          "2020-09-07",
          "2020-09-08",
          "2020-09-09",
          "2020-09-10",
          "2020-09-11",
          "2020-09-14",
          "2020-09-15",
          "2020-09-16",
          "2020-09-17",
          "2020-09-18",
          "2020-09-21",
          "2020-09-22",
          "2020-09-23",
          "2020-09-24",
          "2020-09-25",
          "2020-09-28",
          "2020-09-29",
          "2020-09-30",
          "2020-10-01",
          "2020-10-02",
          "2020-10-05",
          "2020-10-06",
          "2020-10-07",
          "2020-10-08",
          "2020-10-09",
          "2020-10-12",
          "2020-10-13",
          "2020-10-14",
          "2020-10-15",
          "2020-10-16",
          "2020-10-19",
          "2020-10-20",
          "2020-10-21",
          "2020-10-22",
          "2020-10-23",
          "2020-10-26",
          "2020-10-27",
          "2020-10-28",
          "2020-10-29",
          "2020-10-30",
          "2020-11-02",
          "2020-11-03",
          "2020-11-04",
          "2020-11-05",
          "2020-11-06",
          "2020-11-09",
          "2020-11-10",
          "2020-11-11",
          "2020-11-12",
          "2020-11-13",
          "2020-11-16",
          "2020-11-17",
          "2020-11-18",
          "2020-11-19",
          "2020-11-20",
          "2020-11-23",
          "2020-11-24",
          "2020-11-25",
          "2020-11-26",
          "2020-11-27",
          "2020-11-30",
          "2020-12-01",
          "2020-12-02",
          "2020-12-03",
          "2020-12-04",
          "2020-12-09",
          "2020-12-10",
          "2020-12-11",
          "2020-12-14",
          "2020-12-15",
          "2020-12-16",
          "2020-12-17",
          "2020-12-18",
          "2020-12-21",
          "2020-12-22",
          "2020-12-23",
          "2020-12-24",
          "2020-12-28",
          "2020-12-29",
          "2020-12-30",
          "2020-12-31",
          "2021-01-04",
          "2021-01-05",
          "2021-01-07"
         ],
         "y": [
          80.812,
          76.054,
          72.268,
          64.328,
          53.222,
          52.132,
          61.942,
          64.04899999999999,
          75.126,
          78.705,
          73.506,
          69.764,
          56.86,
          71.679,
          70.339,
          81.092,
          76.128,
          73.373,
          55.446000000000005,
          51.159,
          69.293,
          69.631,
          80.282,
          73.123,
          69.676,
          47.58,
          43.853,
          49.833999999999996,
          54.341,
          56.506,
          55.549,
          44.958,
          31.671,
          34.204,
          52.868,
          50.01,
          48.611000000000004,
          38.565,
          37.135999999999996,
          30.522,
          26.898000000000003,
          37.961,
          45.04600000000001,
          39.949,
          37.622,
          30.065,
          22.214000000000002,
          19.96,
          23.76,
          24.438000000000002,
          26.648000000000003,
          25.572,
          22.214000000000002,
          16.307000000000002,
          15.762,
          21.271,
          21.654,
          19.872,
          18.236,
          16.351,
          11.696,
          10.577,
          16.115,
          17.073,
          17.47,
          14.834000000000001,
          15.526,
          13.081,
          11.888,
          15.187000000000001,
          15.953,
          14.716,
          15.025,
          14.495,
          9.811,
          9.192,
          13.14,
          12.992,
          11.446,
          10.267000000000001,
          9.413,
          9.339,
          5.995,
          9.133,
          5.9510000000000005,
          0.9279999999999999,
          0.08800000000000001,
          7.395,
          9.207,
          7.645,
          5.287999999999999,
          8.603,
          9.383,
          9.472000000000001,
          7.718999999999999,
          12.167,
          9.575,
          7.91,
          18.266,
          7.925,
          9.531,
          10.12,
          12.212,
          10.694,
          8.632,
          6.555,
          8.293,
          11.475,
          11.328,
          11.343,
          11.048,
          10.135,
          8.146,
          11.814,
          12.477,
          13.007,
          11.328,
          11.004000000000001,
          13.876,
          9.943,
          13.345999999999998,
          14.2,
          13.258,
          11.269,
          16.395,
          12.05,
          16.94,
          15.305,
          16.910999999999998,
          21.521,
          15.349,
          16.366,
          10.620999999999999,
          16.395,
          12.241,
          17.602999999999998,
          15.614,
          19.621,
          15.437999999999999,
          14.392000000000001,
          17.691,
          16.881,
          22.715,
          19.105999999999998,
          16.351,
          25.808000000000003,
          20.844,
          19.621,
          22.302,
          26.206,
          29.136999999999997,
          26.913,
          44,
          43.47,
          36.547,
          39.493,
          43.175,
          52.205,
          51.61600000000001,
          49.17100000000001,
          38.668,
          45.886,
          59.025,
          50.231,
          63.769,
          65.242,
          57.435,
          64.49,
          72.71,
          91.13799999999999,
          97.87,
          101.31700000000001,
          89.12,
          83.964,
          59.747,
          105.412,
          104.838,
          102.068,
          103.02600000000001,
          189.803,
          338.288,
          185.649,
          214.433,
          208.77599999999998,
          258.522,
          204.578,
          223.537,
          189.75900000000001,
          206.39,
          254.102,
          290.944,
          279.822,
          230.637,
          238.429,
          250.331,
          277.377,
          314.719,
          393.41,
          313.128,
          302.846,
          339.289,
          291.621,
          307.869,
          337.684,
          364.051,
          339.952,
          359.691,
          322.88,
          342.648,
          279.395,
          295.76099999999997,
          371.29900000000004,
          355.95,
          343.54699999999997,
          367.955,
          303.155,
          315.19,
          301.255,
          338.80300000000005,
          493.725,
          402.38,
          395.899,
          367.926,
          315.455,
          295.495,
          289.382,
          337.861,
          298.64799999999997,
          293.448,
          274.976,
          227.808,
          167.104,
          268.995,
          258.625,
          218.322,
          234.084,
          179.183,
          183.072,
          198.81900000000002,
          239.18,
          220.237,
          241.31599999999997,
          229.488,
          255.9,
          217.63,
          182.453,
          245.028,
          310.314,
          320.89099999999996,
          317.503,
          273.12,
          300.165,
          273.532,
          372.684,
          523.4069999999999,
          420.705,
          401.39300000000003,
          531.538,
          493.725,
          544.015,
          580.193,
          576.673,
          483.207,
          512.447,
          478.64099999999996,
          610.73,
          784.7710000000001,
          740.049,
          825.3389999999999,
          787.467,
          852.2080000000001,
          812.4939999999999,
          867.97,
          899.847,
          921.4860000000001,
          777.5830000000001,
          1004.507,
          11.474,
          0,
          33.05,
          23.046999999999997,
          25.498,
          31.383000000000003,
          45.113,
          29.616999999999997,
          62.07899999999999,
          53.841,
          71.003,
          88.46,
          77.672,
          43.74,
          101.50299999999999,
          79.241,
          76.789,
          83.556,
          62.568999999999996,
          73.945,
          44.328,
          69.82600000000001,
          68.55199999999999,
          79.928,
          148.675,
          50.507,
          58.646,
          34.227,
          50.408,
          63.06,
          73.553,
          17.750999999999998,
          65.021,
          51.095,
          64.433,
          50.605,
          59.137,
          36.384,
          43.543,
          58.352,
          46.288999999999994,
          15.985999999999999,
          28.930999999999997,
          17.947,
          52.958,
          30.01,
          -15.789000000000001,
          9.023,
          23.733,
          17.457,
          47.074,
          52.272,
          54.233000000000004,
          13.534,
          17.162,
          9.611,
          22.949,
          21.478,
          18.339000000000002,
          25.891,
          22.261999999999997,
          22.164,
          16.965999999999998,
          21.87,
          22.36,
          24.714000000000002,
          28.244,
          26.576999999999998,
          14.907,
          16.182000000000002,
          21.478,
          27.95,
          29.814,
          34.325,
          25.204,
          29.127,
          19.614,
          19.124000000000002,
          35.894,
          32.461,
          36.973,
          37.463,
          33.54,
          18.83,
          41.288000000000004,
          28.833000000000002,
          30.401999999999997,
          26.479,
          27.754,
          22.261999999999997,
          33.933,
          29.421,
          32.952,
          40.896,
          36.777,
          36.973,
          28.636999999999997,
          25.4,
          33.834,
          35.992,
          30.5,
          44.23,
          31.677,
          44.818000000000005,
          26.087,
          22.458000000000002,
          30.695999999999998,
          32.167,
          36.679,
          40.503,
          32.167,
          22.752,
          28.146,
          43.445,
          40.994,
          39.424,
          53.153999999999996,
          28.539,
          30.01,
          22.851,
          36.777,
          33.246,
          30.598000000000003,
          30.695999999999998,
          24.125,
          13.24,
          12.455,
          24.714000000000002,
          22.458000000000002,
          30.695999999999998,
          25.793000000000003,
          20.497,
          13.24,
          10.886,
          19.908,
          25.008000000000003,
          20.006,
          23.340999999999998,
          15.005,
          10.395999999999999,
          10.984000000000002,
          16.378,
          20.889,
          28.441,
          18.241,
          12.847000000000001,
          15.397,
          11.769,
          27.264,
          31.873,
          23.046999999999997,
          19.418,
          11.867,
          12.945,
          20.987,
          24.811999999999998,
          28.539,
          21.478,
          23.635,
          14.22,
          12.062999999999999,
          18.83,
          35.501999999999995,
          39.13,
          39.326,
          36.679,
          31.383000000000003,
          23.929000000000002,
          22.654,
          38.248000000000005,
          40.994,
          39.817,
          47.662,
          30.892,
          24.42,
          38.052,
          63.354,
          57.371,
          67.375,
          48.74100000000001,
          66.002,
          60.117,
          41.68,
          59.333,
          75.515,
          76.495,
          83.262,
          54.135,
          61.098,
          45.407,
          78.653,
          67.767,
          88.166,
          86.695,
          65.217,
          41.68,
          67.473,
          80.908,
          83.75299999999999,
          87.087,
          94.44200000000001,
          88.656,
          71.984,
          41.876000000000005,
          92.579,
          125.335,
          136.711,
          161.425,
          106.897,
          122.491,
          118.47,
          203.203,
          206.047,
          255.769,
          211.14700000000002,
          182.02,
          191.14,
          183.981,
          248.61,
          320.692,
          284.307,
          359.82199999999995,
          252.729,
          239.979,
          323.536,
          388.361,
          414.251,
          456.61800000000005,
          392.97,
          300.293,
          245.766,
          254.592,
          735.237,
          432.49300000000005,
          544.293,
          651.191,
          567.242,
          401.69800000000004,
          374.337,
          483.98,
          572.636,
          652.466,
          647.464,
          591.8580000000001,
          820.951,
          436.61199999999997,
          577.736,
          685.908,
          636.382,
          634.715,
          469.56300000000005,
          396.599,
          384.34,
          518.795,
          625.986,
          533.898,
          477.409,
          401.404,
          319.907,
          235.468,
          331.87199999999996,
          369.923,
          483.98,
          596.957,
          376.004,
          254.69,
          284.89599999999996,
          401.796,
          307.35400000000004,
          498.2,
          432.787,
          396.599,
          215.168,
          258.711,
          462.895,
          423.666,
          425.235,
          376.102,
          326.968,
          205.851,
          238.90099999999998,
          451.32199999999995,
          429.35400000000004,
          406.602,
          119.05799999999999,
          154.658,
          205.262,
          327.164,
          593.231,
          747.987,
          681.691,
          317.848,
          331.87199999999996,
          428.472,
          486.039,
          983.357,
          973.55,
          997.9689999999999,
          150.55100000000002,
          174.271,
          414.546,
          152.22,
          156.048,
          206.567,
          209.155,
          504.162,
          173.565,
          183.532,
          191.61700000000002,
          224.063,
          568.07,
          191.72400000000002,
          189.628,
          230.222,
          260.572,
          586.122,
          201.84,
          239.398,
          241.49400000000003,
          307.755,
          672.188,
          230.97099999999998,
          241.451,
          227.84799999999998,
          262.476,
          679.823,
          0,
          447.48400000000004,
          201.455,
          242.22099999999998,
          502.195,
          256.615,
          224.38299999999998,
          265.705,
          273.512,
          595.789,
          152.241,
          256.017,
          284.848,
          324.801,
          810.377,
          296.718,
          363.022,
          448.852,
          424.577,
          1116.2069999999999,
          393.92800000000005,
          422.73699999999997,
          504.333,
          547.431,
          1176.757,
          399.296,
          535.6030000000001,
          468.57199999999995,
          481.57599999999996,
          1120.442,
          0,
          780.4760000000001,
          417.305,
          457.087,
          818.59,
          281.447,
          327.624,
          347.194,
          324.159,
          553.655,
          261.535,
          218.63,
          262.839,
          232.12599999999998,
          427.315,
          176.602,
          199.57299999999998,
          216.59799999999998,
          187.04,
          209.02700000000002,
          170.143,
          224.982,
          455.76099999999997,
          220.89700000000002,
          236.938,
          259.46,
          252.701,
          470.81800000000004,
          227.87,
          264.914,
          270.817,
          523.198,
          301.33799999999997,
          357.525,
          385.99300000000005,
          654.029,
          506.9,
          906.0039999999999
         ]
        }
       ],
       "layout": {
        "template": {
         "data": {
          "bar": [
           {
            "error_x": {
             "color": "#2a3f5f"
            },
            "error_y": {
             "color": "#2a3f5f"
            },
            "marker": {
             "line": {
              "color": "#E5ECF6",
              "width": 0.5
             }
            },
            "type": "bar"
           }
          ],
          "barpolar": [
           {
            "marker": {
             "line": {
              "color": "#E5ECF6",
              "width": 0.5
             }
            },
            "type": "barpolar"
           }
          ],
          "carpet": [
           {
            "aaxis": {
             "endlinecolor": "#2a3f5f",
             "gridcolor": "white",
             "linecolor": "white",
             "minorgridcolor": "white",
             "startlinecolor": "#2a3f5f"
            },
            "baxis": {
             "endlinecolor": "#2a3f5f",
             "gridcolor": "white",
             "linecolor": "white",
             "minorgridcolor": "white",
             "startlinecolor": "#2a3f5f"
            },
            "type": "carpet"
           }
          ],
          "choropleth": [
           {
            "colorbar": {
             "outlinewidth": 0,
             "ticks": ""
            },
            "type": "choropleth"
           }
          ],
          "contour": [
           {
            "colorbar": {
             "outlinewidth": 0,
             "ticks": ""
            },
            "colorscale": [
             [
              0,
              "#0d0887"
             ],
             [
              0.1111111111111111,
              "#46039f"
             ],
             [
              0.2222222222222222,
              "#7201a8"
             ],
             [
              0.3333333333333333,
              "#9c179e"
             ],
             [
              0.4444444444444444,
              "#bd3786"
             ],
             [
              0.5555555555555556,
              "#d8576b"
             ],
             [
              0.6666666666666666,
              "#ed7953"
             ],
             [
              0.7777777777777778,
              "#fb9f3a"
             ],
             [
              0.8888888888888888,
              "#fdca26"
             ],
             [
              1,
              "#f0f921"
             ]
            ],
            "type": "contour"
           }
          ],
          "contourcarpet": [
           {
            "colorbar": {
             "outlinewidth": 0,
             "ticks": ""
            },
            "type": "contourcarpet"
           }
          ],
          "heatmap": [
           {
            "colorbar": {
             "outlinewidth": 0,
             "ticks": ""
            },
            "colorscale": [
             [
              0,
              "#0d0887"
             ],
             [
              0.1111111111111111,
              "#46039f"
             ],
             [
              0.2222222222222222,
              "#7201a8"
             ],
             [
              0.3333333333333333,
              "#9c179e"
             ],
             [
              0.4444444444444444,
              "#bd3786"
             ],
             [
              0.5555555555555556,
              "#d8576b"
             ],
             [
              0.6666666666666666,
              "#ed7953"
             ],
             [
              0.7777777777777778,
              "#fb9f3a"
             ],
             [
              0.8888888888888888,
              "#fdca26"
             ],
             [
              1,
              "#f0f921"
             ]
            ],
            "type": "heatmap"
           }
          ],
          "heatmapgl": [
           {
            "colorbar": {
             "outlinewidth": 0,
             "ticks": ""
            },
            "colorscale": [
             [
              0,
              "#0d0887"
             ],
             [
              0.1111111111111111,
              "#46039f"
             ],
             [
              0.2222222222222222,
              "#7201a8"
             ],
             [
              0.3333333333333333,
              "#9c179e"
             ],
             [
              0.4444444444444444,
              "#bd3786"
             ],
             [
              0.5555555555555556,
              "#d8576b"
             ],
             [
              0.6666666666666666,
              "#ed7953"
             ],
             [
              0.7777777777777778,
              "#fb9f3a"
             ],
             [
              0.8888888888888888,
              "#fdca26"
             ],
             [
              1,
              "#f0f921"
             ]
            ],
            "type": "heatmapgl"
           }
          ],
          "histogram": [
           {
            "marker": {
             "colorbar": {
              "outlinewidth": 0,
              "ticks": ""
             }
            },
            "type": "histogram"
           }
          ],
          "histogram2d": [
           {
            "colorbar": {
             "outlinewidth": 0,
             "ticks": ""
            },
            "colorscale": [
             [
              0,
              "#0d0887"
             ],
             [
              0.1111111111111111,
              "#46039f"
             ],
             [
              0.2222222222222222,
              "#7201a8"
             ],
             [
              0.3333333333333333,
              "#9c179e"
             ],
             [
              0.4444444444444444,
              "#bd3786"
             ],
             [
              0.5555555555555556,
              "#d8576b"
             ],
             [
              0.6666666666666666,
              "#ed7953"
             ],
             [
              0.7777777777777778,
              "#fb9f3a"
             ],
             [
              0.8888888888888888,
              "#fdca26"
             ],
             [
              1,
              "#f0f921"
             ]
            ],
            "type": "histogram2d"
           }
          ],
          "histogram2dcontour": [
           {
            "colorbar": {
             "outlinewidth": 0,
             "ticks": ""
            },
            "colorscale": [
             [
              0,
              "#0d0887"
             ],
             [
              0.1111111111111111,
              "#46039f"
             ],
             [
              0.2222222222222222,
              "#7201a8"
             ],
             [
              0.3333333333333333,
              "#9c179e"
             ],
             [
              0.4444444444444444,
              "#bd3786"
             ],
             [
              0.5555555555555556,
              "#d8576b"
             ],
             [
              0.6666666666666666,
              "#ed7953"
             ],
             [
              0.7777777777777778,
              "#fb9f3a"
             ],
             [
              0.8888888888888888,
              "#fdca26"
             ],
             [
              1,
              "#f0f921"
             ]
            ],
            "type": "histogram2dcontour"
           }
          ],
          "mesh3d": [
           {
            "colorbar": {
             "outlinewidth": 0,
             "ticks": ""
            },
            "type": "mesh3d"
           }
          ],
          "parcoords": [
           {
            "line": {
             "colorbar": {
              "outlinewidth": 0,
              "ticks": ""
             }
            },
            "type": "parcoords"
           }
          ],
          "scatter": [
           {
            "marker": {
             "colorbar": {
              "outlinewidth": 0,
              "ticks": ""
             }
            },
            "type": "scatter"
           }
          ],
          "scatter3d": [
           {
            "line": {
             "colorbar": {
              "outlinewidth": 0,
              "ticks": ""
             }
            },
            "marker": {
             "colorbar": {
              "outlinewidth": 0,
              "ticks": ""
             }
            },
            "type": "scatter3d"
           }
          ],
          "scattercarpet": [
           {
            "marker": {
             "colorbar": {
              "outlinewidth": 0,
              "ticks": ""
             }
            },
            "type": "scattercarpet"
           }
          ],
          "scattergeo": [
           {
            "marker": {
             "colorbar": {
              "outlinewidth": 0,
              "ticks": ""
             }
            },
            "type": "scattergeo"
           }
          ],
          "scattergl": [
           {
            "marker": {
             "colorbar": {
              "outlinewidth": 0,
              "ticks": ""
             }
            },
            "type": "scattergl"
           }
          ],
          "scattermapbox": [
           {
            "marker": {
             "colorbar": {
              "outlinewidth": 0,
              "ticks": ""
             }
            },
            "type": "scattermapbox"
           }
          ],
          "scatterpolar": [
           {
            "marker": {
             "colorbar": {
              "outlinewidth": 0,
              "ticks": ""
             }
            },
            "type": "scatterpolar"
           }
          ],
          "scatterpolargl": [
           {
            "marker": {
             "colorbar": {
              "outlinewidth": 0,
              "ticks": ""
             }
            },
            "type": "scatterpolargl"
           }
          ],
          "scatterternary": [
           {
            "marker": {
             "colorbar": {
              "outlinewidth": 0,
              "ticks": ""
             }
            },
            "type": "scatterternary"
           }
          ],
          "surface": [
           {
            "colorbar": {
             "outlinewidth": 0,
             "ticks": ""
            },
            "colorscale": [
             [
              0,
              "#0d0887"
             ],
             [
              0.1111111111111111,
              "#46039f"
             ],
             [
              0.2222222222222222,
              "#7201a8"
             ],
             [
              0.3333333333333333,
              "#9c179e"
             ],
             [
              0.4444444444444444,
              "#bd3786"
             ],
             [
              0.5555555555555556,
              "#d8576b"
             ],
             [
              0.6666666666666666,
              "#ed7953"
             ],
             [
              0.7777777777777778,
              "#fb9f3a"
             ],
             [
              0.8888888888888888,
              "#fdca26"
             ],
             [
              1,
              "#f0f921"
             ]
            ],
            "type": "surface"
           }
          ],
          "table": [
           {
            "cells": {
             "fill": {
              "color": "#EBF0F8"
             },
             "line": {
              "color": "white"
             }
            },
            "header": {
             "fill": {
              "color": "#C8D4E3"
             },
             "line": {
              "color": "white"
             }
            },
            "type": "table"
           }
          ]
         },
         "layout": {
          "annotationdefaults": {
           "arrowcolor": "#2a3f5f",
           "arrowhead": 0,
           "arrowwidth": 1
          },
          "colorscale": {
           "diverging": [
            [
             0,
             "#8e0152"
            ],
            [
             0.1,
             "#c51b7d"
            ],
            [
             0.2,
             "#de77ae"
            ],
            [
             0.3,
             "#f1b6da"
            ],
            [
             0.4,
             "#fde0ef"
            ],
            [
             0.5,
             "#f7f7f7"
            ],
            [
             0.6,
             "#e6f5d0"
            ],
            [
             0.7,
             "#b8e186"
            ],
            [
             0.8,
             "#7fbc41"
            ],
            [
             0.9,
             "#4d9221"
            ],
            [
             1,
             "#276419"
            ]
           ],
           "sequential": [
            [
             0,
             "#0d0887"
            ],
            [
             0.1111111111111111,
             "#46039f"
            ],
            [
             0.2222222222222222,
             "#7201a8"
            ],
            [
             0.3333333333333333,
             "#9c179e"
            ],
            [
             0.4444444444444444,
             "#bd3786"
            ],
            [
             0.5555555555555556,
             "#d8576b"
            ],
            [
             0.6666666666666666,
             "#ed7953"
            ],
            [
             0.7777777777777778,
             "#fb9f3a"
            ],
            [
             0.8888888888888888,
             "#fdca26"
            ],
            [
             1,
             "#f0f921"
            ]
           ],
           "sequentialminus": [
            [
             0,
             "#0d0887"
            ],
            [
             0.1111111111111111,
             "#46039f"
            ],
            [
             0.2222222222222222,
             "#7201a8"
            ],
            [
             0.3333333333333333,
             "#9c179e"
            ],
            [
             0.4444444444444444,
             "#bd3786"
            ],
            [
             0.5555555555555556,
             "#d8576b"
            ],
            [
             0.6666666666666666,
             "#ed7953"
            ],
            [
             0.7777777777777778,
             "#fb9f3a"
            ],
            [
             0.8888888888888888,
             "#fdca26"
            ],
            [
             1,
             "#f0f921"
            ]
           ]
          },
          "colorway": [
           "#636efa",
           "#EF553B",
           "#00cc96",
           "#ab63fa",
           "#FFA15A",
           "#19d3f3",
           "#FF6692",
           "#B6E880",
           "#FF97FF",
           "#FECB52"
          ],
          "font": {
           "color": "#2a3f5f"
          },
          "geo": {
           "bgcolor": "white",
           "lakecolor": "white",
           "landcolor": "#E5ECF6",
           "showlakes": true,
           "showland": true,
           "subunitcolor": "white"
          },
          "hoverlabel": {
           "align": "left"
          },
          "hovermode": "closest",
          "mapbox": {
           "style": "light"
          },
          "paper_bgcolor": "white",
          "plot_bgcolor": "#E5ECF6",
          "polar": {
           "angularaxis": {
            "gridcolor": "white",
            "linecolor": "white",
            "ticks": ""
           },
           "bgcolor": "#E5ECF6",
           "radialaxis": {
            "gridcolor": "white",
            "linecolor": "white",
            "ticks": ""
           }
          },
          "scene": {
           "xaxis": {
            "backgroundcolor": "#E5ECF6",
            "gridcolor": "white",
            "gridwidth": 2,
            "linecolor": "white",
            "showbackground": true,
            "ticks": "",
            "zerolinecolor": "white"
           },
           "yaxis": {
            "backgroundcolor": "#E5ECF6",
            "gridcolor": "white",
            "gridwidth": 2,
            "linecolor": "white",
            "showbackground": true,
            "ticks": "",
            "zerolinecolor": "white"
           },
           "zaxis": {
            "backgroundcolor": "#E5ECF6",
            "gridcolor": "white",
            "gridwidth": 2,
            "linecolor": "white",
            "showbackground": true,
            "ticks": "",
            "zerolinecolor": "white"
           }
          },
          "shapedefaults": {
           "line": {
            "color": "#2a3f5f"
           }
          },
          "ternary": {
           "aaxis": {
            "gridcolor": "white",
            "linecolor": "white",
            "ticks": ""
           },
           "baxis": {
            "gridcolor": "white",
            "linecolor": "white",
            "ticks": ""
           },
           "bgcolor": "#E5ECF6",
           "caxis": {
            "gridcolor": "white",
            "linecolor": "white",
            "ticks": ""
           }
          },
          "title": {
           "x": 0.05
          },
          "xaxis": {
           "automargin": true,
           "gridcolor": "white",
           "linecolor": "white",
           "ticks": "",
           "zerolinecolor": "white",
           "zerolinewidth": 2
          },
          "yaxis": {
           "automargin": true,
           "gridcolor": "white",
           "linecolor": "white",
           "ticks": "",
           "zerolinecolor": "white",
           "zerolinewidth": 2
          }
         }
        },
        "title": {
         "text": "new_cases_per_million"
        }
       }
      }
     },
     "metadata": {}
    }
   ],
   "source": [
    "\n",
    "fig = go.Figure(data=[go.Bar(x=countries_cols['date'], y=countries_cols['new_cases_per_million'])], layout_title_text=\"new_cases_per_million\")\n",
    "fig.show()"
   ]
  },
  {
   "cell_type": "code",
   "execution_count": 33,
   "metadata": {},
   "outputs": [
    {
     "output_type": "display_data",
     "data": {
      "application/vnd.plotly.v1+json": {
       "config": {
        "plotlyServerURL": "https://plot.ly"
       },
       "data": [
        {
         "type": "bar",
         "x": [
          "2020-02-01",
          "2020-02-02",
          "2020-02-03",
          "2020-02-04",
          "2020-02-05",
          "2020-02-06",
          "2020-02-07",
          "2020-02-08",
          "2020-02-09",
          "2020-02-10",
          "2020-02-11",
          "2020-02-12",
          "2020-02-13",
          "2020-02-14",
          "2020-02-15",
          "2020-02-16",
          "2020-02-17",
          "2020-02-18",
          "2020-02-19",
          "2020-02-20",
          "2020-02-21",
          "2020-02-22",
          "2020-02-23",
          "2020-02-24",
          "2020-02-25",
          "2020-02-26",
          "2020-02-27",
          "2020-02-28",
          "2020-02-29",
          "2020-03-01",
          "2020-03-02",
          "2020-03-03",
          "2020-03-04",
          "2020-03-05",
          "2020-03-06",
          "2020-03-07",
          "2020-03-08",
          "2020-03-09",
          "2020-03-10",
          "2020-03-11",
          "2020-03-12",
          "2020-03-13",
          "2020-03-14",
          "2020-03-15",
          "2020-03-16",
          "2020-03-17",
          "2020-03-18",
          "2020-03-19",
          "2020-03-20",
          "2020-03-21",
          "2020-03-22",
          "2020-03-23",
          "2020-03-24",
          "2020-03-25",
          "2020-03-26",
          "2020-03-27",
          "2020-03-28",
          "2020-03-29",
          "2020-03-30",
          "2020-03-31",
          "2020-04-01",
          "2020-04-02",
          "2020-04-03",
          "2020-04-04",
          "2020-04-05",
          "2020-04-06",
          "2020-04-07",
          "2020-04-08",
          "2020-04-09",
          "2020-04-10",
          "2020-04-11",
          "2020-04-12",
          "2020-04-13",
          "2020-04-14",
          "2020-04-15",
          "2020-04-16",
          "2020-04-17",
          "2020-04-18",
          "2020-04-19",
          "2020-04-20",
          "2020-04-21",
          "2020-04-22",
          "2020-04-23",
          "2020-04-24",
          "2020-04-25",
          "2020-04-26",
          "2020-04-27",
          "2020-04-28",
          "2020-04-29",
          "2020-04-30",
          "2020-05-01",
          "2020-05-02",
          "2020-05-03",
          "2020-05-04",
          "2020-05-05",
          "2020-05-06",
          "2020-05-07",
          "2020-05-08",
          "2020-05-09",
          "2020-05-10",
          "2020-05-11",
          "2020-05-12",
          "2020-05-13",
          "2020-05-14",
          "2020-05-15",
          "2020-05-16",
          "2020-05-17",
          "2020-05-18",
          "2020-05-19",
          "2020-05-20",
          "2020-05-21",
          "2020-05-22",
          "2020-05-23",
          "2020-05-24",
          "2020-05-25",
          "2020-05-26",
          "2020-05-27",
          "2020-05-28",
          "2020-05-29",
          "2020-05-30",
          "2020-05-31",
          "2020-06-01",
          "2020-06-02",
          "2020-06-03",
          "2020-06-04",
          "2020-06-05",
          "2020-06-06",
          "2020-06-07",
          "2020-06-08",
          "2020-06-09",
          "2020-06-10",
          "2020-06-11",
          "2020-06-12",
          "2020-06-13",
          "2020-06-14",
          "2020-06-15",
          "2020-06-16",
          "2020-06-17",
          "2020-06-18",
          "2020-06-19",
          "2020-06-20",
          "2020-06-21",
          "2020-06-22",
          "2020-06-23",
          "2020-06-24",
          "2020-06-25",
          "2020-06-26",
          "2020-06-27",
          "2020-06-28",
          "2020-06-29",
          "2020-06-30",
          "2020-07-01",
          "2020-07-02",
          "2020-07-03",
          "2020-07-04",
          "2020-07-05",
          "2020-07-06",
          "2020-07-07",
          "2020-07-08",
          "2020-07-09",
          "2020-07-10",
          "2020-07-11",
          "2020-07-12",
          "2020-07-13",
          "2020-07-14",
          "2020-07-15",
          "2020-07-16",
          "2020-07-17",
          "2020-07-18",
          "2020-07-19",
          "2020-07-20",
          "2020-07-21",
          "2020-07-22",
          "2020-07-23",
          "2020-07-24",
          "2020-07-25",
          "2020-07-26",
          "2020-07-27",
          "2020-07-28",
          "2020-07-29",
          "2020-07-30",
          "2020-07-31",
          "2020-08-01",
          "2020-08-02",
          "2020-08-03",
          "2020-08-04",
          "2020-08-05",
          "2020-08-06",
          "2020-08-07",
          "2020-08-08",
          "2020-08-09",
          "2020-08-10",
          "2020-08-11",
          "2020-08-12",
          "2020-08-13",
          "2020-08-14",
          "2020-08-15",
          "2020-08-16",
          "2020-08-17",
          "2020-08-18",
          "2020-08-19",
          "2020-08-20",
          "2020-08-21",
          "2020-08-22",
          "2020-08-23",
          "2020-08-24",
          "2020-08-25",
          "2020-08-26",
          "2020-08-27",
          "2020-08-28",
          "2020-08-29",
          "2020-08-30",
          "2020-08-31",
          "2020-09-01",
          "2020-09-02",
          "2020-09-03",
          "2020-09-04",
          "2020-09-05",
          "2020-09-06",
          "2020-09-07",
          "2020-09-08",
          "2020-09-09",
          "2020-09-10",
          "2020-09-11",
          "2020-09-12",
          "2020-09-13",
          "2020-09-14",
          "2020-09-15",
          "2020-09-16",
          "2020-09-17",
          "2020-09-18",
          "2020-09-19",
          "2020-09-20",
          "2020-09-21",
          "2020-09-22",
          "2020-09-23",
          "2020-09-24",
          "2020-09-25",
          "2020-09-26",
          "2020-09-27",
          "2020-09-28",
          "2020-09-29",
          "2020-09-30",
          "2020-10-01",
          "2020-10-02",
          "2020-10-03",
          "2020-10-04",
          "2020-10-05",
          "2020-10-06",
          "2020-10-07",
          "2020-10-08",
          "2020-10-09",
          "2020-10-10",
          "2020-10-11",
          "2020-10-12",
          "2020-10-13",
          "2020-10-14",
          "2020-10-15",
          "2020-10-16",
          "2020-10-17",
          "2020-10-18",
          "2020-10-19",
          "2020-10-20",
          "2020-10-21",
          "2020-10-22",
          "2020-10-23",
          "2020-10-24",
          "2020-10-25",
          "2020-10-26",
          "2020-10-27",
          "2020-10-28",
          "2020-10-29",
          "2020-10-30",
          "2020-10-31",
          "2020-11-01",
          "2020-11-02",
          "2020-11-03",
          "2020-11-04",
          "2020-11-05",
          "2020-11-06",
          "2020-11-07",
          "2020-11-08",
          "2020-11-09",
          "2020-11-10",
          "2020-11-11",
          "2020-11-12",
          "2020-11-13",
          "2020-11-14",
          "2020-11-15",
          "2020-11-16",
          "2020-11-17",
          "2020-11-18",
          "2020-11-19",
          "2020-11-20",
          "2020-11-21",
          "2020-11-22",
          "2020-11-23",
          "2020-11-24",
          "2020-11-25",
          "2020-11-26",
          "2020-11-27",
          "2020-11-28",
          "2020-11-29",
          "2020-11-30",
          "2020-12-01",
          "2020-12-02",
          "2020-12-03",
          "2020-12-04",
          "2020-12-05",
          "2020-12-06",
          "2020-12-07",
          "2020-12-08",
          "2020-12-09",
          "2020-12-10",
          "2020-12-11",
          "2020-12-12",
          "2020-12-13",
          "2020-12-14",
          "2020-12-15",
          "2020-12-16",
          "2020-12-17",
          "2020-12-18",
          "2020-12-19",
          "2020-12-20",
          "2020-12-21",
          "2020-12-22",
          "2020-12-23",
          "2020-12-24",
          "2020-12-25",
          "2020-12-26",
          "2020-12-27",
          "2020-12-28",
          "2020-12-29",
          "2020-12-30",
          "2020-12-31",
          "2021-01-01",
          "2021-01-02",
          "2021-01-03",
          "2021-01-04",
          "2021-01-05",
          "2021-01-06",
          "2021-01-07",
          "2021-01-08",
          "2021-01-09",
          "2021-01-10",
          "2021-01-11",
          "2021-01-12",
          "2021-01-13",
          "2021-01-14",
          "2021-01-15",
          "2021-01-16",
          "2021-01-17"
         ],
         "y": [
          null,
          null,
          null,
          null,
          null,
          null,
          null,
          null,
          null,
          null,
          null,
          null,
          null,
          null,
          null,
          null,
          null,
          null,
          null,
          null,
          null,
          null,
          null,
          null,
          null,
          null,
          null,
          null,
          null,
          null,
          null,
          0.021,
          0.043,
          0.064,
          0.107,
          0.214,
          0.364,
          0.599,
          0.7490000000000001,
          1.155,
          1.176,
          2.845,
          4.171,
          6.181,
          7.315,
          11.4,
          13.325,
          17.752,
          22.308000000000003,
          29.409000000000002,
          37.9,
          49.428000000000004,
          60.058,
          78.003,
          93.359,
          109.89299999999999,
          127.944,
          145.504,
          165.03099999999998,
          181.03,
          200.771,
          221.325,
          239.505,
          255.525,
          270.368,
          285.34,
          300.397,
          316.374,
          330.38300000000004,
          343.94300000000004,
          355.17199999999997,
          368.069,
          379.769,
          386.185,
          400.13,
          413.11300000000006,
          427.806,
          428.68300000000005,
          437.45300000000003,
          445.986,
          455.18300000000005,
          464.48699999999997,
          473.898,
          481.74800000000005,
          489.832,
          495.99199999999996,
          503.07199999999995,
          509.509,
          519.198,
          524.93,
          524.93,
          536.8430000000001,
          540.351,
          543.859,
          547.816,
          553.034,
          557.59,
          562.488,
          566.316,
          569.375,
          572.006,
          575.77,
          579.705,
          584.347,
          587.298,
          589.523,
          589.523,
          592.645,
          594.121,
          596.474,
          597.586,
          612.3009999999999,
          613.37,
          614.953,
          573.931,
          579.9830000000001,
          579.9830000000001,
          580.026,
          580.069,
          580.155,
          580.197,
          580.197,
          580.197,
          580.219,
          580.326,
          580.347,
          580.368,
          580.39,
          580.39,
          580.39,
          580.39,
          580.39,
          580.39,
          580.39,
          580.39,
          580.39,
          580.39,
          580.39,
          580.39,
          605.606,
          605.756,
          605.778,
          605.799,
          605.82,
          605.863,
          605.927,
          606.0980000000001,
          606.163,
          606.205,
          606.27,
          606.462,
          606.655,
          606.74,
          607.104,
          607.104,
          607.104,
          607.168,
          607.253,
          607.339,
          607.446,
          607.489,
          607.489,
          607.489,
          607.553,
          607.617,
          607.703,
          607.7669999999999,
          607.852,
          607.852,
          607.852,
          607.895,
          607.938,
          607.981,
          608.045,
          608.109,
          608.109,
          608.109,
          608.1519999999999,
          608.194,
          608.3009999999999,
          608.344,
          608.387,
          608.387,
          608.387,
          608.964,
          609.521,
          609.5419999999999,
          609.563,
          609.627,
          609.627,
          609.627,
          611.189,
          611.2959999999999,
          611.253,
          611.809,
          612.066,
          612.066,
          612.066,
          612.686,
          613.1990000000001,
          615.9159999999999,
          616.258,
          616.793,
          616.793,
          616.793,
          617.52,
          618.632,
          619.637,
          620.172,
          620.493,
          620.493,
          620.493,
          622.268,
          623.508,
          624.4069999999999,
          625.262,
          629.198,
          629.198,
          629.198,
          631.294,
          632.962,
          633.689,
          635.2080000000001,
          636.234,
          636.234,
          636.234,
          638.395,
          641.731,
          646.8430000000001,
          650.308,
          652.2330000000001,
          652.2330000000001,
          652.2330000000001,
          655.826,
          660.9810000000001,
          663.7610000000001,
          665.558,
          667.9960000000001,
          667.9960000000001,
          667.9960000000001,
          671.824,
          671.824,
          679.952,
          683.8439999999999,
          686.2610000000001,
          686.2610000000001,
          686.2610000000001,
          689.2339999999999,
          694.817,
          696.442,
          699.137,
          704.2919999999999,
          704.2919999999999,
          704.2919999999999,
          708.462,
          710.173,
          714.643,
          717.638,
          722.3860000000001,
          722.3860000000001,
          722.3860000000001,
          727.0269999999999,
          731.69,
          735.0260000000001,
          738.342,
          743.2819999999999,
          743.2819999999999,
          743.2819999999999,
          749.25,
          754.96,
          758.553,
          762.2539999999999,
          767.365,
          767.365,
          767.365,
          775.471,
          780.562,
          815.275,
          823.1460000000001,
          830.567,
          830.567,
          830.567,
          841.518,
          841.518,
          857.773,
          865.387,
          871.975,
          871.975,
          871.975,
          882.327,
          891.6310000000001,
          899.138,
          904.528,
          911.543,
          911.543,
          911.543,
          922.4939999999999,
          933.9789999999999,
          941.872,
          949.079,
          955.367,
          955.367,
          955.367,
          963.944,
          973.398,
          979.237,
          984.669,
          989.2460000000001,
          989.2460000000001,
          989.2460000000001,
          997.673,
          997.673,
          1005.6510000000001,
          1012.602,
          1018.591,
          1018.591,
          1018.591,
          1026.911,
          1035.21,
          1039.38,
          1043.252,
          1046.438,
          1046.438,
          1046.438,
          1053.5819999999999,
          1059.143,
          1062.95,
          1065.645,
          1065.645,
          1065.645,
          1065.645,
          1072.019,
          1078.863,
          1084.146,
          1087.3110000000001,
          1087.3110000000001,
          1087.3110000000001,
          1087.3110000000001,
          1092.4660000000001,
          1099.994,
          1099.994,
          1105.235,
          1109.491,
          1109.491,
          1109.491,
          1118.067,
          1126.7939999999999,
          1130.965,
          1135.264,
          1140.29,
          1140.29,
          1140.29
         ]
        }
       ],
       "layout": {
        "template": {
         "data": {
          "bar": [
           {
            "error_x": {
             "color": "#2a3f5f"
            },
            "error_y": {
             "color": "#2a3f5f"
            },
            "marker": {
             "line": {
              "color": "#E5ECF6",
              "width": 0.5
             }
            },
            "type": "bar"
           }
          ],
          "barpolar": [
           {
            "marker": {
             "line": {
              "color": "#E5ECF6",
              "width": 0.5
             }
            },
            "type": "barpolar"
           }
          ],
          "carpet": [
           {
            "aaxis": {
             "endlinecolor": "#2a3f5f",
             "gridcolor": "white",
             "linecolor": "white",
             "minorgridcolor": "white",
             "startlinecolor": "#2a3f5f"
            },
            "baxis": {
             "endlinecolor": "#2a3f5f",
             "gridcolor": "white",
             "linecolor": "white",
             "minorgridcolor": "white",
             "startlinecolor": "#2a3f5f"
            },
            "type": "carpet"
           }
          ],
          "choropleth": [
           {
            "colorbar": {
             "outlinewidth": 0,
             "ticks": ""
            },
            "type": "choropleth"
           }
          ],
          "contour": [
           {
            "colorbar": {
             "outlinewidth": 0,
             "ticks": ""
            },
            "colorscale": [
             [
              0,
              "#0d0887"
             ],
             [
              0.1111111111111111,
              "#46039f"
             ],
             [
              0.2222222222222222,
              "#7201a8"
             ],
             [
              0.3333333333333333,
              "#9c179e"
             ],
             [
              0.4444444444444444,
              "#bd3786"
             ],
             [
              0.5555555555555556,
              "#d8576b"
             ],
             [
              0.6666666666666666,
              "#ed7953"
             ],
             [
              0.7777777777777778,
              "#fb9f3a"
             ],
             [
              0.8888888888888888,
              "#fdca26"
             ],
             [
              1,
              "#f0f921"
             ]
            ],
            "type": "contour"
           }
          ],
          "contourcarpet": [
           {
            "colorbar": {
             "outlinewidth": 0,
             "ticks": ""
            },
            "type": "contourcarpet"
           }
          ],
          "heatmap": [
           {
            "colorbar": {
             "outlinewidth": 0,
             "ticks": ""
            },
            "colorscale": [
             [
              0,
              "#0d0887"
             ],
             [
              0.1111111111111111,
              "#46039f"
             ],
             [
              0.2222222222222222,
              "#7201a8"
             ],
             [
              0.3333333333333333,
              "#9c179e"
             ],
             [
              0.4444444444444444,
              "#bd3786"
             ],
             [
              0.5555555555555556,
              "#d8576b"
             ],
             [
              0.6666666666666666,
              "#ed7953"
             ],
             [
              0.7777777777777778,
              "#fb9f3a"
             ],
             [
              0.8888888888888888,
              "#fdca26"
             ],
             [
              1,
              "#f0f921"
             ]
            ],
            "type": "heatmap"
           }
          ],
          "heatmapgl": [
           {
            "colorbar": {
             "outlinewidth": 0,
             "ticks": ""
            },
            "colorscale": [
             [
              0,
              "#0d0887"
             ],
             [
              0.1111111111111111,
              "#46039f"
             ],
             [
              0.2222222222222222,
              "#7201a8"
             ],
             [
              0.3333333333333333,
              "#9c179e"
             ],
             [
              0.4444444444444444,
              "#bd3786"
             ],
             [
              0.5555555555555556,
              "#d8576b"
             ],
             [
              0.6666666666666666,
              "#ed7953"
             ],
             [
              0.7777777777777778,
              "#fb9f3a"
             ],
             [
              0.8888888888888888,
              "#fdca26"
             ],
             [
              1,
              "#f0f921"
             ]
            ],
            "type": "heatmapgl"
           }
          ],
          "histogram": [
           {
            "marker": {
             "colorbar": {
              "outlinewidth": 0,
              "ticks": ""
             }
            },
            "type": "histogram"
           }
          ],
          "histogram2d": [
           {
            "colorbar": {
             "outlinewidth": 0,
             "ticks": ""
            },
            "colorscale": [
             [
              0,
              "#0d0887"
             ],
             [
              0.1111111111111111,
              "#46039f"
             ],
             [
              0.2222222222222222,
              "#7201a8"
             ],
             [
              0.3333333333333333,
              "#9c179e"
             ],
             [
              0.4444444444444444,
              "#bd3786"
             ],
             [
              0.5555555555555556,
              "#d8576b"
             ],
             [
              0.6666666666666666,
              "#ed7953"
             ],
             [
              0.7777777777777778,
              "#fb9f3a"
             ],
             [
              0.8888888888888888,
              "#fdca26"
             ],
             [
              1,
              "#f0f921"
             ]
            ],
            "type": "histogram2d"
           }
          ],
          "histogram2dcontour": [
           {
            "colorbar": {
             "outlinewidth": 0,
             "ticks": ""
            },
            "colorscale": [
             [
              0,
              "#0d0887"
             ],
             [
              0.1111111111111111,
              "#46039f"
             ],
             [
              0.2222222222222222,
              "#7201a8"
             ],
             [
              0.3333333333333333,
              "#9c179e"
             ],
             [
              0.4444444444444444,
              "#bd3786"
             ],
             [
              0.5555555555555556,
              "#d8576b"
             ],
             [
              0.6666666666666666,
              "#ed7953"
             ],
             [
              0.7777777777777778,
              "#fb9f3a"
             ],
             [
              0.8888888888888888,
              "#fdca26"
             ],
             [
              1,
              "#f0f921"
             ]
            ],
            "type": "histogram2dcontour"
           }
          ],
          "mesh3d": [
           {
            "colorbar": {
             "outlinewidth": 0,
             "ticks": ""
            },
            "type": "mesh3d"
           }
          ],
          "parcoords": [
           {
            "line": {
             "colorbar": {
              "outlinewidth": 0,
              "ticks": ""
             }
            },
            "type": "parcoords"
           }
          ],
          "scatter": [
           {
            "marker": {
             "colorbar": {
              "outlinewidth": 0,
              "ticks": ""
             }
            },
            "type": "scatter"
           }
          ],
          "scatter3d": [
           {
            "line": {
             "colorbar": {
              "outlinewidth": 0,
              "ticks": ""
             }
            },
            "marker": {
             "colorbar": {
              "outlinewidth": 0,
              "ticks": ""
             }
            },
            "type": "scatter3d"
           }
          ],
          "scattercarpet": [
           {
            "marker": {
             "colorbar": {
              "outlinewidth": 0,
              "ticks": ""
             }
            },
            "type": "scattercarpet"
           }
          ],
          "scattergeo": [
           {
            "marker": {
             "colorbar": {
              "outlinewidth": 0,
              "ticks": ""
             }
            },
            "type": "scattergeo"
           }
          ],
          "scattergl": [
           {
            "marker": {
             "colorbar": {
              "outlinewidth": 0,
              "ticks": ""
             }
            },
            "type": "scattergl"
           }
          ],
          "scattermapbox": [
           {
            "marker": {
             "colorbar": {
              "outlinewidth": 0,
              "ticks": ""
             }
            },
            "type": "scattermapbox"
           }
          ],
          "scatterpolar": [
           {
            "marker": {
             "colorbar": {
              "outlinewidth": 0,
              "ticks": ""
             }
            },
            "type": "scatterpolar"
           }
          ],
          "scatterpolargl": [
           {
            "marker": {
             "colorbar": {
              "outlinewidth": 0,
              "ticks": ""
             }
            },
            "type": "scatterpolargl"
           }
          ],
          "scatterternary": [
           {
            "marker": {
             "colorbar": {
              "outlinewidth": 0,
              "ticks": ""
             }
            },
            "type": "scatterternary"
           }
          ],
          "surface": [
           {
            "colorbar": {
             "outlinewidth": 0,
             "ticks": ""
            },
            "colorscale": [
             [
              0,
              "#0d0887"
             ],
             [
              0.1111111111111111,
              "#46039f"
             ],
             [
              0.2222222222222222,
              "#7201a8"
             ],
             [
              0.3333333333333333,
              "#9c179e"
             ],
             [
              0.4444444444444444,
              "#bd3786"
             ],
             [
              0.5555555555555556,
              "#d8576b"
             ],
             [
              0.6666666666666666,
              "#ed7953"
             ],
             [
              0.7777777777777778,
              "#fb9f3a"
             ],
             [
              0.8888888888888888,
              "#fdca26"
             ],
             [
              1,
              "#f0f921"
             ]
            ],
            "type": "surface"
           }
          ],
          "table": [
           {
            "cells": {
             "fill": {
              "color": "#EBF0F8"
             },
             "line": {
              "color": "white"
             }
            },
            "header": {
             "fill": {
              "color": "#C8D4E3"
             },
             "line": {
              "color": "white"
             }
            },
            "type": "table"
           }
          ]
         },
         "layout": {
          "annotationdefaults": {
           "arrowcolor": "#2a3f5f",
           "arrowhead": 0,
           "arrowwidth": 1
          },
          "colorscale": {
           "diverging": [
            [
             0,
             "#8e0152"
            ],
            [
             0.1,
             "#c51b7d"
            ],
            [
             0.2,
             "#de77ae"
            ],
            [
             0.3,
             "#f1b6da"
            ],
            [
             0.4,
             "#fde0ef"
            ],
            [
             0.5,
             "#f7f7f7"
            ],
            [
             0.6,
             "#e6f5d0"
            ],
            [
             0.7,
             "#b8e186"
            ],
            [
             0.8,
             "#7fbc41"
            ],
            [
             0.9,
             "#4d9221"
            ],
            [
             1,
             "#276419"
            ]
           ],
           "sequential": [
            [
             0,
             "#0d0887"
            ],
            [
             0.1111111111111111,
             "#46039f"
            ],
            [
             0.2222222222222222,
             "#7201a8"
            ],
            [
             0.3333333333333333,
             "#9c179e"
            ],
            [
             0.4444444444444444,
             "#bd3786"
            ],
            [
             0.5555555555555556,
             "#d8576b"
            ],
            [
             0.6666666666666666,
             "#ed7953"
            ],
            [
             0.7777777777777778,
             "#fb9f3a"
            ],
            [
             0.8888888888888888,
             "#fdca26"
            ],
            [
             1,
             "#f0f921"
            ]
           ],
           "sequentialminus": [
            [
             0,
             "#0d0887"
            ],
            [
             0.1111111111111111,
             "#46039f"
            ],
            [
             0.2222222222222222,
             "#7201a8"
            ],
            [
             0.3333333333333333,
             "#9c179e"
            ],
            [
             0.4444444444444444,
             "#bd3786"
            ],
            [
             0.5555555555555556,
             "#d8576b"
            ],
            [
             0.6666666666666666,
             "#ed7953"
            ],
            [
             0.7777777777777778,
             "#fb9f3a"
            ],
            [
             0.8888888888888888,
             "#fdca26"
            ],
            [
             1,
             "#f0f921"
            ]
           ]
          },
          "colorway": [
           "#636efa",
           "#EF553B",
           "#00cc96",
           "#ab63fa",
           "#FFA15A",
           "#19d3f3",
           "#FF6692",
           "#B6E880",
           "#FF97FF",
           "#FECB52"
          ],
          "font": {
           "color": "#2a3f5f"
          },
          "geo": {
           "bgcolor": "white",
           "lakecolor": "white",
           "landcolor": "#E5ECF6",
           "showlakes": true,
           "showland": true,
           "subunitcolor": "white"
          },
          "hoverlabel": {
           "align": "left"
          },
          "hovermode": "closest",
          "mapbox": {
           "style": "light"
          },
          "paper_bgcolor": "white",
          "plot_bgcolor": "#E5ECF6",
          "polar": {
           "angularaxis": {
            "gridcolor": "white",
            "linecolor": "white",
            "ticks": ""
           },
           "bgcolor": "#E5ECF6",
           "radialaxis": {
            "gridcolor": "white",
            "linecolor": "white",
            "ticks": ""
           }
          },
          "scene": {
           "xaxis": {
            "backgroundcolor": "#E5ECF6",
            "gridcolor": "white",
            "gridwidth": 2,
            "linecolor": "white",
            "showbackground": true,
            "ticks": "",
            "zerolinecolor": "white"
           },
           "yaxis": {
            "backgroundcolor": "#E5ECF6",
            "gridcolor": "white",
            "gridwidth": 2,
            "linecolor": "white",
            "showbackground": true,
            "ticks": "",
            "zerolinecolor": "white"
           },
           "zaxis": {
            "backgroundcolor": "#E5ECF6",
            "gridcolor": "white",
            "gridwidth": 2,
            "linecolor": "white",
            "showbackground": true,
            "ticks": "",
            "zerolinecolor": "white"
           }
          },
          "shapedefaults": {
           "line": {
            "color": "#2a3f5f"
           }
          },
          "ternary": {
           "aaxis": {
            "gridcolor": "white",
            "linecolor": "white",
            "ticks": ""
           },
           "baxis": {
            "gridcolor": "white",
            "linecolor": "white",
            "ticks": ""
           },
           "bgcolor": "#E5ECF6",
           "caxis": {
            "gridcolor": "white",
            "linecolor": "white",
            "ticks": ""
           }
          },
          "title": {
           "x": 0.05
          },
          "xaxis": {
           "automargin": true,
           "gridcolor": "white",
           "linecolor": "white",
           "ticks": "",
           "zerolinecolor": "white",
           "zerolinewidth": 2
          },
          "yaxis": {
           "automargin": true,
           "gridcolor": "white",
           "linecolor": "white",
           "ticks": "",
           "zerolinecolor": "white",
           "zerolinewidth": 2
          }
         }
        },
        "title": {
         "text": "total_deaths_per_million"
        }
       }
      }
     },
     "metadata": {}
    }
   ],
   "source": [
    "\n",
    "fig = go.Figure(data=[go.Bar(x=esp['date'], y=esp['total_deaths_per_million'])], layout_title_text=\"total_deaths_per_million\")\n",
    "fig.show()"
   ]
  },
  {
   "cell_type": "code",
   "execution_count": 47,
   "metadata": {},
   "outputs": [
    {
     "output_type": "display_data",
     "data": {
      "application/vnd.plotly.v1+json": {
       "config": {
        "plotlyServerURL": "https://plot.ly"
       },
       "data": [
        {
         "type": "bar",
         "x": [
          "2020-04-07",
          "2020-04-08",
          "2020-04-09",
          "2020-04-10",
          "2020-04-11",
          "2020-04-12",
          "2020-04-13",
          "2020-04-14",
          "2020-04-15",
          "2020-04-16",
          "2020-04-17",
          "2020-04-18",
          "2020-04-19",
          "2020-04-20",
          "2020-04-21",
          "2020-04-22",
          "2020-04-23",
          "2020-04-24",
          "2020-04-25",
          "2020-04-26",
          "2020-04-27",
          "2020-04-28",
          "2020-04-29",
          "2020-04-30",
          "2020-05-01",
          "2020-05-02",
          "2020-05-03",
          "2020-05-04",
          "2020-05-05",
          "2020-05-06",
          "2020-05-07",
          "2020-05-08",
          "2020-05-09",
          "2020-05-10",
          "2020-05-11",
          "2020-05-12",
          "2020-05-13",
          "2020-05-14",
          "2020-05-15",
          "2020-05-16",
          "2020-05-17",
          "2020-05-18",
          "2020-05-19",
          "2020-05-20",
          "2020-05-21",
          "2020-05-22",
          "2020-05-23",
          "2020-05-24",
          "2020-05-25",
          "2020-05-26",
          "2020-05-27",
          "2020-05-28",
          "2020-05-29",
          "2020-05-30",
          "2020-05-31",
          "2020-06-01",
          "2020-06-02",
          "2020-06-03",
          "2020-06-04",
          "2020-06-05",
          "2020-06-06",
          "2020-06-07",
          "2020-06-08",
          "2020-06-09",
          "2020-06-10",
          "2020-06-11",
          "2020-06-12",
          "2020-06-13",
          "2020-06-14",
          "2020-06-15",
          "2020-06-16",
          "2020-06-17",
          "2020-06-18",
          "2020-06-19",
          "2020-06-20",
          "2020-06-21",
          "2020-06-22",
          "2020-06-23",
          "2020-06-24",
          "2020-06-25",
          "2020-06-26",
          "2020-06-27",
          "2020-06-28",
          "2020-06-29",
          "2020-06-30",
          "2020-07-01",
          "2020-07-02",
          "2020-07-03",
          "2020-07-04",
          "2020-07-05",
          "2020-07-06",
          "2020-07-07",
          "2020-07-08",
          "2020-07-09",
          "2020-07-10",
          "2020-07-11",
          "2020-07-12",
          "2020-07-13",
          "2020-07-14",
          "2020-07-15",
          "2020-07-16",
          "2020-07-17",
          "2020-07-18",
          "2020-07-19",
          "2020-07-20",
          "2020-07-21",
          "2020-07-22",
          "2020-07-23",
          "2020-07-24",
          "2020-07-25",
          "2020-07-26",
          "2020-07-27",
          "2020-07-28",
          "2020-07-29",
          "2020-07-30",
          "2020-07-31",
          "2020-08-01",
          "2020-08-02",
          "2020-08-03",
          "2020-08-04",
          "2020-08-05",
          "2020-08-06",
          "2020-08-07",
          "2020-08-08",
          "2020-08-09",
          "2020-08-10",
          "2020-08-11",
          "2020-08-12",
          "2020-08-13",
          "2020-08-14",
          "2020-08-15",
          "2020-08-16",
          "2020-08-17",
          "2020-08-18",
          "2020-08-19",
          "2020-08-20",
          "2020-08-21",
          "2020-08-22",
          "2020-08-23",
          "2020-08-24",
          "2020-08-25",
          "2020-08-26",
          "2020-08-27",
          "2020-08-28",
          "2020-08-29",
          "2020-08-30",
          "2020-08-31",
          "2020-09-01",
          "2020-09-02",
          "2020-09-03",
          "2020-09-04",
          "2020-09-05",
          "2020-09-06",
          "2020-09-07",
          "2020-09-08",
          "2020-09-09",
          "2020-09-10",
          "2020-09-11",
          "2020-09-12",
          "2020-09-13",
          "2020-09-14",
          "2020-09-15",
          "2020-09-16",
          "2020-09-17",
          "2020-09-18",
          "2020-09-19",
          "2020-09-20",
          "2020-09-21",
          "2020-09-22",
          "2020-09-23",
          "2020-09-24",
          "2020-09-25",
          "2020-09-26",
          "2020-09-27",
          "2020-09-28",
          "2020-09-29",
          "2020-09-30",
          "2020-10-01",
          "2020-10-02",
          "2020-10-03",
          "2020-10-04",
          "2020-10-05",
          "2020-10-06",
          "2020-10-07",
          "2020-10-08",
          "2020-10-09",
          "2020-10-10",
          "2020-10-11",
          "2020-10-12",
          "2020-10-13",
          "2020-10-14",
          "2020-10-15",
          "2020-10-16",
          "2020-10-17",
          "2020-10-18",
          "2020-10-19",
          "2020-10-20",
          "2020-10-21",
          "2020-10-22",
          "2020-10-23",
          "2020-10-24",
          "2020-10-25",
          "2020-10-26",
          "2020-10-27",
          "2020-10-28",
          "2020-10-29",
          "2020-10-30",
          "2020-10-31",
          "2020-11-01",
          "2020-11-02",
          "2020-11-03",
          "2020-11-04",
          "2020-11-05",
          "2020-11-06",
          "2020-11-07",
          "2020-11-08",
          "2020-11-09",
          "2020-11-10",
          "2020-11-11",
          "2020-11-12",
          "2020-11-13",
          "2020-11-14",
          "2020-11-15",
          "2020-11-16",
          "2020-11-17",
          "2020-11-18",
          "2020-11-19",
          "2020-11-20",
          "2020-11-21",
          "2020-11-22",
          "2020-11-23",
          "2020-11-24",
          "2020-11-25",
          "2020-11-26",
          "2020-11-27",
          "2020-11-28",
          "2020-11-29",
          "2020-11-30",
          "2020-12-01",
          "2020-12-02",
          "2020-12-03",
          "2020-12-04",
          "2020-12-05",
          "2020-12-06",
          "2020-12-07",
          "2020-12-08",
          "2020-12-09",
          "2020-12-10",
          "2020-12-11",
          "2020-12-12",
          "2020-12-13",
          "2020-12-14",
          "2020-12-15",
          "2020-12-16",
          "2020-12-17",
          "2020-12-18",
          "2020-12-19",
          "2020-12-20",
          "2020-12-21",
          "2020-12-22",
          "2020-12-23",
          "2020-12-24",
          "2020-12-25",
          "2020-12-26",
          "2020-12-27",
          "2020-12-28",
          "2020-12-29",
          "2020-12-30",
          "2020-12-31",
          "2021-01-01",
          "2021-01-02",
          "2021-01-03",
          "2021-01-04",
          "2021-01-05",
          "2021-01-06",
          "2021-01-07",
          "2021-01-08",
          "2020-03-17",
          "2020-03-18",
          "2020-03-19",
          "2020-03-20",
          "2020-03-21",
          "2020-03-22",
          "2020-03-23",
          "2020-03-24",
          "2020-03-25",
          "2020-03-26",
          "2020-03-27",
          "2020-03-28",
          "2020-03-29",
          "2020-03-30",
          "2020-03-31",
          "2020-04-01",
          "2020-04-02",
          "2020-04-03",
          "2020-04-04",
          "2020-04-05",
          "2020-04-06",
          "2020-04-07",
          "2020-04-08",
          "2020-04-09",
          "2020-04-10",
          "2020-04-11",
          "2020-04-12",
          "2020-04-13",
          "2020-04-14",
          "2020-04-15",
          "2020-04-16",
          "2020-04-17",
          "2020-04-18",
          "2020-04-19",
          "2020-04-20",
          "2020-04-21",
          "2020-04-22",
          "2020-04-23",
          "2020-04-24",
          "2020-04-25",
          "2020-04-26",
          "2020-04-27",
          "2020-04-28",
          "2020-04-29",
          "2020-04-30",
          "2020-05-01",
          "2020-05-02",
          "2020-05-03",
          "2020-05-04",
          "2020-05-05",
          "2020-05-06",
          "2020-05-07",
          "2020-05-08",
          "2020-05-09",
          "2020-05-10",
          "2020-05-11",
          "2020-05-12",
          "2020-05-13",
          "2020-05-14",
          "2020-05-15",
          "2020-05-16",
          "2020-05-17",
          "2020-05-18",
          "2020-05-19",
          "2020-05-20",
          "2020-05-21",
          "2020-05-22",
          "2020-05-23",
          "2020-05-24",
          "2020-05-25",
          "2020-05-26",
          "2020-05-27",
          "2020-05-28",
          "2020-05-29",
          "2020-05-30",
          "2020-05-31",
          "2020-06-01",
          "2020-06-02",
          "2020-06-03",
          "2020-06-04",
          "2020-06-05",
          "2020-06-06",
          "2020-06-07",
          "2020-06-08",
          "2020-06-09",
          "2020-06-10",
          "2020-06-11",
          "2020-06-12",
          "2020-06-13",
          "2020-06-14",
          "2020-06-15",
          "2020-06-16",
          "2020-06-17",
          "2020-06-18",
          "2020-06-19",
          "2020-06-20",
          "2020-06-21",
          "2020-06-22",
          "2020-06-23",
          "2020-06-24",
          "2020-06-25",
          "2020-06-26",
          "2020-06-27",
          "2020-06-28",
          "2020-06-29",
          "2020-06-30",
          "2020-07-01",
          "2020-07-02",
          "2020-07-03",
          "2020-07-04",
          "2020-07-05",
          "2020-07-06",
          "2020-07-07",
          "2020-07-08",
          "2020-07-09",
          "2020-07-10",
          "2020-07-11",
          "2020-07-12",
          "2020-07-13",
          "2020-07-14",
          "2020-07-15",
          "2020-07-16",
          "2020-07-17",
          "2020-07-18",
          "2020-07-19",
          "2020-07-20",
          "2020-07-21",
          "2020-07-22",
          "2020-07-23",
          "2020-07-24",
          "2020-07-25",
          "2020-07-26",
          "2020-07-27",
          "2020-07-28",
          "2020-07-29",
          "2020-07-30",
          "2020-07-31",
          "2020-08-01",
          "2020-08-02",
          "2020-08-03",
          "2020-08-04",
          "2020-08-05",
          "2020-08-06",
          "2020-08-07",
          "2020-08-08",
          "2020-08-09",
          "2020-08-10",
          "2020-08-11",
          "2020-08-12",
          "2020-08-13",
          "2020-08-14",
          "2020-08-15",
          "2020-08-16",
          "2020-08-17",
          "2020-08-18",
          "2020-08-19",
          "2020-08-20",
          "2020-08-21",
          "2020-08-22",
          "2020-08-23",
          "2020-08-24",
          "2020-08-25",
          "2020-08-26",
          "2020-08-27",
          "2020-08-28",
          "2020-08-29",
          "2020-08-30",
          "2020-08-31",
          "2020-09-01",
          "2020-09-02",
          "2020-09-03",
          "2020-09-04",
          "2020-09-05",
          "2020-09-06",
          "2020-09-07",
          "2020-09-08",
          "2020-09-09",
          "2020-09-10",
          "2020-09-11",
          "2020-09-12",
          "2020-09-13",
          "2020-09-14",
          "2020-09-15",
          "2020-09-16",
          "2020-09-17",
          "2020-09-18",
          "2020-09-19",
          "2020-09-20",
          "2020-09-21",
          "2020-09-22",
          "2020-09-23",
          "2020-09-24",
          "2020-09-25",
          "2020-09-26",
          "2020-09-27",
          "2020-09-28",
          "2020-09-29",
          "2020-09-30",
          "2020-10-01",
          "2020-10-02",
          "2020-10-03",
          "2020-10-04",
          "2020-10-05",
          "2020-10-06",
          "2020-10-07",
          "2020-10-08",
          "2020-10-09",
          "2020-10-10",
          "2020-10-11",
          "2020-10-12",
          "2020-10-13",
          "2020-10-14",
          "2020-10-15",
          "2020-10-16",
          "2020-10-17",
          "2020-10-18",
          "2020-10-19",
          "2020-10-20",
          "2020-10-21",
          "2020-10-22",
          "2020-10-23",
          "2020-10-24",
          "2020-10-25",
          "2020-10-26",
          "2020-10-27",
          "2020-10-28",
          "2020-10-29",
          "2020-10-30",
          "2020-10-31",
          "2020-11-01",
          "2020-11-02",
          "2020-11-03",
          "2020-11-04",
          "2020-11-05",
          "2020-11-06",
          "2020-11-07",
          "2020-11-08",
          "2020-11-09",
          "2020-11-10",
          "2020-11-11",
          "2020-11-12",
          "2020-11-13",
          "2020-11-14",
          "2020-11-15",
          "2020-11-16",
          "2020-11-17",
          "2020-11-18",
          "2020-11-19",
          "2020-11-20",
          "2020-11-21",
          "2020-11-22",
          "2020-11-23",
          "2020-11-24",
          "2020-11-25",
          "2020-11-26",
          "2020-11-27",
          "2020-11-28",
          "2020-11-29",
          "2020-11-30",
          "2020-12-01",
          "2020-12-02",
          "2020-12-03",
          "2020-12-04",
          "2020-12-05",
          "2020-12-06",
          "2020-12-07",
          "2020-12-08",
          "2020-12-09",
          "2020-12-10",
          "2020-12-11",
          "2020-12-12",
          "2020-12-13",
          "2020-12-14",
          "2020-12-15",
          "2020-12-16",
          "2020-12-17",
          "2020-12-18",
          "2020-12-19",
          "2020-12-20",
          "2020-12-21",
          "2020-12-22",
          "2020-12-23",
          "2020-12-24",
          "2020-12-25",
          "2020-12-26",
          "2020-12-27",
          "2020-12-28",
          "2020-12-29",
          "2020-12-30",
          "2020-12-31",
          "2021-01-01",
          "2021-01-02",
          "2021-01-03",
          "2021-01-04",
          "2021-01-05",
          "2021-01-06",
          "2021-01-07",
          "2021-01-08",
          "2020-08-20",
          "2020-08-21",
          "2020-08-24",
          "2020-08-25",
          "2020-08-26",
          "2020-08-27",
          "2020-08-28",
          "2020-08-31",
          "2020-09-01",
          "2020-09-02",
          "2020-09-03",
          "2020-09-04",
          "2020-09-07",
          "2020-09-08",
          "2020-09-09",
          "2020-09-10",
          "2020-09-11",
          "2020-09-14",
          "2020-09-15",
          "2020-09-16",
          "2020-09-17",
          "2020-09-18",
          "2020-09-21",
          "2020-09-22",
          "2020-09-23",
          "2020-09-24",
          "2020-09-25",
          "2020-09-28",
          "2020-09-29",
          "2020-09-30",
          "2020-10-01",
          "2020-10-02",
          "2020-10-05",
          "2020-10-06",
          "2020-10-07",
          "2020-10-08",
          "2020-10-09",
          "2020-10-12",
          "2020-10-13",
          "2020-10-14",
          "2020-10-15",
          "2020-10-16",
          "2020-10-19",
          "2020-10-20",
          "2020-10-21",
          "2020-10-22",
          "2020-10-23",
          "2020-10-26",
          "2020-10-27",
          "2020-10-28",
          "2020-10-29",
          "2020-10-30",
          "2020-11-02",
          "2020-11-03",
          "2020-11-04",
          "2020-11-05",
          "2020-11-06",
          "2020-11-09",
          "2020-11-10",
          "2020-11-11",
          "2020-11-12",
          "2020-11-13",
          "2020-11-16",
          "2020-11-17",
          "2020-11-18",
          "2020-11-19",
          "2020-11-20",
          "2020-11-23",
          "2020-11-24",
          "2020-11-25",
          "2020-11-26",
          "2020-11-27",
          "2020-11-30",
          "2020-12-01",
          "2020-12-02",
          "2020-12-03",
          "2020-12-04",
          "2020-12-09",
          "2020-12-10",
          "2020-12-11",
          "2020-12-14",
          "2020-12-15",
          "2020-12-16",
          "2020-12-17",
          "2020-12-18",
          "2020-12-21",
          "2020-12-22",
          "2020-12-23",
          "2020-12-24",
          "2020-12-28",
          "2020-12-29",
          "2020-12-30",
          "2020-12-31",
          "2021-01-04",
          "2021-01-05",
          "2021-01-07"
         ],
         "y": [
          16.277,
          15.202,
          16.454,
          16.542,
          12.433,
          9.677999999999999,
          10.68,
          15.909,
          13.022,
          15.32,
          13.464,
          16.320999999999998,
          6.377999999999999,
          8.485,
          18.03,
          12.624,
          10.076,
          14.995999999999999,
          12.02,
          5.362,
          4.758,
          14.302999999999999,
          11.357000000000001,
          9.369,
          10.311,
          8.617,
          3.727,
          4.021,
          10.68,
          9.531,
          6.747000000000001,
          8.544,
          4.051,
          3.197,
          2.7689999999999997,
          9.059,
          6.599,
          5.2,
          5.17,
          6.053999999999999,
          0.987,
          2.151,
          7.38,
          4.846,
          4.021,
          4.287,
          3.241,
          5.582999999999999,
          1.5319999999999998,
          1.93,
          6.216,
          5.053,
          4.0360000000000005,
          2.269,
          0.884,
          1.2670000000000001,
          3.6830000000000003,
          3.742,
          1.915,
          3.8,
          2.106,
          0.795,
          0.6920000000000001,
          2.9019999999999997,
          2.416,
          1.12,
          1.93,
          1.5759999999999998,
          0.39799999999999996,
          0.42700000000000005,
          1.768,
          1.62,
          0.987,
          1.237,
          1.046,
          0.457,
          0.191,
          1.385,
          1.2819999999999998,
          1.4580000000000002,
          1.1340000000000001,
          0.589,
          0.457,
          0.309,
          0.795,
          1.429,
          0.604,
          0.722,
          0.47100000000000003,
          0.28,
          0.162,
          0.795,
          0.84,
          0.457,
          0.501,
          0.25,
          0.133,
          0.147,
          0.648,
          0.38299999999999995,
          0.354,
          0.38299999999999995,
          0.133,
          0.162,
          0.147,
          0.368,
          0.25,
          0.133,
          0.47100000000000003,
          0.221,
          0.11800000000000001,
          0.044000000000000004,
          0.309,
          0.501,
          0,
          0.295,
          0.191,
          0.07400000000000001,
          0.015,
          0.265,
          0.20600000000000002,
          0.265,
          0.177,
          0.044000000000000004,
          0.07400000000000001,
          0.265,
          0.191,
          0.295,
          0.265,
          0.162,
          0.044000000000000004,
          0.07400000000000001,
          0.044000000000000004,
          0.177,
          0.25,
          0.08800000000000001,
          0.028999999999999998,
          0.265,
          0.08800000000000001,
          0.059000000000000004,
          0.23600000000000002,
          0.25,
          0.177,
          0.133,
          0.177,
          0.015,
          0.044000000000000004,
          0.044000000000000004,
          0.147,
          0.20600000000000002,
          0.147,
          0.177,
          0.028999999999999998,
          0.044000000000000004,
          0.47100000000000003,
          0.11800000000000001,
          0.20600000000000002,
          0.08800000000000001,
          0.133,
          0.07400000000000001,
          0.133,
          0.39799999999999996,
          0.295,
          0.309,
          0.39799999999999996,
          0.39799999999999996,
          0.265,
          0.162,
          0.545,
          0.545,
          0.589,
          0.501,
          0.516,
          0.25,
          0.191,
          1.061,
          1.046,
          0.8690000000000001,
          0.972,
          0.722,
          0.486,
          0.28,
          1.12,
          1.031,
          1.1340000000000001,
          1.2819999999999998,
          1.193,
          0.9570000000000001,
          0.737,
          2.106,
          2.0180000000000002,
          2.033,
          2.003,
          2.21,
          0.987,
          1.178,
          3.55,
          2.8139999999999996,
          2.784,
          3.3,
          2.563,
          2.224,
          1.5030000000000001,
          5.406000000000001,
          4.566,
          4.125,
          4.0360000000000005,
          4.802,
          2.386,
          2.003,
          5.848,
          7.247000000000001,
          5.568,
          5.229,
          6.084,
          2.298,
          2.872,
          7.837000000000001,
          8.779,
          8.293,
          5.539,
          6.806,
          2.475,
          3.1519999999999997,
          8.824,
          7.792000000000001,
          7.395,
          7.527,
          5.008,
          5.877999999999999,
          3.049,
          8.956,
          10.238,
          7.336,
          7.66,
          7.056,
          3.167,
          2.99,
          8.883,
          9.545,
          6.098,
          7.4239999999999995,
          5.848,
          3.403,
          2.784,
          8.824,
          7.851,
          7.601,
          6.246,
          7.66,
          2.121,
          3.432,
          7.454,
          9.015,
          7.837000000000001,
          7.218,
          7.91,
          4.802,
          3.167,
          10.179,
          11.017999999999999,
          8.47,
          8.396,
          3.108,
          5.112,
          5.2589999999999995,
          6.747000000000001,
          14.465,
          14.215,
          9.059,
          6.555,
          6.702000000000001,
          6.04,
          12.978,
          15.349,
          17.117,
          19.636,
          0.098,
          0.098,
          0.098,
          0.294,
          0.588,
          0.196,
          0.883,
          0.981,
          0.981,
          1.6669999999999998,
          1.569,
          2.354,
          1.8630000000000002,
          2.059,
          1.9609999999999999,
          2.648,
          2.158,
          3.6289999999999996,
          1.9609999999999999,
          2.844,
          1.569,
          3.3339999999999996,
          3.432,
          2.844,
          2.55,
          3.432,
          3.3339999999999996,
          3.04,
          3.138,
          3.138,
          2.9419999999999997,
          2.7460000000000004,
          2.9419999999999997,
          2.648,
          2.059,
          2.648,
          2.256,
          3.432,
          3.3339999999999996,
          2.55,
          2.256,
          2.452,
          1.9609999999999999,
          2.452,
          1.569,
          1.765,
          1.569,
          1.9609999999999999,
          1.9609999999999999,
          1.079,
          1.4709999999999999,
          1.569,
          0.883,
          1.177,
          0.883,
          0.883,
          1.8630000000000002,
          1.177,
          0.883,
          0.588,
          1.275,
          1.4709999999999999,
          1.275,
          1.569,
          1.569,
          1.3730000000000002,
          1.177,
          1.275,
          1.3730000000000002,
          1.3730000000000002,
          1.177,
          1.3730000000000002,
          1.275,
          1.3730000000000002,
          1.275,
          1.3730000000000002,
          1.3730000000000002,
          1.177,
          1.079,
          0.785,
          0.981,
          0.883,
          0.49,
          0.588,
          0.6859999999999999,
          0.49,
          0.6859999999999999,
          0.098,
          0.6859999999999999,
          0.49,
          0.294,
          0.196,
          0.098,
          0.098,
          0.294,
          0.098,
          0.196,
          0.392,
          0.588,
          0.294,
          0.588,
          0.588,
          0.588,
          0.294,
          0.392,
          0.785,
          0.294,
          0.785,
          1.079,
          0.6859999999999999,
          0.883,
          0.588,
          0.883,
          0.196,
          1.275,
          0.196,
          0.785,
          0.588,
          0.196,
          0.588,
          0.785,
          0.294,
          0.294,
          0.196,
          0.49,
          0.196,
          0.588,
          0.49,
          0.294,
          0.6859999999999999,
          0.392,
          0.098,
          0.196,
          0.294,
          0.294,
          0.196,
          0.785,
          0.196,
          0.098,
          0,
          0.098,
          0.098,
          0.294,
          0.294,
          0.392,
          0.588,
          0.294,
          0.196,
          0.294,
          0.588,
          0.196,
          0.294,
          0.294,
          0.098,
          0.49,
          0.196,
          0.196,
          0.392,
          0.196,
          0.196,
          0.49,
          0.392,
          0.196,
          0.196,
          0.588,
          0.294,
          0.098,
          0.294,
          0.196,
          0.294,
          0.196,
          0.392,
          0.49,
          0.196,
          0.294,
          0.294,
          0.294,
          0.294,
          0.294,
          0.49,
          0.6859999999999999,
          0.392,
          0.392,
          0.294,
          0.981,
          0.588,
          0.49,
          1.275,
          0.785,
          0.49,
          0.294,
          0.294,
          0.49,
          0.785,
          0.883,
          0.392,
          0.588,
          0.785,
          0.588,
          0.588,
          1.177,
          0.981,
          1.275,
          1.3730000000000002,
          0.785,
          0.981,
          1.177,
          0.49,
          1.275,
          1.3730000000000002,
          1.569,
          0.6859999999999999,
          1.079,
          2.059,
          1.275,
          1.8630000000000002,
          1.6669999999999998,
          1.4709999999999999,
          1.569,
          1.569,
          3.04,
          2.059,
          1.8630000000000002,
          2.648,
          2.7460000000000004,
          2.354,
          3.236,
          3.923,
          3.825,
          3.6289999999999996,
          4.511,
          4.413,
          5.7860000000000005,
          4.511,
          5.1,
          5.492000000000001,
          4.707,
          6.178,
          6.08,
          8.042,
          7.65,
          6.767,
          5.394,
          7.452999999999999,
          8.924,
          7.944,
          7.747999999999999,
          6.767,
          5.982,
          6.08,
          7.159,
          7.257000000000001,
          8.336,
          6.962999999999999,
          8.042,
          6.571000000000001,
          8.532,
          6.277,
          7.65,
          7.061,
          6.669,
          7.747999999999999,
          7.747999999999999,
          7.159,
          8.532,
          7.65,
          7.944,
          6.865,
          8.434,
          9.317,
          8.63,
          9.611,
          8.826,
          8.238,
          8.042,
          8.532,
          7.355,
          8.434,
          6.962999999999999,
          5.59,
          6.178,
          8.728,
          6.865,
          6.375,
          7.65,
          6.178,
          5.688,
          7.257000000000001,
          7.747999999999999,
          7.452999999999999,
          6.473,
          7.159,
          7.159,
          7.65,
          8.826,
          8.924,
          9.317,
          11.572000000000001,
          0.342,
          0.535,
          0.727,
          1.112,
          1.005,
          0.535,
          0.321,
          1.775,
          1.2409999999999999,
          0.898,
          0.856,
          3.935,
          2.096,
          1.6680000000000001,
          0.727,
          1.5190000000000001,
          1.0270000000000001,
          2.16,
          3.3369999999999997,
          5.112,
          3.465,
          1.925,
          3.593,
          5.155,
          2.78,
          1.797,
          2.438,
          3.8280000000000003,
          0,
          8.128,
          3.8930000000000002,
          2.417,
          2.9730000000000003,
          5.582000000000001,
          1.626,
          2.695,
          5.155,
          4.171,
          1.7109999999999999,
          4.47,
          2.9939999999999998,
          4.748,
          4.641,
          4.663,
          3.3369999999999997,
          3.315,
          4.941,
          5.9670000000000005,
          5.711,
          3.593,
          3.7,
          5.112,
          8.106,
          5.09,
          34.713,
          7.871,
          7.422000000000001,
          10.950999999999999,
          0,
          16.255,
          7.614,
          6.587999999999999,
          10.352,
          9.304,
          7.507000000000001,
          5.39,
          7.015,
          10.950999999999999,
          11.485,
          7.892,
          7.207999999999999,
          6.287999999999999,
          8.577,
          9.454,
          5.8389999999999995,
          5.433,
          4.577,
          7.978,
          6.9510000000000005,
          5.989,
          8.32,
          8.299,
          4.171,
          3.8710000000000004,
          3.187,
          7.144,
          5.561,
          3.807,
          2.695,
          6.374,
          6.843999999999999,
          5.2829999999999995,
          3.165,
          5.155,
          7.529,
          5.24
         ]
        }
       ],
       "layout": {
        "template": {
         "data": {
          "bar": [
           {
            "error_x": {
             "color": "#2a3f5f"
            },
            "error_y": {
             "color": "#2a3f5f"
            },
            "marker": {
             "line": {
              "color": "#E5ECF6",
              "width": 0.5
             }
            },
            "type": "bar"
           }
          ],
          "barpolar": [
           {
            "marker": {
             "line": {
              "color": "#E5ECF6",
              "width": 0.5
             }
            },
            "type": "barpolar"
           }
          ],
          "carpet": [
           {
            "aaxis": {
             "endlinecolor": "#2a3f5f",
             "gridcolor": "white",
             "linecolor": "white",
             "minorgridcolor": "white",
             "startlinecolor": "#2a3f5f"
            },
            "baxis": {
             "endlinecolor": "#2a3f5f",
             "gridcolor": "white",
             "linecolor": "white",
             "minorgridcolor": "white",
             "startlinecolor": "#2a3f5f"
            },
            "type": "carpet"
           }
          ],
          "choropleth": [
           {
            "colorbar": {
             "outlinewidth": 0,
             "ticks": ""
            },
            "type": "choropleth"
           }
          ],
          "contour": [
           {
            "colorbar": {
             "outlinewidth": 0,
             "ticks": ""
            },
            "colorscale": [
             [
              0,
              "#0d0887"
             ],
             [
              0.1111111111111111,
              "#46039f"
             ],
             [
              0.2222222222222222,
              "#7201a8"
             ],
             [
              0.3333333333333333,
              "#9c179e"
             ],
             [
              0.4444444444444444,
              "#bd3786"
             ],
             [
              0.5555555555555556,
              "#d8576b"
             ],
             [
              0.6666666666666666,
              "#ed7953"
             ],
             [
              0.7777777777777778,
              "#fb9f3a"
             ],
             [
              0.8888888888888888,
              "#fdca26"
             ],
             [
              1,
              "#f0f921"
             ]
            ],
            "type": "contour"
           }
          ],
          "contourcarpet": [
           {
            "colorbar": {
             "outlinewidth": 0,
             "ticks": ""
            },
            "type": "contourcarpet"
           }
          ],
          "heatmap": [
           {
            "colorbar": {
             "outlinewidth": 0,
             "ticks": ""
            },
            "colorscale": [
             [
              0,
              "#0d0887"
             ],
             [
              0.1111111111111111,
              "#46039f"
             ],
             [
              0.2222222222222222,
              "#7201a8"
             ],
             [
              0.3333333333333333,
              "#9c179e"
             ],
             [
              0.4444444444444444,
              "#bd3786"
             ],
             [
              0.5555555555555556,
              "#d8576b"
             ],
             [
              0.6666666666666666,
              "#ed7953"
             ],
             [
              0.7777777777777778,
              "#fb9f3a"
             ],
             [
              0.8888888888888888,
              "#fdca26"
             ],
             [
              1,
              "#f0f921"
             ]
            ],
            "type": "heatmap"
           }
          ],
          "heatmapgl": [
           {
            "colorbar": {
             "outlinewidth": 0,
             "ticks": ""
            },
            "colorscale": [
             [
              0,
              "#0d0887"
             ],
             [
              0.1111111111111111,
              "#46039f"
             ],
             [
              0.2222222222222222,
              "#7201a8"
             ],
             [
              0.3333333333333333,
              "#9c179e"
             ],
             [
              0.4444444444444444,
              "#bd3786"
             ],
             [
              0.5555555555555556,
              "#d8576b"
             ],
             [
              0.6666666666666666,
              "#ed7953"
             ],
             [
              0.7777777777777778,
              "#fb9f3a"
             ],
             [
              0.8888888888888888,
              "#fdca26"
             ],
             [
              1,
              "#f0f921"
             ]
            ],
            "type": "heatmapgl"
           }
          ],
          "histogram": [
           {
            "marker": {
             "colorbar": {
              "outlinewidth": 0,
              "ticks": ""
             }
            },
            "type": "histogram"
           }
          ],
          "histogram2d": [
           {
            "colorbar": {
             "outlinewidth": 0,
             "ticks": ""
            },
            "colorscale": [
             [
              0,
              "#0d0887"
             ],
             [
              0.1111111111111111,
              "#46039f"
             ],
             [
              0.2222222222222222,
              "#7201a8"
             ],
             [
              0.3333333333333333,
              "#9c179e"
             ],
             [
              0.4444444444444444,
              "#bd3786"
             ],
             [
              0.5555555555555556,
              "#d8576b"
             ],
             [
              0.6666666666666666,
              "#ed7953"
             ],
             [
              0.7777777777777778,
              "#fb9f3a"
             ],
             [
              0.8888888888888888,
              "#fdca26"
             ],
             [
              1,
              "#f0f921"
             ]
            ],
            "type": "histogram2d"
           }
          ],
          "histogram2dcontour": [
           {
            "colorbar": {
             "outlinewidth": 0,
             "ticks": ""
            },
            "colorscale": [
             [
              0,
              "#0d0887"
             ],
             [
              0.1111111111111111,
              "#46039f"
             ],
             [
              0.2222222222222222,
              "#7201a8"
             ],
             [
              0.3333333333333333,
              "#9c179e"
             ],
             [
              0.4444444444444444,
              "#bd3786"
             ],
             [
              0.5555555555555556,
              "#d8576b"
             ],
             [
              0.6666666666666666,
              "#ed7953"
             ],
             [
              0.7777777777777778,
              "#fb9f3a"
             ],
             [
              0.8888888888888888,
              "#fdca26"
             ],
             [
              1,
              "#f0f921"
             ]
            ],
            "type": "histogram2dcontour"
           }
          ],
          "mesh3d": [
           {
            "colorbar": {
             "outlinewidth": 0,
             "ticks": ""
            },
            "type": "mesh3d"
           }
          ],
          "parcoords": [
           {
            "line": {
             "colorbar": {
              "outlinewidth": 0,
              "ticks": ""
             }
            },
            "type": "parcoords"
           }
          ],
          "scatter": [
           {
            "marker": {
             "colorbar": {
              "outlinewidth": 0,
              "ticks": ""
             }
            },
            "type": "scatter"
           }
          ],
          "scatter3d": [
           {
            "line": {
             "colorbar": {
              "outlinewidth": 0,
              "ticks": ""
             }
            },
            "marker": {
             "colorbar": {
              "outlinewidth": 0,
              "ticks": ""
             }
            },
            "type": "scatter3d"
           }
          ],
          "scattercarpet": [
           {
            "marker": {
             "colorbar": {
              "outlinewidth": 0,
              "ticks": ""
             }
            },
            "type": "scattercarpet"
           }
          ],
          "scattergeo": [
           {
            "marker": {
             "colorbar": {
              "outlinewidth": 0,
              "ticks": ""
             }
            },
            "type": "scattergeo"
           }
          ],
          "scattergl": [
           {
            "marker": {
             "colorbar": {
              "outlinewidth": 0,
              "ticks": ""
             }
            },
            "type": "scattergl"
           }
          ],
          "scattermapbox": [
           {
            "marker": {
             "colorbar": {
              "outlinewidth": 0,
              "ticks": ""
             }
            },
            "type": "scattermapbox"
           }
          ],
          "scatterpolar": [
           {
            "marker": {
             "colorbar": {
              "outlinewidth": 0,
              "ticks": ""
             }
            },
            "type": "scatterpolar"
           }
          ],
          "scatterpolargl": [
           {
            "marker": {
             "colorbar": {
              "outlinewidth": 0,
              "ticks": ""
             }
            },
            "type": "scatterpolargl"
           }
          ],
          "scatterternary": [
           {
            "marker": {
             "colorbar": {
              "outlinewidth": 0,
              "ticks": ""
             }
            },
            "type": "scatterternary"
           }
          ],
          "surface": [
           {
            "colorbar": {
             "outlinewidth": 0,
             "ticks": ""
            },
            "colorscale": [
             [
              0,
              "#0d0887"
             ],
             [
              0.1111111111111111,
              "#46039f"
             ],
             [
              0.2222222222222222,
              "#7201a8"
             ],
             [
              0.3333333333333333,
              "#9c179e"
             ],
             [
              0.4444444444444444,
              "#bd3786"
             ],
             [
              0.5555555555555556,
              "#d8576b"
             ],
             [
              0.6666666666666666,
              "#ed7953"
             ],
             [
              0.7777777777777778,
              "#fb9f3a"
             ],
             [
              0.8888888888888888,
              "#fdca26"
             ],
             [
              1,
              "#f0f921"
             ]
            ],
            "type": "surface"
           }
          ],
          "table": [
           {
            "cells": {
             "fill": {
              "color": "#EBF0F8"
             },
             "line": {
              "color": "white"
             }
            },
            "header": {
             "fill": {
              "color": "#C8D4E3"
             },
             "line": {
              "color": "white"
             }
            },
            "type": "table"
           }
          ]
         },
         "layout": {
          "annotationdefaults": {
           "arrowcolor": "#2a3f5f",
           "arrowhead": 0,
           "arrowwidth": 1
          },
          "colorscale": {
           "diverging": [
            [
             0,
             "#8e0152"
            ],
            [
             0.1,
             "#c51b7d"
            ],
            [
             0.2,
             "#de77ae"
            ],
            [
             0.3,
             "#f1b6da"
            ],
            [
             0.4,
             "#fde0ef"
            ],
            [
             0.5,
             "#f7f7f7"
            ],
            [
             0.6,
             "#e6f5d0"
            ],
            [
             0.7,
             "#b8e186"
            ],
            [
             0.8,
             "#7fbc41"
            ],
            [
             0.9,
             "#4d9221"
            ],
            [
             1,
             "#276419"
            ]
           ],
           "sequential": [
            [
             0,
             "#0d0887"
            ],
            [
             0.1111111111111111,
             "#46039f"
            ],
            [
             0.2222222222222222,
             "#7201a8"
            ],
            [
             0.3333333333333333,
             "#9c179e"
            ],
            [
             0.4444444444444444,
             "#bd3786"
            ],
            [
             0.5555555555555556,
             "#d8576b"
            ],
            [
             0.6666666666666666,
             "#ed7953"
            ],
            [
             0.7777777777777778,
             "#fb9f3a"
            ],
            [
             0.8888888888888888,
             "#fdca26"
            ],
            [
             1,
             "#f0f921"
            ]
           ],
           "sequentialminus": [
            [
             0,
             "#0d0887"
            ],
            [
             0.1111111111111111,
             "#46039f"
            ],
            [
             0.2222222222222222,
             "#7201a8"
            ],
            [
             0.3333333333333333,
             "#9c179e"
            ],
            [
             0.4444444444444444,
             "#bd3786"
            ],
            [
             0.5555555555555556,
             "#d8576b"
            ],
            [
             0.6666666666666666,
             "#ed7953"
            ],
            [
             0.7777777777777778,
             "#fb9f3a"
            ],
            [
             0.8888888888888888,
             "#fdca26"
            ],
            [
             1,
             "#f0f921"
            ]
           ]
          },
          "colorway": [
           "#636efa",
           "#EF553B",
           "#00cc96",
           "#ab63fa",
           "#FFA15A",
           "#19d3f3",
           "#FF6692",
           "#B6E880",
           "#FF97FF",
           "#FECB52"
          ],
          "font": {
           "color": "#2a3f5f"
          },
          "geo": {
           "bgcolor": "white",
           "lakecolor": "white",
           "landcolor": "#E5ECF6",
           "showlakes": true,
           "showland": true,
           "subunitcolor": "white"
          },
          "hoverlabel": {
           "align": "left"
          },
          "hovermode": "closest",
          "mapbox": {
           "style": "light"
          },
          "paper_bgcolor": "white",
          "plot_bgcolor": "#E5ECF6",
          "polar": {
           "angularaxis": {
            "gridcolor": "white",
            "linecolor": "white",
            "ticks": ""
           },
           "bgcolor": "#E5ECF6",
           "radialaxis": {
            "gridcolor": "white",
            "linecolor": "white",
            "ticks": ""
           }
          },
          "scene": {
           "xaxis": {
            "backgroundcolor": "#E5ECF6",
            "gridcolor": "white",
            "gridwidth": 2,
            "linecolor": "white",
            "showbackground": true,
            "ticks": "",
            "zerolinecolor": "white"
           },
           "yaxis": {
            "backgroundcolor": "#E5ECF6",
            "gridcolor": "white",
            "gridwidth": 2,
            "linecolor": "white",
            "showbackground": true,
            "ticks": "",
            "zerolinecolor": "white"
           },
           "zaxis": {
            "backgroundcolor": "#E5ECF6",
            "gridcolor": "white",
            "gridwidth": 2,
            "linecolor": "white",
            "showbackground": true,
            "ticks": "",
            "zerolinecolor": "white"
           }
          },
          "shapedefaults": {
           "line": {
            "color": "#2a3f5f"
           }
          },
          "ternary": {
           "aaxis": {
            "gridcolor": "white",
            "linecolor": "white",
            "ticks": ""
           },
           "baxis": {
            "gridcolor": "white",
            "linecolor": "white",
            "ticks": ""
           },
           "bgcolor": "#E5ECF6",
           "caxis": {
            "gridcolor": "white",
            "linecolor": "white",
            "ticks": ""
           }
          },
          "title": {
           "x": 0.05
          },
          "xaxis": {
           "automargin": true,
           "gridcolor": "white",
           "linecolor": "white",
           "ticks": "",
           "zerolinecolor": "white",
           "zerolinewidth": 2
          },
          "yaxis": {
           "automargin": true,
           "gridcolor": "white",
           "linecolor": "white",
           "ticks": "",
           "zerolinecolor": "white",
           "zerolinewidth": 2
          }
         }
        },
        "title": {
         "text": "new_deaths_per_million"
        }
       }
      }
     },
     "metadata": {}
    }
   ],
   "source": [
    "fig = go.Figure(data=[go.Bar(x=countries_cols['date'], y=countries_cols['new_deaths_per_million'])], layout_title_text=\"new_deaths_per_million\")\n",
    "fig.show()"
   ]
  },
  {
   "cell_type": "code",
   "execution_count": 49,
   "metadata": {},
   "outputs": [
    {
     "output_type": "display_data",
     "data": {
      "application/vnd.plotly.v1+json": {
       "config": {
        "plotlyServerURL": "https://plot.ly"
       },
       "data": [
        {
         "type": "bar",
         "x": [
          "2020-04-07",
          "2020-04-08",
          "2020-04-09",
          "2020-04-10",
          "2020-04-11",
          "2020-04-12",
          "2020-04-13",
          "2020-04-14",
          "2020-04-15",
          "2020-04-16",
          "2020-04-17",
          "2020-04-18",
          "2020-04-19",
          "2020-04-20",
          "2020-04-21",
          "2020-04-22",
          "2020-04-23",
          "2020-04-24",
          "2020-04-25",
          "2020-04-26",
          "2020-04-27",
          "2020-04-28",
          "2020-04-29",
          "2020-04-30",
          "2020-05-01",
          "2020-05-02",
          "2020-05-03",
          "2020-05-04",
          "2020-05-05",
          "2020-05-06",
          "2020-05-07",
          "2020-05-08",
          "2020-05-09",
          "2020-05-10",
          "2020-05-11",
          "2020-05-12",
          "2020-05-13",
          "2020-05-14",
          "2020-05-15",
          "2020-05-16",
          "2020-05-17",
          "2020-05-18",
          "2020-05-19",
          "2020-05-20",
          "2020-05-21",
          "2020-05-22",
          "2020-05-23",
          "2020-05-24",
          "2020-05-25",
          "2020-05-26",
          "2020-05-27",
          "2020-05-28",
          "2020-05-29",
          "2020-05-30",
          "2020-05-31",
          "2020-06-01",
          "2020-06-02",
          "2020-06-03",
          "2020-06-04",
          "2020-06-05",
          "2020-06-06",
          "2020-06-07",
          "2020-06-08",
          "2020-06-09",
          "2020-06-10",
          "2020-06-11",
          "2020-06-12",
          "2020-06-13",
          "2020-06-14",
          "2020-06-15",
          "2020-06-16",
          "2020-06-17",
          "2020-06-18",
          "2020-06-19",
          "2020-06-20",
          "2020-06-21",
          "2020-06-22",
          "2020-06-23",
          "2020-06-24",
          "2020-06-25",
          "2020-06-26",
          "2020-06-27",
          "2020-06-28",
          "2020-06-29",
          "2020-06-30",
          "2020-07-01",
          "2020-07-02",
          "2020-07-03",
          "2020-07-04",
          "2020-07-05",
          "2020-07-06",
          "2020-07-07",
          "2020-07-08",
          "2020-07-09",
          "2020-07-10",
          "2020-07-11",
          "2020-07-12",
          "2020-07-13",
          "2020-07-14",
          "2020-07-15",
          "2020-07-16",
          "2020-07-17",
          "2020-07-18",
          "2020-07-19",
          "2020-07-20",
          "2020-07-21",
          "2020-07-22",
          "2020-07-23",
          "2020-07-24",
          "2020-07-25",
          "2020-07-26",
          "2020-07-27",
          "2020-07-28",
          "2020-07-29",
          "2020-07-30",
          "2020-07-31",
          "2020-08-01",
          "2020-08-02",
          "2020-08-03",
          "2020-08-04",
          "2020-08-05",
          "2020-08-06",
          "2020-08-07",
          "2020-08-08",
          "2020-08-09",
          "2020-08-10",
          "2020-08-11",
          "2020-08-12",
          "2020-08-13",
          "2020-08-14",
          "2020-08-15",
          "2020-08-16",
          "2020-08-17",
          "2020-08-18",
          "2020-08-19",
          "2020-08-20",
          "2020-08-21",
          "2020-08-22",
          "2020-08-23",
          "2020-08-24",
          "2020-08-25",
          "2020-08-26",
          "2020-08-27",
          "2020-08-28",
          "2020-08-29",
          "2020-08-30",
          "2020-08-31",
          "2020-09-01",
          "2020-09-02",
          "2020-09-03",
          "2020-09-04",
          "2020-09-05",
          "2020-09-06",
          "2020-09-07",
          "2020-09-08",
          "2020-09-09",
          "2020-09-10",
          "2020-09-11",
          "2020-09-12",
          "2020-09-13",
          "2020-09-14",
          "2020-09-15",
          "2020-09-16",
          "2020-09-17",
          "2020-09-18",
          "2020-09-19",
          "2020-09-20",
          "2020-09-21",
          "2020-09-22",
          "2020-09-23",
          "2020-09-24",
          "2020-09-25",
          "2020-09-26",
          "2020-09-27",
          "2020-09-28",
          "2020-09-29",
          "2020-09-30",
          "2020-10-01",
          "2020-10-02",
          "2020-10-03",
          "2020-10-04",
          "2020-10-05",
          "2020-10-06",
          "2020-10-07",
          "2020-10-08",
          "2020-10-09",
          "2020-10-10",
          "2020-10-11",
          "2020-10-12",
          "2020-10-13",
          "2020-10-14",
          "2020-10-15",
          "2020-10-16",
          "2020-10-17",
          "2020-10-18",
          "2020-10-19",
          "2020-10-20",
          "2020-10-21",
          "2020-10-22",
          "2020-10-23",
          "2020-10-24",
          "2020-10-25",
          "2020-10-26",
          "2020-10-27",
          "2020-10-28",
          "2020-10-29",
          "2020-10-30",
          "2020-10-31",
          "2020-11-01",
          "2020-11-02",
          "2020-11-03",
          "2020-11-04",
          "2020-11-05",
          "2020-11-06",
          "2020-11-07",
          "2020-11-08",
          "2020-11-09",
          "2020-11-10",
          "2020-11-11",
          "2020-11-12",
          "2020-11-13",
          "2020-11-14",
          "2020-11-15",
          "2020-11-16",
          "2020-11-17",
          "2020-11-18",
          "2020-11-19",
          "2020-11-20",
          "2020-11-21",
          "2020-11-22",
          "2020-11-23",
          "2020-11-24",
          "2020-11-25",
          "2020-11-26",
          "2020-11-27",
          "2020-11-28",
          "2020-11-29",
          "2020-11-30",
          "2020-12-01",
          "2020-12-02",
          "2020-12-03",
          "2020-12-04",
          "2020-12-05",
          "2020-12-06",
          "2020-12-07",
          "2020-12-08",
          "2020-12-09",
          "2020-12-10",
          "2020-12-11",
          "2020-12-12",
          "2020-12-13",
          "2020-12-14",
          "2020-12-15",
          "2020-12-16",
          "2020-12-17",
          "2020-12-18",
          "2020-12-19",
          "2020-12-20",
          "2020-12-21",
          "2020-12-22",
          "2020-12-23",
          "2020-12-24",
          "2020-12-25",
          "2020-12-26",
          "2020-12-27",
          "2020-12-28",
          "2020-12-29",
          "2020-12-30",
          "2020-12-31",
          "2021-01-01",
          "2021-01-02",
          "2021-01-03",
          "2021-01-04",
          "2021-01-05",
          "2021-01-06",
          "2021-01-07",
          "2021-01-08",
          "2020-03-17",
          "2020-03-18",
          "2020-03-19",
          "2020-03-20",
          "2020-03-21",
          "2020-03-22",
          "2020-03-23",
          "2020-03-24",
          "2020-03-25",
          "2020-03-26",
          "2020-03-27",
          "2020-03-28",
          "2020-03-29",
          "2020-03-30",
          "2020-03-31",
          "2020-04-01",
          "2020-04-02",
          "2020-04-03",
          "2020-04-04",
          "2020-04-05",
          "2020-04-06",
          "2020-04-07",
          "2020-04-08",
          "2020-04-09",
          "2020-04-10",
          "2020-04-11",
          "2020-04-12",
          "2020-04-13",
          "2020-04-14",
          "2020-04-15",
          "2020-04-16",
          "2020-04-17",
          "2020-04-18",
          "2020-04-19",
          "2020-04-20",
          "2020-04-21",
          "2020-04-22",
          "2020-04-23",
          "2020-04-24",
          "2020-04-25",
          "2020-04-26",
          "2020-04-27",
          "2020-04-28",
          "2020-04-29",
          "2020-04-30",
          "2020-05-01",
          "2020-05-02",
          "2020-05-03",
          "2020-05-04",
          "2020-05-05",
          "2020-05-06",
          "2020-05-07",
          "2020-05-08",
          "2020-05-09",
          "2020-05-10",
          "2020-05-11",
          "2020-05-12",
          "2020-05-13",
          "2020-05-14",
          "2020-05-15",
          "2020-05-16",
          "2020-05-17",
          "2020-05-18",
          "2020-05-19",
          "2020-05-20",
          "2020-05-21",
          "2020-05-22",
          "2020-05-23",
          "2020-05-24",
          "2020-05-25",
          "2020-05-26",
          "2020-05-27",
          "2020-05-28",
          "2020-05-29",
          "2020-05-30",
          "2020-05-31",
          "2020-06-01",
          "2020-06-02",
          "2020-06-03",
          "2020-06-04",
          "2020-06-05",
          "2020-06-06",
          "2020-06-07",
          "2020-06-08",
          "2020-06-09",
          "2020-06-10",
          "2020-06-11",
          "2020-06-12",
          "2020-06-13",
          "2020-06-14",
          "2020-06-15",
          "2020-06-16",
          "2020-06-17",
          "2020-06-18",
          "2020-06-19",
          "2020-06-20",
          "2020-06-21",
          "2020-06-22",
          "2020-06-23",
          "2020-06-24",
          "2020-06-25",
          "2020-06-26",
          "2020-06-27",
          "2020-06-28",
          "2020-06-29",
          "2020-06-30",
          "2020-07-01",
          "2020-07-02",
          "2020-07-03",
          "2020-07-04",
          "2020-07-05",
          "2020-07-06",
          "2020-07-07",
          "2020-07-08",
          "2020-07-09",
          "2020-07-10",
          "2020-07-11",
          "2020-07-12",
          "2020-07-13",
          "2020-07-14",
          "2020-07-15",
          "2020-07-16",
          "2020-07-17",
          "2020-07-18",
          "2020-07-19",
          "2020-07-20",
          "2020-07-21",
          "2020-07-22",
          "2020-07-23",
          "2020-07-24",
          "2020-07-25",
          "2020-07-26",
          "2020-07-27",
          "2020-07-28",
          "2020-07-29",
          "2020-07-30",
          "2020-07-31",
          "2020-08-01",
          "2020-08-02",
          "2020-08-03",
          "2020-08-04",
          "2020-08-05",
          "2020-08-06",
          "2020-08-07",
          "2020-08-08",
          "2020-08-09",
          "2020-08-10",
          "2020-08-11",
          "2020-08-12",
          "2020-08-13",
          "2020-08-14",
          "2020-08-15",
          "2020-08-16",
          "2020-08-17",
          "2020-08-18",
          "2020-08-19",
          "2020-08-20",
          "2020-08-21",
          "2020-08-22",
          "2020-08-23",
          "2020-08-24",
          "2020-08-25",
          "2020-08-26",
          "2020-08-27",
          "2020-08-28",
          "2020-08-29",
          "2020-08-30",
          "2020-08-31",
          "2020-09-01",
          "2020-09-02",
          "2020-09-03",
          "2020-09-04",
          "2020-09-05",
          "2020-09-06",
          "2020-09-07",
          "2020-09-08",
          "2020-09-09",
          "2020-09-10",
          "2020-09-11",
          "2020-09-12",
          "2020-09-13",
          "2020-09-14",
          "2020-09-15",
          "2020-09-16",
          "2020-09-17",
          "2020-09-18",
          "2020-09-19",
          "2020-09-20",
          "2020-09-21",
          "2020-09-22",
          "2020-09-23",
          "2020-09-24",
          "2020-09-25",
          "2020-09-26",
          "2020-09-27",
          "2020-09-28",
          "2020-09-29",
          "2020-09-30",
          "2020-10-01",
          "2020-10-02",
          "2020-10-03",
          "2020-10-04",
          "2020-10-05",
          "2020-10-06",
          "2020-10-07",
          "2020-10-08",
          "2020-10-09",
          "2020-10-10",
          "2020-10-11",
          "2020-10-12",
          "2020-10-13",
          "2020-10-14",
          "2020-10-15",
          "2020-10-16",
          "2020-10-17",
          "2020-10-18",
          "2020-10-19",
          "2020-10-20",
          "2020-10-21",
          "2020-10-22",
          "2020-10-23",
          "2020-10-24",
          "2020-10-25",
          "2020-10-26",
          "2020-10-27",
          "2020-10-28",
          "2020-10-29",
          "2020-10-30",
          "2020-10-31",
          "2020-11-01",
          "2020-11-02",
          "2020-11-03",
          "2020-11-04",
          "2020-11-05",
          "2020-11-06",
          "2020-11-07",
          "2020-11-08",
          "2020-11-09",
          "2020-11-10",
          "2020-11-11",
          "2020-11-12",
          "2020-11-13",
          "2020-11-14",
          "2020-11-15",
          "2020-11-16",
          "2020-11-17",
          "2020-11-18",
          "2020-11-19",
          "2020-11-20",
          "2020-11-21",
          "2020-11-22",
          "2020-11-23",
          "2020-11-24",
          "2020-11-25",
          "2020-11-26",
          "2020-11-27",
          "2020-11-28",
          "2020-11-29",
          "2020-11-30",
          "2020-12-01",
          "2020-12-02",
          "2020-12-03",
          "2020-12-04",
          "2020-12-05",
          "2020-12-06",
          "2020-12-07",
          "2020-12-08",
          "2020-12-09",
          "2020-12-10",
          "2020-12-11",
          "2020-12-12",
          "2020-12-13",
          "2020-12-14",
          "2020-12-15",
          "2020-12-16",
          "2020-12-17",
          "2020-12-18",
          "2020-12-19",
          "2020-12-20",
          "2020-12-21",
          "2020-12-22",
          "2020-12-23",
          "2020-12-24",
          "2020-12-25",
          "2020-12-26",
          "2020-12-27",
          "2020-12-28",
          "2020-12-29",
          "2020-12-30",
          "2020-12-31",
          "2021-01-01",
          "2021-01-02",
          "2021-01-03",
          "2021-01-04",
          "2021-01-05",
          "2021-01-06",
          "2021-01-07",
          "2021-01-08",
          "2020-08-20",
          "2020-08-21",
          "2020-08-24",
          "2020-08-25",
          "2020-08-26",
          "2020-08-27",
          "2020-08-28",
          "2020-08-31",
          "2020-09-01",
          "2020-09-02",
          "2020-09-03",
          "2020-09-04",
          "2020-09-07",
          "2020-09-08",
          "2020-09-09",
          "2020-09-10",
          "2020-09-11",
          "2020-09-14",
          "2020-09-15",
          "2020-09-16",
          "2020-09-17",
          "2020-09-18",
          "2020-09-21",
          "2020-09-22",
          "2020-09-23",
          "2020-09-24",
          "2020-09-25",
          "2020-09-28",
          "2020-09-29",
          "2020-09-30",
          "2020-10-01",
          "2020-10-02",
          "2020-10-05",
          "2020-10-06",
          "2020-10-07",
          "2020-10-08",
          "2020-10-09",
          "2020-10-12",
          "2020-10-13",
          "2020-10-14",
          "2020-10-15",
          "2020-10-16",
          "2020-10-19",
          "2020-10-20",
          "2020-10-21",
          "2020-10-22",
          "2020-10-23",
          "2020-10-26",
          "2020-10-27",
          "2020-10-28",
          "2020-10-29",
          "2020-10-30",
          "2020-11-02",
          "2020-11-03",
          "2020-11-04",
          "2020-11-05",
          "2020-11-06",
          "2020-11-09",
          "2020-11-10",
          "2020-11-11",
          "2020-11-12",
          "2020-11-13",
          "2020-11-16",
          "2020-11-17",
          "2020-11-18",
          "2020-11-19",
          "2020-11-20",
          "2020-11-23",
          "2020-11-24",
          "2020-11-25",
          "2020-11-26",
          "2020-11-27",
          "2020-11-30",
          "2020-12-01",
          "2020-12-02",
          "2020-12-03",
          "2020-12-04",
          "2020-12-09",
          "2020-12-10",
          "2020-12-11",
          "2020-12-14",
          "2020-12-15",
          "2020-12-16",
          "2020-12-17",
          "2020-12-18",
          "2020-12-21",
          "2020-12-22",
          "2020-12-23",
          "2020-12-24",
          "2020-12-28",
          "2020-12-29",
          "2020-12-30",
          "2020-12-31",
          "2021-01-04",
          "2021-01-05",
          "2021-01-07"
         ],
         "y": [
          42.188,
          43.706,
          43.647,
          47.55,
          48.228,
          48.626000000000005,
          48.272,
          47.638999999999996,
          47.55,
          47.461999999999996,
          46.578,
          47.83,
          46.784,
          46.107,
          44.722,
          43.661,
          42.233000000000004,
          39.817,
          39.802,
          38.005,
          36.236999999999995,
          34.661,
          33.674,
          32.760999999999996,
          32.083,
          30.463,
          29.594,
          28.518,
          27.605,
          26.544,
          24.820999999999998,
          24.188000000000002,
          23.348000000000003,
          22.656,
          21.875,
          20.829,
          19.768,
          19.355999999999998,
          19.695,
          18.178,
          17.618,
          16.808,
          16.292,
          15.231,
          14.847999999999999,
          14.2,
          13.67,
          13.050999999999998,
          12.712,
          12.477,
          11.534,
          11.062999999999999,
          10.591,
          10.37,
          10.002,
          9.604,
          9.369,
          8.868,
          8.411,
          8.161,
          7.955,
          7.586,
          7.497999999999999,
          7.233,
          6.4670000000000005,
          5.745,
          5.789,
          5.745,
          5.789,
          5.671,
          5.568,
          5.2589999999999995,
          5.185,
          4.861000000000001,
          5.0969999999999995,
          4.566,
          5.008,
          4.581,
          4.655,
          4.066,
          3.948,
          3.977,
          3.977,
          3.859,
          4.11,
          3.815,
          3.5210000000000004,
          3.403,
          3.241,
          3.197,
          3.0789999999999997,
          2.9019999999999997,
          2.725,
          2.7689999999999997,
          2.8139999999999996,
          2.475,
          2.342,
          2.386,
          2.136,
          2.254,
          2.092,
          2.106,
          2.0180000000000002,
          1.93,
          1.9,
          2.0180000000000002,
          1.62,
          1.635,
          1.5319999999999998,
          1.37,
          1.355,
          1.429,
          1.37,
          1.2819999999999998,
          1.237,
          1.2670000000000001,
          1.355,
          1.252,
          1.1340000000000001,
          1.12,
          1.075,
          1.016,
          0.987,
          0.9129999999999999,
          0.9570000000000001,
          1.031,
          1.075,
          1.178,
          1.105,
          1.075,
          1.12,
          1.149,
          1.075,
          1.075,
          1.031,
          1.12,
          1.061,
          1.046,
          1.061,
          1.002,
          1.002,
          0.943,
          1.046,
          0.884,
          0.972,
          1.002,
          1.046,
          1.208,
          1.193,
          1.12,
          1.016,
          0.9570000000000001,
          1.016,
          1.1340000000000001,
          1.178,
          1.178,
          1.149,
          2.106,
          1.2670000000000001,
          1.355,
          1.547,
          1.694,
          1.827,
          1.871,
          2.033,
          2.121,
          2.431,
          2.6660000000000004,
          3.108,
          3.359,
          3.58,
          3.859,
          3.845,
          4.066,
          4.375,
          4.625,
          4.905,
          5.023,
          5.436,
          5.436,
          5.436,
          5.789,
          6.04,
          6.511,
          6.422999999999999,
          6.481,
          6.922999999999999,
          7.026,
          7.468,
          7.601,
          8.293,
          8.558,
          8.721,
          9.045,
          9.28,
          9.693,
          10.282,
          10.488,
          10.429,
          10.96,
          11.607999999999999,
          12.197000000000001,
          12.565,
          13.302,
          14.097000000000001,
          14.347999999999999,
          14.421,
          14.775,
          14.421,
          15.835,
          16.852,
          17.574,
          17.426,
          17.485,
          17.78,
          18.148,
          18.723,
          17.957,
          18.678,
          18.781,
          19.96,
          20.107,
          20.579,
          20.49,
          20.916999999999998,
          21.065,
          21.006,
          20.932,
          21.315,
          21.418000000000003,
          21.904,
          21.934,
          21.801,
          21.448,
          20.873,
          20.299,
          20.445999999999998,
          19.989,
          19.901,
          19.371,
          18.575,
          18.767,
          18.369,
          18.398,
          18.723,
          18.737000000000002,
          18.31,
          18.664,
          18.781,
          18.31,
          18.87,
          18.973,
          19.533,
          19.739,
          20.122,
          20.093,
          20.8,
          21.241,
          22.273000000000003,
          22.523000000000003,
          22.891,
          23.671999999999997,
          23.805,
          24.776999999999997,
          25.793000000000003,
          27.206999999999997,
          28.563000000000002,
          30.433000000000003,
          31.258000000000003,
          31.848000000000003,
          33.232,
          35.648,
          37.71,
          38.961999999999996,
          41.555,
          43.146,
          45.635,
          1.6669999999999998,
          1.9609999999999999,
          1.9609999999999999,
          2.55,
          3.432,
          4.021,
          4.609,
          4.707,
          5.982,
          5.982,
          6.962999999999999,
          8.728,
          13.534,
          16.084,
          18.437,
          22.555999999999997,
          23.537,
          24.026999999999997,
          24.616,
          26.185,
          26.479,
          26.576999999999998,
          24.026999999999997,
          23.635,
          22.164,
          22.851,
          22.36,
          18.437,
          21.379,
          20.399,
          22.458000000000002,
          21.772,
          22.36,
          21.968000000000004,
          21.085,
          20.889,
          20.301,
          20.006,
          18.437,
          18.241,
          17.849,
          17.26,
          16.868,
          16.574,
          16.868,
          15.103,
          14.710999999999999,
          14.122,
          14.024000000000001,
          13.140999999999998,
          13.338,
          13.24,
          12.455,
          11.769,
          10.984000000000002,
          10.984000000000002,
          11.082,
          10.101,
          10.592,
          10.984000000000002,
          11.277999999999999,
          10.592,
          10.297,
          9.905,
          9.121,
          9.023,
          8.238,
          7.846,
          7.65,
          7.061,
          6.962999999999999,
          6.473,
          6.375,
          6.473,
          6.178,
          6.277,
          6.277,
          5.688,
          5.492000000000001,
          5.688,
          6.277,
          5.59,
          5.688,
          5.394,
          6.375,
          6.865,
          6.865,
          7.159,
          7.551,
          7.159,
          7.159,
          6.962999999999999,
          6.767,
          6.571000000000001,
          6.571000000000001,
          6.865,
          6.767,
          7.061,
          7.061,
          7.159,
          6.571000000000001,
          6.571000000000001,
          6.865,
          7.355,
          6.962999999999999,
          7.159,
          7.747999999999999,
          7.551,
          7.061,
          7.159,
          7.159,
          7.257000000000001,
          7.452999999999999,
          7.257000000000001,
          7.159,
          6.473,
          6.669,
          6.277,
          6.178,
          6.767,
          6.669,
          7.061,
          6.571000000000001,
          6.375,
          5.982,
          5.982,
          6.08,
          5.7860000000000005,
          5.7860000000000005,
          5.1,
          4.904,
          4.707,
          4.413,
          4.021,
          4.217,
          4.119,
          4.021,
          3.923,
          4.021,
          4.119,
          4.315,
          4.021,
          4.119,
          3.531,
          3.236,
          3.236,
          2.844,
          3.432,
          3.923,
          3.825,
          4.021,
          3.6289999999999996,
          3.825,
          3.825,
          3.727,
          3.432,
          3.825,
          4.021,
          4.119,
          4.609,
          4.315,
          4.021,
          3.727,
          3.432,
          3.727,
          3.923,
          4.021,
          4.021,
          4.315,
          4.021,
          4.315,
          3.923,
          4.021,
          4.217,
          4.805,
          4.904,
          5.1,
          5.59,
          5.296,
          5.7860000000000005,
          5.59,
          5.982,
          5.7860000000000005,
          5.982,
          5.7860000000000005,
          5.59,
          6.277,
          6.178,
          5.982,
          6.865,
          7.551,
          8.336,
          8.434,
          8.336,
          8.728,
          9.611,
          9.709,
          10.297,
          10.494000000000002,
          10.494000000000002,
          10.395999999999999,
          10.297,
          10.395999999999999,
          10.199,
          10.199,
          11.277999999999999,
          12.259,
          11.965,
          12.161,
          12.552999999999999,
          12.945,
          13.24,
          13.632,
          14.122,
          14.514000000000001,
          15.200999999999999,
          16.182000000000002,
          17.26,
          18.339000000000002,
          19.614,
          19.418,
          21.674,
          22.555999999999997,
          23.537,
          24.811999999999998,
          25.695,
          25.695,
          26.969,
          28.048000000000002,
          27.851999999999997,
          28.833000000000002,
          31.383000000000003,
          31.873,
          31.383000000000003,
          33.344,
          35.894,
          37.071,
          38.346,
          37.463,
          38.346,
          37.561,
          38.052,
          40.503,
          40.699,
          41.778,
          42.269,
          42.367,
          44.916000000000004,
          47.172,
          47.56399999999999,
          48.153,
          48.839,
          49.623999999999995,
          50.703,
          50.605,
          51.585,
          51.879,
          52.566,
          51.486999999999995,
          51.095,
          51.486999999999995,
          51.486999999999995,
          51.585,
          50.703,
          50.408,
          50.31,
          48.937,
          49.428000000000004,
          49.918,
          49.722,
          49.33,
          50.31,
          50.31,
          49.623999999999995,
          47.662,
          48.446999999999996,
          47.466,
          47.56399999999999,
          47.368,
          49.232,
          49.82,
          50.114,
          49.526,
          49.428000000000004,
          50.31,
          49.428000000000004,
          49.33,
          47.662,
          47.761,
          47.27,
          47.368,
          48.251000000000005,
          49.035,
          50.016000000000005,
          50.211999999999996,
          50.31,
          50.408,
          52.566,
          11.165,
          11.571,
          14.073,
          14.48,
          14.908,
          15.293,
          16.063,
          18.094,
          17.602,
          18.692999999999998,
          19.891,
          20.875,
          22.115,
          22.479,
          24.19,
          24.296999999999997,
          25.259,
          24.746,
          27.226999999999997,
          27.398000000000003,
          28.468000000000004,
          28.767,
          30.307,
          30.756,
          30.713,
          30.906,
          31.334,
          32.703,
          32.830999999999996,
          32.916,
          33.387,
          33.494,
          33.793,
          33.023,
          33.537,
          33.9,
          34.007,
          33.066,
          34.114000000000004,
          35.333,
          36.403,
          37.814,
          39.718,
          40.873000000000005,
          41.278999999999996,
          42.049,
          43.43899999999999,
          46.263000000000005,
          49.022,
          50.647,
          51.417,
          53.085,
          56.678999999999995,
          58.903,
          59.586999999999996,
          59.93,
          61.233999999999995,
          64.314,
          65.533,
          66.154,
          66.795,
          66.83800000000001,
          67.501,
          66.881,
          66.73100000000001,
          66.83800000000001,
          65.32,
          62.496,
          61.02,
          60.7,
          60.208,
          59.395,
          56.23,
          55.138999999999996,
          53.15,
          52.187,
          50.711000000000006,
          46.605,
          46.156000000000006,
          44.915,
          44.231,
          43.354,
          42.006,
          41.81399999999999,
          41.065,
          41.57899999999999,
          40.766,
          41.321999999999996,
          40.787,
          43.247,
          42.883,
          43.525,
          43.161,
          46.883,
          47.482,
          49.343
         ]
        }
       ],
       "layout": {
        "template": {
         "data": {
          "bar": [
           {
            "error_x": {
             "color": "#2a3f5f"
            },
            "error_y": {
             "color": "#2a3f5f"
            },
            "marker": {
             "line": {
              "color": "#E5ECF6",
              "width": 0.5
             }
            },
            "type": "bar"
           }
          ],
          "barpolar": [
           {
            "marker": {
             "line": {
              "color": "#E5ECF6",
              "width": 0.5
             }
            },
            "type": "barpolar"
           }
          ],
          "carpet": [
           {
            "aaxis": {
             "endlinecolor": "#2a3f5f",
             "gridcolor": "white",
             "linecolor": "white",
             "minorgridcolor": "white",
             "startlinecolor": "#2a3f5f"
            },
            "baxis": {
             "endlinecolor": "#2a3f5f",
             "gridcolor": "white",
             "linecolor": "white",
             "minorgridcolor": "white",
             "startlinecolor": "#2a3f5f"
            },
            "type": "carpet"
           }
          ],
          "choropleth": [
           {
            "colorbar": {
             "outlinewidth": 0,
             "ticks": ""
            },
            "type": "choropleth"
           }
          ],
          "contour": [
           {
            "colorbar": {
             "outlinewidth": 0,
             "ticks": ""
            },
            "colorscale": [
             [
              0,
              "#0d0887"
             ],
             [
              0.1111111111111111,
              "#46039f"
             ],
             [
              0.2222222222222222,
              "#7201a8"
             ],
             [
              0.3333333333333333,
              "#9c179e"
             ],
             [
              0.4444444444444444,
              "#bd3786"
             ],
             [
              0.5555555555555556,
              "#d8576b"
             ],
             [
              0.6666666666666666,
              "#ed7953"
             ],
             [
              0.7777777777777778,
              "#fb9f3a"
             ],
             [
              0.8888888888888888,
              "#fdca26"
             ],
             [
              1,
              "#f0f921"
             ]
            ],
            "type": "contour"
           }
          ],
          "contourcarpet": [
           {
            "colorbar": {
             "outlinewidth": 0,
             "ticks": ""
            },
            "type": "contourcarpet"
           }
          ],
          "heatmap": [
           {
            "colorbar": {
             "outlinewidth": 0,
             "ticks": ""
            },
            "colorscale": [
             [
              0,
              "#0d0887"
             ],
             [
              0.1111111111111111,
              "#46039f"
             ],
             [
              0.2222222222222222,
              "#7201a8"
             ],
             [
              0.3333333333333333,
              "#9c179e"
             ],
             [
              0.4444444444444444,
              "#bd3786"
             ],
             [
              0.5555555555555556,
              "#d8576b"
             ],
             [
              0.6666666666666666,
              "#ed7953"
             ],
             [
              0.7777777777777778,
              "#fb9f3a"
             ],
             [
              0.8888888888888888,
              "#fdca26"
             ],
             [
              1,
              "#f0f921"
             ]
            ],
            "type": "heatmap"
           }
          ],
          "heatmapgl": [
           {
            "colorbar": {
             "outlinewidth": 0,
             "ticks": ""
            },
            "colorscale": [
             [
              0,
              "#0d0887"
             ],
             [
              0.1111111111111111,
              "#46039f"
             ],
             [
              0.2222222222222222,
              "#7201a8"
             ],
             [
              0.3333333333333333,
              "#9c179e"
             ],
             [
              0.4444444444444444,
              "#bd3786"
             ],
             [
              0.5555555555555556,
              "#d8576b"
             ],
             [
              0.6666666666666666,
              "#ed7953"
             ],
             [
              0.7777777777777778,
              "#fb9f3a"
             ],
             [
              0.8888888888888888,
              "#fdca26"
             ],
             [
              1,
              "#f0f921"
             ]
            ],
            "type": "heatmapgl"
           }
          ],
          "histogram": [
           {
            "marker": {
             "colorbar": {
              "outlinewidth": 0,
              "ticks": ""
             }
            },
            "type": "histogram"
           }
          ],
          "histogram2d": [
           {
            "colorbar": {
             "outlinewidth": 0,
             "ticks": ""
            },
            "colorscale": [
             [
              0,
              "#0d0887"
             ],
             [
              0.1111111111111111,
              "#46039f"
             ],
             [
              0.2222222222222222,
              "#7201a8"
             ],
             [
              0.3333333333333333,
              "#9c179e"
             ],
             [
              0.4444444444444444,
              "#bd3786"
             ],
             [
              0.5555555555555556,
              "#d8576b"
             ],
             [
              0.6666666666666666,
              "#ed7953"
             ],
             [
              0.7777777777777778,
              "#fb9f3a"
             ],
             [
              0.8888888888888888,
              "#fdca26"
             ],
             [
              1,
              "#f0f921"
             ]
            ],
            "type": "histogram2d"
           }
          ],
          "histogram2dcontour": [
           {
            "colorbar": {
             "outlinewidth": 0,
             "ticks": ""
            },
            "colorscale": [
             [
              0,
              "#0d0887"
             ],
             [
              0.1111111111111111,
              "#46039f"
             ],
             [
              0.2222222222222222,
              "#7201a8"
             ],
             [
              0.3333333333333333,
              "#9c179e"
             ],
             [
              0.4444444444444444,
              "#bd3786"
             ],
             [
              0.5555555555555556,
              "#d8576b"
             ],
             [
              0.6666666666666666,
              "#ed7953"
             ],
             [
              0.7777777777777778,
              "#fb9f3a"
             ],
             [
              0.8888888888888888,
              "#fdca26"
             ],
             [
              1,
              "#f0f921"
             ]
            ],
            "type": "histogram2dcontour"
           }
          ],
          "mesh3d": [
           {
            "colorbar": {
             "outlinewidth": 0,
             "ticks": ""
            },
            "type": "mesh3d"
           }
          ],
          "parcoords": [
           {
            "line": {
             "colorbar": {
              "outlinewidth": 0,
              "ticks": ""
             }
            },
            "type": "parcoords"
           }
          ],
          "scatter": [
           {
            "marker": {
             "colorbar": {
              "outlinewidth": 0,
              "ticks": ""
             }
            },
            "type": "scatter"
           }
          ],
          "scatter3d": [
           {
            "line": {
             "colorbar": {
              "outlinewidth": 0,
              "ticks": ""
             }
            },
            "marker": {
             "colorbar": {
              "outlinewidth": 0,
              "ticks": ""
             }
            },
            "type": "scatter3d"
           }
          ],
          "scattercarpet": [
           {
            "marker": {
             "colorbar": {
              "outlinewidth": 0,
              "ticks": ""
             }
            },
            "type": "scattercarpet"
           }
          ],
          "scattergeo": [
           {
            "marker": {
             "colorbar": {
              "outlinewidth": 0,
              "ticks": ""
             }
            },
            "type": "scattergeo"
           }
          ],
          "scattergl": [
           {
            "marker": {
             "colorbar": {
              "outlinewidth": 0,
              "ticks": ""
             }
            },
            "type": "scattergl"
           }
          ],
          "scattermapbox": [
           {
            "marker": {
             "colorbar": {
              "outlinewidth": 0,
              "ticks": ""
             }
            },
            "type": "scattermapbox"
           }
          ],
          "scatterpolar": [
           {
            "marker": {
             "colorbar": {
              "outlinewidth": 0,
              "ticks": ""
             }
            },
            "type": "scatterpolar"
           }
          ],
          "scatterpolargl": [
           {
            "marker": {
             "colorbar": {
              "outlinewidth": 0,
              "ticks": ""
             }
            },
            "type": "scatterpolargl"
           }
          ],
          "scatterternary": [
           {
            "marker": {
             "colorbar": {
              "outlinewidth": 0,
              "ticks": ""
             }
            },
            "type": "scatterternary"
           }
          ],
          "surface": [
           {
            "colorbar": {
             "outlinewidth": 0,
             "ticks": ""
            },
            "colorscale": [
             [
              0,
              "#0d0887"
             ],
             [
              0.1111111111111111,
              "#46039f"
             ],
             [
              0.2222222222222222,
              "#7201a8"
             ],
             [
              0.3333333333333333,
              "#9c179e"
             ],
             [
              0.4444444444444444,
              "#bd3786"
             ],
             [
              0.5555555555555556,
              "#d8576b"
             ],
             [
              0.6666666666666666,
              "#ed7953"
             ],
             [
              0.7777777777777778,
              "#fb9f3a"
             ],
             [
              0.8888888888888888,
              "#fdca26"
             ],
             [
              1,
              "#f0f921"
             ]
            ],
            "type": "surface"
           }
          ],
          "table": [
           {
            "cells": {
             "fill": {
              "color": "#EBF0F8"
             },
             "line": {
              "color": "white"
             }
            },
            "header": {
             "fill": {
              "color": "#C8D4E3"
             },
             "line": {
              "color": "white"
             }
            },
            "type": "table"
           }
          ]
         },
         "layout": {
          "annotationdefaults": {
           "arrowcolor": "#2a3f5f",
           "arrowhead": 0,
           "arrowwidth": 1
          },
          "colorscale": {
           "diverging": [
            [
             0,
             "#8e0152"
            ],
            [
             0.1,
             "#c51b7d"
            ],
            [
             0.2,
             "#de77ae"
            ],
            [
             0.3,
             "#f1b6da"
            ],
            [
             0.4,
             "#fde0ef"
            ],
            [
             0.5,
             "#f7f7f7"
            ],
            [
             0.6,
             "#e6f5d0"
            ],
            [
             0.7,
             "#b8e186"
            ],
            [
             0.8,
             "#7fbc41"
            ],
            [
             0.9,
             "#4d9221"
            ],
            [
             1,
             "#276419"
            ]
           ],
           "sequential": [
            [
             0,
             "#0d0887"
            ],
            [
             0.1111111111111111,
             "#46039f"
            ],
            [
             0.2222222222222222,
             "#7201a8"
            ],
            [
             0.3333333333333333,
             "#9c179e"
            ],
            [
             0.4444444444444444,
             "#bd3786"
            ],
            [
             0.5555555555555556,
             "#d8576b"
            ],
            [
             0.6666666666666666,
             "#ed7953"
            ],
            [
             0.7777777777777778,
             "#fb9f3a"
            ],
            [
             0.8888888888888888,
             "#fdca26"
            ],
            [
             1,
             "#f0f921"
            ]
           ],
           "sequentialminus": [
            [
             0,
             "#0d0887"
            ],
            [
             0.1111111111111111,
             "#46039f"
            ],
            [
             0.2222222222222222,
             "#7201a8"
            ],
            [
             0.3333333333333333,
             "#9c179e"
            ],
            [
             0.4444444444444444,
             "#bd3786"
            ],
            [
             0.5555555555555556,
             "#d8576b"
            ],
            [
             0.6666666666666666,
             "#ed7953"
            ],
            [
             0.7777777777777778,
             "#fb9f3a"
            ],
            [
             0.8888888888888888,
             "#fdca26"
            ],
            [
             1,
             "#f0f921"
            ]
           ]
          },
          "colorway": [
           "#636efa",
           "#EF553B",
           "#00cc96",
           "#ab63fa",
           "#FFA15A",
           "#19d3f3",
           "#FF6692",
           "#B6E880",
           "#FF97FF",
           "#FECB52"
          ],
          "font": {
           "color": "#2a3f5f"
          },
          "geo": {
           "bgcolor": "white",
           "lakecolor": "white",
           "landcolor": "#E5ECF6",
           "showlakes": true,
           "showland": true,
           "subunitcolor": "white"
          },
          "hoverlabel": {
           "align": "left"
          },
          "hovermode": "closest",
          "mapbox": {
           "style": "light"
          },
          "paper_bgcolor": "white",
          "plot_bgcolor": "#E5ECF6",
          "polar": {
           "angularaxis": {
            "gridcolor": "white",
            "linecolor": "white",
            "ticks": ""
           },
           "bgcolor": "#E5ECF6",
           "radialaxis": {
            "gridcolor": "white",
            "linecolor": "white",
            "ticks": ""
           }
          },
          "scene": {
           "xaxis": {
            "backgroundcolor": "#E5ECF6",
            "gridcolor": "white",
            "gridwidth": 2,
            "linecolor": "white",
            "showbackground": true,
            "ticks": "",
            "zerolinecolor": "white"
           },
           "yaxis": {
            "backgroundcolor": "#E5ECF6",
            "gridcolor": "white",
            "gridwidth": 2,
            "linecolor": "white",
            "showbackground": true,
            "ticks": "",
            "zerolinecolor": "white"
           },
           "zaxis": {
            "backgroundcolor": "#E5ECF6",
            "gridcolor": "white",
            "gridwidth": 2,
            "linecolor": "white",
            "showbackground": true,
            "ticks": "",
            "zerolinecolor": "white"
           }
          },
          "shapedefaults": {
           "line": {
            "color": "#2a3f5f"
           }
          },
          "ternary": {
           "aaxis": {
            "gridcolor": "white",
            "linecolor": "white",
            "ticks": ""
           },
           "baxis": {
            "gridcolor": "white",
            "linecolor": "white",
            "ticks": ""
           },
           "bgcolor": "#E5ECF6",
           "caxis": {
            "gridcolor": "white",
            "linecolor": "white",
            "ticks": ""
           }
          },
          "title": {
           "x": 0.05
          },
          "xaxis": {
           "automargin": true,
           "gridcolor": "white",
           "linecolor": "white",
           "ticks": "",
           "zerolinecolor": "white",
           "zerolinewidth": 2
          },
          "yaxis": {
           "automargin": true,
           "gridcolor": "white",
           "linecolor": "white",
           "ticks": "",
           "zerolinecolor": "white",
           "zerolinewidth": 2
          }
         }
        },
        "title": {
         "text": "icu_patients_per_million"
        }
       }
      }
     },
     "metadata": {}
    }
   ],
   "source": [
    "fig = go.Figure(data=[go.Bar(x=countries_cols['date'], y=countries_cols['icu_patients_per_million'])], layout_title_text=\"icu_patients_per_million\")\n",
    "fig.show()"
   ]
  },
  {
   "cell_type": "code",
   "execution_count": 50,
   "metadata": {},
   "outputs": [
    {
     "output_type": "display_data",
     "data": {
      "application/vnd.plotly.v1+json": {
       "config": {
        "plotlyServerURL": "https://plot.ly"
       },
       "data": [
        {
         "type": "bar",
         "x": [
          "2020-04-07",
          "2020-04-08",
          "2020-04-09",
          "2020-04-10",
          "2020-04-11",
          "2020-04-12",
          "2020-04-13",
          "2020-04-14",
          "2020-04-15",
          "2020-04-16",
          "2020-04-17",
          "2020-04-18",
          "2020-04-19",
          "2020-04-20",
          "2020-04-21",
          "2020-04-22",
          "2020-04-23",
          "2020-04-24",
          "2020-04-25",
          "2020-04-26",
          "2020-04-27",
          "2020-04-28",
          "2020-04-29",
          "2020-04-30",
          "2020-05-01",
          "2020-05-02",
          "2020-05-03",
          "2020-05-04",
          "2020-05-05",
          "2020-05-06",
          "2020-05-07",
          "2020-05-08",
          "2020-05-09",
          "2020-05-10",
          "2020-05-11",
          "2020-05-12",
          "2020-05-13",
          "2020-05-14",
          "2020-05-15",
          "2020-05-16",
          "2020-05-17",
          "2020-05-18",
          "2020-05-19",
          "2020-05-20",
          "2020-05-21",
          "2020-05-22",
          "2020-05-23",
          "2020-05-24",
          "2020-05-25",
          "2020-05-26",
          "2020-05-27",
          "2020-05-28",
          "2020-05-29",
          "2020-05-30",
          "2020-05-31",
          "2020-06-01",
          "2020-06-02",
          "2020-06-03",
          "2020-06-04",
          "2020-06-05",
          "2020-06-06",
          "2020-06-07",
          "2020-06-08",
          "2020-06-09",
          "2020-06-10",
          "2020-06-11",
          "2020-06-12",
          "2020-06-13",
          "2020-06-14",
          "2020-06-15",
          "2020-06-16",
          "2020-06-17",
          "2020-06-18",
          "2020-06-19",
          "2020-06-20",
          "2020-06-21",
          "2020-06-22",
          "2020-06-23",
          "2020-06-24",
          "2020-06-25",
          "2020-06-26",
          "2020-06-27",
          "2020-06-28",
          "2020-06-29",
          "2020-06-30",
          "2020-07-01",
          "2020-07-02",
          "2020-07-03",
          "2020-07-04",
          "2020-07-05",
          "2020-07-06",
          "2020-07-07",
          "2020-07-08",
          "2020-07-09",
          "2020-07-10",
          "2020-07-11",
          "2020-07-12",
          "2020-07-13",
          "2020-07-14",
          "2020-07-15",
          "2020-07-16",
          "2020-07-17",
          "2020-07-18",
          "2020-07-19",
          "2020-07-20",
          "2020-07-21",
          "2020-07-22",
          "2020-07-23",
          "2020-07-24",
          "2020-07-25",
          "2020-07-26",
          "2020-07-27",
          "2020-07-28",
          "2020-07-29",
          "2020-07-30",
          "2020-07-31",
          "2020-08-01",
          "2020-08-02",
          "2020-08-03",
          "2020-08-04",
          "2020-08-05",
          "2020-08-06",
          "2020-08-07",
          "2020-08-08",
          "2020-08-09",
          "2020-08-10",
          "2020-08-11",
          "2020-08-12",
          "2020-08-13",
          "2020-08-14",
          "2020-08-15",
          "2020-08-16",
          "2020-08-17",
          "2020-08-18",
          "2020-08-19",
          "2020-08-20",
          "2020-08-21",
          "2020-08-22",
          "2020-08-23",
          "2020-08-24",
          "2020-08-25",
          "2020-08-26",
          "2020-08-27",
          "2020-08-28",
          "2020-08-29",
          "2020-08-30",
          "2020-08-31",
          "2020-09-01",
          "2020-09-02",
          "2020-09-03",
          "2020-09-04",
          "2020-09-05",
          "2020-09-06",
          "2020-09-07",
          "2020-09-08",
          "2020-09-09",
          "2020-09-10",
          "2020-09-11",
          "2020-09-12",
          "2020-09-13",
          "2020-09-14",
          "2020-09-15",
          "2020-09-16",
          "2020-09-17",
          "2020-09-18",
          "2020-09-19",
          "2020-09-20",
          "2020-09-21",
          "2020-09-22",
          "2020-09-23",
          "2020-09-24",
          "2020-09-25",
          "2020-09-26",
          "2020-09-27",
          "2020-09-28",
          "2020-09-29",
          "2020-09-30",
          "2020-10-01",
          "2020-10-02",
          "2020-10-03",
          "2020-10-04",
          "2020-10-05",
          "2020-10-06",
          "2020-10-07",
          "2020-10-08",
          "2020-10-09",
          "2020-10-10",
          "2020-10-11",
          "2020-10-12",
          "2020-10-13",
          "2020-10-14",
          "2020-10-15",
          "2020-10-16",
          "2020-10-17",
          "2020-10-18",
          "2020-10-19",
          "2020-10-20",
          "2020-10-21",
          "2020-10-22",
          "2020-10-23",
          "2020-10-24",
          "2020-10-25",
          "2020-10-26",
          "2020-10-27",
          "2020-10-28",
          "2020-10-29",
          "2020-10-30",
          "2020-10-31",
          "2020-11-01",
          "2020-11-02",
          "2020-11-03",
          "2020-11-04",
          "2020-11-05",
          "2020-11-06",
          "2020-11-07",
          "2020-11-08",
          "2020-11-09",
          "2020-11-10",
          "2020-11-11",
          "2020-11-12",
          "2020-11-13",
          "2020-11-14",
          "2020-11-15",
          "2020-11-16",
          "2020-11-17",
          "2020-11-18",
          "2020-11-19",
          "2020-11-20",
          "2020-11-21",
          "2020-11-22",
          "2020-11-23",
          "2020-11-24",
          "2020-11-25",
          "2020-11-26",
          "2020-11-27",
          "2020-11-28",
          "2020-11-29",
          "2020-11-30",
          "2020-12-01",
          "2020-12-02",
          "2020-12-03",
          "2020-12-04",
          "2020-12-05",
          "2020-12-06",
          "2020-12-07",
          "2020-12-08",
          "2020-12-09",
          "2020-12-10",
          "2020-12-11",
          "2020-12-12",
          "2020-12-13",
          "2020-12-14",
          "2020-12-15",
          "2020-12-16",
          "2020-12-17",
          "2020-12-18",
          "2020-12-19",
          "2020-12-20",
          "2020-12-21",
          "2020-12-22",
          "2020-12-23",
          "2020-12-24",
          "2020-12-25",
          "2020-12-26",
          "2020-12-27",
          "2020-12-28",
          "2020-12-29",
          "2020-12-30",
          "2020-12-31",
          "2021-01-01",
          "2021-01-02",
          "2021-01-03",
          "2021-01-04",
          "2021-01-05",
          "2021-01-06",
          "2021-01-07",
          "2021-01-08",
          "2020-03-17",
          "2020-03-18",
          "2020-03-19",
          "2020-03-20",
          "2020-03-21",
          "2020-03-22",
          "2020-03-23",
          "2020-03-24",
          "2020-03-25",
          "2020-03-26",
          "2020-03-27",
          "2020-03-28",
          "2020-03-29",
          "2020-03-30",
          "2020-03-31",
          "2020-04-01",
          "2020-04-02",
          "2020-04-03",
          "2020-04-04",
          "2020-04-05",
          "2020-04-06",
          "2020-04-07",
          "2020-04-08",
          "2020-04-09",
          "2020-04-10",
          "2020-04-11",
          "2020-04-12",
          "2020-04-13",
          "2020-04-14",
          "2020-04-15",
          "2020-04-16",
          "2020-04-17",
          "2020-04-18",
          "2020-04-19",
          "2020-04-20",
          "2020-04-21",
          "2020-04-22",
          "2020-04-23",
          "2020-04-24",
          "2020-04-25",
          "2020-04-26",
          "2020-04-27",
          "2020-04-28",
          "2020-04-29",
          "2020-04-30",
          "2020-05-01",
          "2020-05-02",
          "2020-05-03",
          "2020-05-04",
          "2020-05-05",
          "2020-05-06",
          "2020-05-07",
          "2020-05-08",
          "2020-05-09",
          "2020-05-10",
          "2020-05-11",
          "2020-05-12",
          "2020-05-13",
          "2020-05-14",
          "2020-05-15",
          "2020-05-16",
          "2020-05-17",
          "2020-05-18",
          "2020-05-19",
          "2020-05-20",
          "2020-05-21",
          "2020-05-22",
          "2020-05-23",
          "2020-05-24",
          "2020-05-25",
          "2020-05-26",
          "2020-05-27",
          "2020-05-28",
          "2020-05-29",
          "2020-05-30",
          "2020-05-31",
          "2020-06-01",
          "2020-06-02",
          "2020-06-03",
          "2020-06-04",
          "2020-06-05",
          "2020-06-06",
          "2020-06-07",
          "2020-06-08",
          "2020-06-09",
          "2020-06-10",
          "2020-06-11",
          "2020-06-12",
          "2020-06-13",
          "2020-06-14",
          "2020-06-15",
          "2020-06-16",
          "2020-06-17",
          "2020-06-18",
          "2020-06-19",
          "2020-06-20",
          "2020-06-21",
          "2020-06-22",
          "2020-06-23",
          "2020-06-24",
          "2020-06-25",
          "2020-06-26",
          "2020-06-27",
          "2020-06-28",
          "2020-06-29",
          "2020-06-30",
          "2020-07-01",
          "2020-07-02",
          "2020-07-03",
          "2020-07-04",
          "2020-07-05",
          "2020-07-06",
          "2020-07-07",
          "2020-07-08",
          "2020-07-09",
          "2020-07-10",
          "2020-07-11",
          "2020-07-12",
          "2020-07-13",
          "2020-07-14",
          "2020-07-15",
          "2020-07-16",
          "2020-07-17",
          "2020-07-18",
          "2020-07-19",
          "2020-07-20",
          "2020-07-21",
          "2020-07-22",
          "2020-07-23",
          "2020-07-24",
          "2020-07-25",
          "2020-07-26",
          "2020-07-27",
          "2020-07-28",
          "2020-07-29",
          "2020-07-30",
          "2020-07-31",
          "2020-08-01",
          "2020-08-02",
          "2020-08-03",
          "2020-08-04",
          "2020-08-05",
          "2020-08-06",
          "2020-08-07",
          "2020-08-08",
          "2020-08-09",
          "2020-08-10",
          "2020-08-11",
          "2020-08-12",
          "2020-08-13",
          "2020-08-14",
          "2020-08-15",
          "2020-08-16",
          "2020-08-17",
          "2020-08-18",
          "2020-08-19",
          "2020-08-20",
          "2020-08-21",
          "2020-08-22",
          "2020-08-23",
          "2020-08-24",
          "2020-08-25",
          "2020-08-26",
          "2020-08-27",
          "2020-08-28",
          "2020-08-29",
          "2020-08-30",
          "2020-08-31",
          "2020-09-01",
          "2020-09-02",
          "2020-09-03",
          "2020-09-04",
          "2020-09-05",
          "2020-09-06",
          "2020-09-07",
          "2020-09-08",
          "2020-09-09",
          "2020-09-10",
          "2020-09-11",
          "2020-09-12",
          "2020-09-13",
          "2020-09-14",
          "2020-09-15",
          "2020-09-16",
          "2020-09-17",
          "2020-09-18",
          "2020-09-19",
          "2020-09-20",
          "2020-09-21",
          "2020-09-22",
          "2020-09-23",
          "2020-09-24",
          "2020-09-25",
          "2020-09-26",
          "2020-09-27",
          "2020-09-28",
          "2020-09-29",
          "2020-09-30",
          "2020-10-01",
          "2020-10-02",
          "2020-10-03",
          "2020-10-04",
          "2020-10-05",
          "2020-10-06",
          "2020-10-07",
          "2020-10-08",
          "2020-10-09",
          "2020-10-10",
          "2020-10-11",
          "2020-10-12",
          "2020-10-13",
          "2020-10-14",
          "2020-10-15",
          "2020-10-16",
          "2020-10-17",
          "2020-10-18",
          "2020-10-19",
          "2020-10-20",
          "2020-10-21",
          "2020-10-22",
          "2020-10-23",
          "2020-10-24",
          "2020-10-25",
          "2020-10-26",
          "2020-10-27",
          "2020-10-28",
          "2020-10-29",
          "2020-10-30",
          "2020-10-31",
          "2020-11-01",
          "2020-11-02",
          "2020-11-03",
          "2020-11-04",
          "2020-11-05",
          "2020-11-06",
          "2020-11-07",
          "2020-11-08",
          "2020-11-09",
          "2020-11-10",
          "2020-11-11",
          "2020-11-12",
          "2020-11-13",
          "2020-11-14",
          "2020-11-15",
          "2020-11-16",
          "2020-11-17",
          "2020-11-18",
          "2020-11-19",
          "2020-11-20",
          "2020-11-21",
          "2020-11-22",
          "2020-11-23",
          "2020-11-24",
          "2020-11-25",
          "2020-11-26",
          "2020-11-27",
          "2020-11-28",
          "2020-11-29",
          "2020-11-30",
          "2020-12-01",
          "2020-12-02",
          "2020-12-03",
          "2020-12-04",
          "2020-12-05",
          "2020-12-06",
          "2020-12-07",
          "2020-12-08",
          "2020-12-09",
          "2020-12-10",
          "2020-12-11",
          "2020-12-12",
          "2020-12-13",
          "2020-12-14",
          "2020-12-15",
          "2020-12-16",
          "2020-12-17",
          "2020-12-18",
          "2020-12-19",
          "2020-12-20",
          "2020-12-21",
          "2020-12-22",
          "2020-12-23",
          "2020-12-24",
          "2020-12-25",
          "2020-12-26",
          "2020-12-27",
          "2020-12-28",
          "2020-12-29",
          "2020-12-30",
          "2020-12-31",
          "2021-01-01",
          "2021-01-02",
          "2021-01-03",
          "2021-01-04",
          "2021-01-05",
          "2021-01-06",
          "2021-01-07",
          "2021-01-08",
          "2020-08-20",
          "2020-08-21",
          "2020-08-24",
          "2020-08-25",
          "2020-08-26",
          "2020-08-27",
          "2020-08-28",
          "2020-08-31",
          "2020-09-01",
          "2020-09-02",
          "2020-09-03",
          "2020-09-04",
          "2020-09-07",
          "2020-09-08",
          "2020-09-09",
          "2020-09-10",
          "2020-09-11",
          "2020-09-14",
          "2020-09-15",
          "2020-09-16",
          "2020-09-17",
          "2020-09-18",
          "2020-09-21",
          "2020-09-22",
          "2020-09-23",
          "2020-09-24",
          "2020-09-25",
          "2020-09-28",
          "2020-09-29",
          "2020-09-30",
          "2020-10-01",
          "2020-10-02",
          "2020-10-05",
          "2020-10-06",
          "2020-10-07",
          "2020-10-08",
          "2020-10-09",
          "2020-10-12",
          "2020-10-13",
          "2020-10-14",
          "2020-10-15",
          "2020-10-16",
          "2020-10-19",
          "2020-10-20",
          "2020-10-21",
          "2020-10-22",
          "2020-10-23",
          "2020-10-26",
          "2020-10-27",
          "2020-10-28",
          "2020-10-29",
          "2020-10-30",
          "2020-11-02",
          "2020-11-03",
          "2020-11-04",
          "2020-11-05",
          "2020-11-06",
          "2020-11-09",
          "2020-11-10",
          "2020-11-11",
          "2020-11-12",
          "2020-11-13",
          "2020-11-16",
          "2020-11-17",
          "2020-11-18",
          "2020-11-19",
          "2020-11-20",
          "2020-11-23",
          "2020-11-24",
          "2020-11-25",
          "2020-11-26",
          "2020-11-27",
          "2020-11-30",
          "2020-12-01",
          "2020-12-02",
          "2020-12-03",
          "2020-12-04",
          "2020-12-09",
          "2020-12-10",
          "2020-12-11",
          "2020-12-14",
          "2020-12-15",
          "2020-12-16",
          "2020-12-17",
          "2020-12-18",
          "2020-12-21",
          "2020-12-22",
          "2020-12-23",
          "2020-12-24",
          "2020-12-28",
          "2020-12-29",
          "2020-12-30",
          "2020-12-31",
          "2021-01-04",
          "2021-01-05",
          "2021-01-07"
         ],
         "y": [
          298.014,
          305.468,
          309.372,
          313.422,
          313.039,
          319.418,
          313.82,
          313.422,
          303.126,
          300.283,
          284.683,
          286.55400000000003,
          288.277,
          284.698,
          281.884,
          272.95799999999997,
          263.147,
          251.304,
          244.542,
          243.821,
          245.382,
          233.81799999999998,
          228.574,
          223.31599999999997,
          216.81900000000002,
          211.767,
          208.93900000000002,
          207.583,
          202.074,
          193.604,
          185.929,
          177.489,
          177.017,
          172.687,
          176.222,
          170.683,
          167.015,
          160.799,
          157.411,
          150.738,
          150.164,
          150.65,
          147.438,
          140.81,
          136.832,
          135.241,
          129.791,
          129.791,
          130.115,
          128.56799999999998,
          121.012,
          116.416,
          111.70200000000001,
          107.00299999999999,
          106.561,
          106.708,
          104.322,
          100.315,
          96.795,
          93.84899999999999,
          90.46,
          87.441,
          87.264,
          84.391,
          80.562,
          76.275,
          74.949,
          72.76899999999999,
          72.283,
          71.723,
          71.62,
          69.499,
          67.157,
          65.006,
          62.62,
          62.178000000000004,
          63.047,
          60.881,
          59.349,
          56.698,
          53.31,
          52.19,
          52.382,
          55.195,
          49.818999999999996,
          47.093999999999994,
          45.341,
          43.323,
          41.246,
          40.361999999999995,
          39.743,
          38.255,
          36.134,
          34.499,
          33.010999999999996,
          31.17,
          30.905,
          31.081999999999997,
          29.329,
          29.049,
          26.913,
          26.544,
          26.131999999999998,
          25.631,
          25.513,
          24.04,
          25.705,
          22.625999999999998,
          21.374000000000002,
          20.593000000000004,
          20.328,
          20.137,
          20.122,
          19.842,
          19.312,
          18.59,
          18.944000000000003,
          18.413,
          18.369,
          17.852999999999998,
          17.618,
          16.955,
          16.070999999999998,
          15.084000000000001,
          14.436,
          15.968,
          15.261,
          14.745,
          14.804,
          14.613,
          14.302999999999999,
          14.377,
          14.421,
          13.994000000000002,
          13.582,
          13.360999999999999,
          13.050999999999998,
          13.847000000000001,
          12.770999999999999,
          12.86,
          12.388,
          12.167,
          12.329,
          12.005,
          12.225999999999999,
          12.197000000000001,
          12.536,
          12.654000000000002,
          11.799000000000001,
          12.005,
          12.02,
          11.932,
          12.02,
          13.258,
          13.14,
          13.567,
          13.860999999999999,
          11.298,
          11.917,
          12.359000000000002,
          14.407,
          15.659,
          16.248,
          17.073,
          17.927,
          19.090999999999998,
          20.534000000000002,
          22.891,
          24.055,
          25.44,
          27.148000000000003,
          29.712,
          29.903000000000002,
          32.186,
          35.294000000000004,
          35.604,
          37.224000000000004,
          38.093,
          40.023,
          42.174,
          44.958,
          49.568000000000005,
          53.575,
          57.272,
          60.071000000000005,
          61.353,
          64.107,
          68.703,
          72.99,
          77.91,
          82.38799999999999,
          87.323,
          92.67,
          96.353,
          100.536,
          107.946,
          115.59100000000001,
          119.715,
          122.352,
          130.83700000000002,
          136.346,
          144.065,
          148.779,
          161.035,
          168.429,
          170.69799999999998,
          173.80599999999998,
          181.46599999999998,
          180.25799999999998,
          193.33900000000003,
          202.899,
          203.97400000000002,
          203.709,
          206.081,
          211.34,
          214.787,
          223.551,
          220.94400000000002,
          231.329,
          234.437,
          239.68099999999998,
          240.668,
          248.99099999999999,
          255.63400000000001,
          257.476,
          258.212,
          257.815,
          253.71900000000002,
          251.937,
          254.88299999999998,
          261.026,
          257.255,
          252.983,
          247.503,
          244.66,
          236.072,
          240.86,
          244.55700000000002,
          240.83,
          235.895,
          231.18200000000002,
          232.19799999999998,
          231.609,
          235.61599999999999,
          242.25900000000001,
          243.143,
          240.97799999999998,
          246.708,
          249.05,
          249.37400000000002,
          258.639,
          269.08299999999997,
          268.568,
          275.256,
          279.631,
          281.781,
          286.893,
          294.788,
          311.345,
          316.545,
          312.568,
          317.783,
          308.061,
          319.933,
          335.091,
          354.02,
          376.05699999999996,
          390.74300000000005,
          390.97900000000004,
          388.06199999999995,
          405.23800000000006,
          426.774,
          452.42,
          450.93199999999996,
          469.375,
          478.714,
          496.155,
          20.203,
          8.728,
          8.728,
          12.357000000000001,
          15.299000000000001,
          16.574,
          19.712,
          19.908,
          27.068,
          18.732,
          34.717,
          40.994,
          47.662,
          55.998000000000005,
          61.49,
          71.199,
          102.19,
          103.759,
          105.426,
          106.309,
          107.78,
          115.72399999999999,
          118.764,
          115.037,
          115.626,
          115.23299999999999,
          115.429,
          116.41,
          120.333,
          117.685,
          127.68799999999999,
          125.92299999999999,
          122.883,
          121.902,
          118.47,
          114.939,
          112.389,
          107.38799999999999,
          104.74,
          101.994,
          98.561,
          97.581,
          91.794,
          96.109,
          94.93299999999999,
          87.479,
          83.851,
          83.949,
          79.732,
          80.222,
          82.18299999999999,
          85.714,
          82.57600000000001,
          79.928,
          78.16199999999999,
          78.947,
          69.532,
          67.865,
          66.688,
          66.002,
          64.433,
          63.648,
          61.589,
          61.687,
          59.725,
          59.626999999999995,
          56.489,
          53.93899999999999,
          52.566,
          52.076,
          50.31,
          50.016000000000005,
          50.211999999999996,
          51.879,
          50.408,
          46.486000000000004,
          46.191,
          42.367,
          41.974,
          43.641999999999996,
          46.583999999999996,
          40.601,
          39.032,
          35.894,
          38.64,
          40.896,
          40.699,
          43.151,
          41.974,
          41.092,
          42.269,
          41.483999999999995,
          42.661,
          40.797,
          41.386,
          41.386,
          39.915,
          41.582,
          43.248999999999995,
          42.071999999999996,
          42.75899999999999,
          44.818000000000005,
          43.347,
          44.916000000000004,
          47.957,
          48.153,
          49.33,
          50.016000000000005,
          48.545,
          47.957,
          49.428000000000004,
          50.31,
          50.114,
          50.211999999999996,
          47.761,
          46.191,
          45.015,
          45.309,
          45.799,
          46.288999999999994,
          46.878,
          46.681999999999995,
          43.838,
          44.328,
          43.053000000000004,
          44.523999999999994,
          43.053000000000004,
          43.053000000000004,
          42.269,
          41.19,
          40.209,
          39.523,
          40.601,
          39.424,
          39.523,
          39.523,
          37.365,
          36.777,
          37.071,
          38.248000000000005,
          39.326,
          37.659,
          36.188,
          34.913000000000004,
          35.010999999999996,
          35.894,
          36.679,
          35.796,
          35.992,
          35.109,
          34.129,
          31.383000000000003,
          31.873,
          32.952,
          32.952,
          32.265,
          32.756,
          31.480999999999998,
          30.99,
          31.088,
          31.480999999999998,
          31.873,
          30.5,
          31.088,
          32.756,
          31.775,
          33.442,
          34.227,
          34.325,
          33.05,
          32.756,
          33.246,
          33.834,
          34.717,
          37.365,
          38.64,
          38.346,
          39.817,
          39.621,
          42.955,
          44.328,
          46.78,
          46.878,
          47.27,
          47.074,
          45.603,
          48.74100000000001,
          50.114,
          50.801,
          53.547,
          55.998000000000005,
          57.666000000000004,
          61.196000000000005,
          60.31399999999999,
          62.275,
          64.62899999999999,
          64.825,
          65.315,
          66.884,
          66.884,
          65.51100000000001,
          66.884,
          68.748,
          71.788,
          74.926,
          78.555,
          79.535,
          81.497,
          82.67399999999999,
          86.008,
          89.833,
          93.854,
          97.384,
          99.542,
          99.24799999999999,
          106.505,
          115.135,
          121.314,
          124.74600000000001,
          133.86700000000002,
          139.065,
          142.69299999999998,
          154.364,
          163.975,
          171.33,
          175.93900000000002,
          175.93900000000002,
          188.983,
          193.396,
          208.106,
          221.15,
          230.368,
          229.192,
          231.643,
          237.822,
          237.332,
          247.335,
          259.986,
          268.91,
          273.127,
          274.01,
          274.5,
          274.402,
          287.25,
          298.135,
          296.959,
          299.214,
          295.88,
          301.96,
          296.664,
          309.02099999999996,
          317.848,
          321.182,
          318.828,
          313.04200000000003,
          314.611,
          309.414,
          318.24,
          327.75300000000004,
          321.182,
          327.361,
          326.57599999999996,
          323.144,
          316.671,
          320.496,
          330.205,
          320.005,
          326.772,
          324.026,
          316.769,
          303.33299999999997,
          309.61,
          319.123,
          314.415,
          311.96299999999997,
          308.139,
          300.195,
          291.565,
          296.861,
          309.70799999999997,
          303.529,
          293.232,
          279.796,
          270.087,
          273.618,
          281.46299999999997,
          290.976,
          287.348,
          284.013,
          278.52099999999996,
          275.187,
          280.28700000000003,
          298.528,
          310.983,
          319.711,
          322.947,
          326.87,
          338.44300000000004,
          99.156,
          100.589,
          117.29299999999999,
          121.656,
          126.25399999999999,
          129.056,
          133.12,
          148.798,
          145.589,
          148.092,
          153.86700000000002,
          158.101,
          168.796,
          170.507,
          179.618,
          179.68200000000002,
          185.179,
          193.435,
          208.578,
          209.81799999999998,
          213.946,
          216.94,
          235.933,
          232.04,
          230.03,
          236.14700000000002,
          235.398,
          238.41400000000002,
          234.00799999999998,
          232.169,
          225.838,
          221.838,
          234.179,
          228.768,
          228.041,
          227.67700000000002,
          225.731,
          216.213,
          241.622,
          249.622,
          250.071,
          252.03799999999998,
          276.87,
          284.20599999999996,
          292.975,
          302.857,
          310.96299999999997,
          342.38199999999995,
          357.097,
          365.161,
          374.721,
          388.452,
          410.01199999999994,
          426.545,
          434.715,
          433.774,
          432.875,
          449.772,
          447.93300000000005,
          450.24300000000005,
          438.99300000000005,
          434.095,
          437.431,
          427.913,
          414.995,
          405.541,
          384.19599999999997,
          378.464,
          357.204,
          341.912,
          327.58099999999996,
          316.952,
          310.193,
          304.632,
          290.17400000000004,
          279.394,
          268.465,
          260.038,
          255.91,
          249.13,
          251.012,
          251.012,
          242.67,
          242.456,
          240.06099999999998,
          244.488,
          245.96400000000003,
          242.285,
          229.795,
          260.337,
          257.343,
          254.62599999999998,
          246.713,
          287.842,
          296.034,
          311.048
         ]
        }
       ],
       "layout": {
        "template": {
         "data": {
          "bar": [
           {
            "error_x": {
             "color": "#2a3f5f"
            },
            "error_y": {
             "color": "#2a3f5f"
            },
            "marker": {
             "line": {
              "color": "#E5ECF6",
              "width": 0.5
             }
            },
            "type": "bar"
           }
          ],
          "barpolar": [
           {
            "marker": {
             "line": {
              "color": "#E5ECF6",
              "width": 0.5
             }
            },
            "type": "barpolar"
           }
          ],
          "carpet": [
           {
            "aaxis": {
             "endlinecolor": "#2a3f5f",
             "gridcolor": "white",
             "linecolor": "white",
             "minorgridcolor": "white",
             "startlinecolor": "#2a3f5f"
            },
            "baxis": {
             "endlinecolor": "#2a3f5f",
             "gridcolor": "white",
             "linecolor": "white",
             "minorgridcolor": "white",
             "startlinecolor": "#2a3f5f"
            },
            "type": "carpet"
           }
          ],
          "choropleth": [
           {
            "colorbar": {
             "outlinewidth": 0,
             "ticks": ""
            },
            "type": "choropleth"
           }
          ],
          "contour": [
           {
            "colorbar": {
             "outlinewidth": 0,
             "ticks": ""
            },
            "colorscale": [
             [
              0,
              "#0d0887"
             ],
             [
              0.1111111111111111,
              "#46039f"
             ],
             [
              0.2222222222222222,
              "#7201a8"
             ],
             [
              0.3333333333333333,
              "#9c179e"
             ],
             [
              0.4444444444444444,
              "#bd3786"
             ],
             [
              0.5555555555555556,
              "#d8576b"
             ],
             [
              0.6666666666666666,
              "#ed7953"
             ],
             [
              0.7777777777777778,
              "#fb9f3a"
             ],
             [
              0.8888888888888888,
              "#fdca26"
             ],
             [
              1,
              "#f0f921"
             ]
            ],
            "type": "contour"
           }
          ],
          "contourcarpet": [
           {
            "colorbar": {
             "outlinewidth": 0,
             "ticks": ""
            },
            "type": "contourcarpet"
           }
          ],
          "heatmap": [
           {
            "colorbar": {
             "outlinewidth": 0,
             "ticks": ""
            },
            "colorscale": [
             [
              0,
              "#0d0887"
             ],
             [
              0.1111111111111111,
              "#46039f"
             ],
             [
              0.2222222222222222,
              "#7201a8"
             ],
             [
              0.3333333333333333,
              "#9c179e"
             ],
             [
              0.4444444444444444,
              "#bd3786"
             ],
             [
              0.5555555555555556,
              "#d8576b"
             ],
             [
              0.6666666666666666,
              "#ed7953"
             ],
             [
              0.7777777777777778,
              "#fb9f3a"
             ],
             [
              0.8888888888888888,
              "#fdca26"
             ],
             [
              1,
              "#f0f921"
             ]
            ],
            "type": "heatmap"
           }
          ],
          "heatmapgl": [
           {
            "colorbar": {
             "outlinewidth": 0,
             "ticks": ""
            },
            "colorscale": [
             [
              0,
              "#0d0887"
             ],
             [
              0.1111111111111111,
              "#46039f"
             ],
             [
              0.2222222222222222,
              "#7201a8"
             ],
             [
              0.3333333333333333,
              "#9c179e"
             ],
             [
              0.4444444444444444,
              "#bd3786"
             ],
             [
              0.5555555555555556,
              "#d8576b"
             ],
             [
              0.6666666666666666,
              "#ed7953"
             ],
             [
              0.7777777777777778,
              "#fb9f3a"
             ],
             [
              0.8888888888888888,
              "#fdca26"
             ],
             [
              1,
              "#f0f921"
             ]
            ],
            "type": "heatmapgl"
           }
          ],
          "histogram": [
           {
            "marker": {
             "colorbar": {
              "outlinewidth": 0,
              "ticks": ""
             }
            },
            "type": "histogram"
           }
          ],
          "histogram2d": [
           {
            "colorbar": {
             "outlinewidth": 0,
             "ticks": ""
            },
            "colorscale": [
             [
              0,
              "#0d0887"
             ],
             [
              0.1111111111111111,
              "#46039f"
             ],
             [
              0.2222222222222222,
              "#7201a8"
             ],
             [
              0.3333333333333333,
              "#9c179e"
             ],
             [
              0.4444444444444444,
              "#bd3786"
             ],
             [
              0.5555555555555556,
              "#d8576b"
             ],
             [
              0.6666666666666666,
              "#ed7953"
             ],
             [
              0.7777777777777778,
              "#fb9f3a"
             ],
             [
              0.8888888888888888,
              "#fdca26"
             ],
             [
              1,
              "#f0f921"
             ]
            ],
            "type": "histogram2d"
           }
          ],
          "histogram2dcontour": [
           {
            "colorbar": {
             "outlinewidth": 0,
             "ticks": ""
            },
            "colorscale": [
             [
              0,
              "#0d0887"
             ],
             [
              0.1111111111111111,
              "#46039f"
             ],
             [
              0.2222222222222222,
              "#7201a8"
             ],
             [
              0.3333333333333333,
              "#9c179e"
             ],
             [
              0.4444444444444444,
              "#bd3786"
             ],
             [
              0.5555555555555556,
              "#d8576b"
             ],
             [
              0.6666666666666666,
              "#ed7953"
             ],
             [
              0.7777777777777778,
              "#fb9f3a"
             ],
             [
              0.8888888888888888,
              "#fdca26"
             ],
             [
              1,
              "#f0f921"
             ]
            ],
            "type": "histogram2dcontour"
           }
          ],
          "mesh3d": [
           {
            "colorbar": {
             "outlinewidth": 0,
             "ticks": ""
            },
            "type": "mesh3d"
           }
          ],
          "parcoords": [
           {
            "line": {
             "colorbar": {
              "outlinewidth": 0,
              "ticks": ""
             }
            },
            "type": "parcoords"
           }
          ],
          "scatter": [
           {
            "marker": {
             "colorbar": {
              "outlinewidth": 0,
              "ticks": ""
             }
            },
            "type": "scatter"
           }
          ],
          "scatter3d": [
           {
            "line": {
             "colorbar": {
              "outlinewidth": 0,
              "ticks": ""
             }
            },
            "marker": {
             "colorbar": {
              "outlinewidth": 0,
              "ticks": ""
             }
            },
            "type": "scatter3d"
           }
          ],
          "scattercarpet": [
           {
            "marker": {
             "colorbar": {
              "outlinewidth": 0,
              "ticks": ""
             }
            },
            "type": "scattercarpet"
           }
          ],
          "scattergeo": [
           {
            "marker": {
             "colorbar": {
              "outlinewidth": 0,
              "ticks": ""
             }
            },
            "type": "scattergeo"
           }
          ],
          "scattergl": [
           {
            "marker": {
             "colorbar": {
              "outlinewidth": 0,
              "ticks": ""
             }
            },
            "type": "scattergl"
           }
          ],
          "scattermapbox": [
           {
            "marker": {
             "colorbar": {
              "outlinewidth": 0,
              "ticks": ""
             }
            },
            "type": "scattermapbox"
           }
          ],
          "scatterpolar": [
           {
            "marker": {
             "colorbar": {
              "outlinewidth": 0,
              "ticks": ""
             }
            },
            "type": "scatterpolar"
           }
          ],
          "scatterpolargl": [
           {
            "marker": {
             "colorbar": {
              "outlinewidth": 0,
              "ticks": ""
             }
            },
            "type": "scatterpolargl"
           }
          ],
          "scatterternary": [
           {
            "marker": {
             "colorbar": {
              "outlinewidth": 0,
              "ticks": ""
             }
            },
            "type": "scatterternary"
           }
          ],
          "surface": [
           {
            "colorbar": {
             "outlinewidth": 0,
             "ticks": ""
            },
            "colorscale": [
             [
              0,
              "#0d0887"
             ],
             [
              0.1111111111111111,
              "#46039f"
             ],
             [
              0.2222222222222222,
              "#7201a8"
             ],
             [
              0.3333333333333333,
              "#9c179e"
             ],
             [
              0.4444444444444444,
              "#bd3786"
             ],
             [
              0.5555555555555556,
              "#d8576b"
             ],
             [
              0.6666666666666666,
              "#ed7953"
             ],
             [
              0.7777777777777778,
              "#fb9f3a"
             ],
             [
              0.8888888888888888,
              "#fdca26"
             ],
             [
              1,
              "#f0f921"
             ]
            ],
            "type": "surface"
           }
          ],
          "table": [
           {
            "cells": {
             "fill": {
              "color": "#EBF0F8"
             },
             "line": {
              "color": "white"
             }
            },
            "header": {
             "fill": {
              "color": "#C8D4E3"
             },
             "line": {
              "color": "white"
             }
            },
            "type": "table"
           }
          ]
         },
         "layout": {
          "annotationdefaults": {
           "arrowcolor": "#2a3f5f",
           "arrowhead": 0,
           "arrowwidth": 1
          },
          "colorscale": {
           "diverging": [
            [
             0,
             "#8e0152"
            ],
            [
             0.1,
             "#c51b7d"
            ],
            [
             0.2,
             "#de77ae"
            ],
            [
             0.3,
             "#f1b6da"
            ],
            [
             0.4,
             "#fde0ef"
            ],
            [
             0.5,
             "#f7f7f7"
            ],
            [
             0.6,
             "#e6f5d0"
            ],
            [
             0.7,
             "#b8e186"
            ],
            [
             0.8,
             "#7fbc41"
            ],
            [
             0.9,
             "#4d9221"
            ],
            [
             1,
             "#276419"
            ]
           ],
           "sequential": [
            [
             0,
             "#0d0887"
            ],
            [
             0.1111111111111111,
             "#46039f"
            ],
            [
             0.2222222222222222,
             "#7201a8"
            ],
            [
             0.3333333333333333,
             "#9c179e"
            ],
            [
             0.4444444444444444,
             "#bd3786"
            ],
            [
             0.5555555555555556,
             "#d8576b"
            ],
            [
             0.6666666666666666,
             "#ed7953"
            ],
            [
             0.7777777777777778,
             "#fb9f3a"
            ],
            [
             0.8888888888888888,
             "#fdca26"
            ],
            [
             1,
             "#f0f921"
            ]
           ],
           "sequentialminus": [
            [
             0,
             "#0d0887"
            ],
            [
             0.1111111111111111,
             "#46039f"
            ],
            [
             0.2222222222222222,
             "#7201a8"
            ],
            [
             0.3333333333333333,
             "#9c179e"
            ],
            [
             0.4444444444444444,
             "#bd3786"
            ],
            [
             0.5555555555555556,
             "#d8576b"
            ],
            [
             0.6666666666666666,
             "#ed7953"
            ],
            [
             0.7777777777777778,
             "#fb9f3a"
            ],
            [
             0.8888888888888888,
             "#fdca26"
            ],
            [
             1,
             "#f0f921"
            ]
           ]
          },
          "colorway": [
           "#636efa",
           "#EF553B",
           "#00cc96",
           "#ab63fa",
           "#FFA15A",
           "#19d3f3",
           "#FF6692",
           "#B6E880",
           "#FF97FF",
           "#FECB52"
          ],
          "font": {
           "color": "#2a3f5f"
          },
          "geo": {
           "bgcolor": "white",
           "lakecolor": "white",
           "landcolor": "#E5ECF6",
           "showlakes": true,
           "showland": true,
           "subunitcolor": "white"
          },
          "hoverlabel": {
           "align": "left"
          },
          "hovermode": "closest",
          "mapbox": {
           "style": "light"
          },
          "paper_bgcolor": "white",
          "plot_bgcolor": "#E5ECF6",
          "polar": {
           "angularaxis": {
            "gridcolor": "white",
            "linecolor": "white",
            "ticks": ""
           },
           "bgcolor": "#E5ECF6",
           "radialaxis": {
            "gridcolor": "white",
            "linecolor": "white",
            "ticks": ""
           }
          },
          "scene": {
           "xaxis": {
            "backgroundcolor": "#E5ECF6",
            "gridcolor": "white",
            "gridwidth": 2,
            "linecolor": "white",
            "showbackground": true,
            "ticks": "",
            "zerolinecolor": "white"
           },
           "yaxis": {
            "backgroundcolor": "#E5ECF6",
            "gridcolor": "white",
            "gridwidth": 2,
            "linecolor": "white",
            "showbackground": true,
            "ticks": "",
            "zerolinecolor": "white"
           },
           "zaxis": {
            "backgroundcolor": "#E5ECF6",
            "gridcolor": "white",
            "gridwidth": 2,
            "linecolor": "white",
            "showbackground": true,
            "ticks": "",
            "zerolinecolor": "white"
           }
          },
          "shapedefaults": {
           "line": {
            "color": "#2a3f5f"
           }
          },
          "ternary": {
           "aaxis": {
            "gridcolor": "white",
            "linecolor": "white",
            "ticks": ""
           },
           "baxis": {
            "gridcolor": "white",
            "linecolor": "white",
            "ticks": ""
           },
           "bgcolor": "#E5ECF6",
           "caxis": {
            "gridcolor": "white",
            "linecolor": "white",
            "ticks": ""
           }
          },
          "title": {
           "x": 0.05
          },
          "xaxis": {
           "automargin": true,
           "gridcolor": "white",
           "linecolor": "white",
           "ticks": "",
           "zerolinecolor": "white",
           "zerolinewidth": 2
          },
          "yaxis": {
           "automargin": true,
           "gridcolor": "white",
           "linecolor": "white",
           "ticks": "",
           "zerolinecolor": "white",
           "zerolinewidth": 2
          }
         }
        },
        "title": {
         "text": "hosp_patients_per_million"
        }
       }
      }
     },
     "metadata": {}
    }
   ],
   "source": [
    "fig = go.Figure(data=[go.Bar(x=countries_cols['date'], y=countries_cols['hosp_patients_per_million'])], layout_title_text=\"hosp_patients_per_million\")\n",
    "fig.show()"
   ]
  },
  {
   "cell_type": "code",
   "execution_count": 11,
   "metadata": {},
   "outputs": [
    {
     "output_type": "execute_result",
     "data": {
      "text/plain": [
       "total_cases                  2966244.000\n",
       "new_cases                      68192.000\n",
       "total_deaths                   79965.000\n",
       "new_deaths                      1623.000\n",
       "total_cases_per_million        45770.561\n",
       "new_cases_per_million           1176.757\n",
       "total_deaths_per_million        1177.931\n",
       "new_deaths_per_million           671.000\n",
       "reproduction_rate                671.000\n",
       "icu_patients_per_million         671.000\n",
       "hosp_patients_per_million        671.000\n",
       "positive_rate                    671.000\n",
       "stringency_index                 671.000\n",
       "dtype: float64"
      ]
     },
     "metadata": {},
     "execution_count": 11
    }
   ],
   "source": [
    "countries_cols.describe().max()"
   ]
  },
  {
   "cell_type": "code",
   "execution_count": 14,
   "metadata": {},
   "outputs": [
    {
     "output_type": "execute_result",
     "data": {
      "text/plain": [
       "total_cases                  0.0\n",
       "new_cases                    0.0\n",
       "total_deaths                 0.0\n",
       "new_deaths                   0.0\n",
       "total_cases_per_million      0.0\n",
       "new_cases_per_million        0.0\n",
       "total_deaths_per_million     0.0\n",
       "new_deaths_per_million       0.0\n",
       "reproduction_rate            0.0\n",
       "icu_patients_per_million     0.0\n",
       "hosp_patients_per_million    0.0\n",
       "positive_rate                0.0\n",
       "stringency_index             0.0\n",
       "dtype: float64"
      ]
     },
     "metadata": {},
     "execution_count": 14
    }
   ],
   "source": [
    "esp.describe().max()\n",
    "#gbr.describe().max()\n",
    "#prt.describe().max()\n",
    "#tur.describe().max()\n",
    "ven.describe().max()"
   ]
  },
  {
   "source": [
    "ANALISIS DEL PEOR MOMENTO PARA IR CON LAS COLUMNAS DESGINADAS CON PER_MILLION "
   ],
   "cell_type": "markdown",
   "metadata": {}
  },
  {
   "cell_type": "code",
   "execution_count": 87,
   "metadata": {},
   "outputs": [
    {
     "output_type": "execute_result",
     "data": {
      "text/plain": [
       "      iso_code        date  total_cases  new_cases  total_deaths  new_deaths  \\\n",
       "43910      PRT  2021-01-08     466709.0    10176.0        7590.0       118.0   \n",
       "\n",
       "       total_cases_per_million  new_cases_per_million  \\\n",
       "43910                45770.561                997.969   \n",
       "\n",
       "       total_deaths_per_million  new_deaths_per_million  reproduction_rate  \\\n",
       "43910                   744.358                  11.572               1.52   \n",
       "\n",
       "       icu_patients_per_million  hosp_patients_per_million  positive_rate  \\\n",
       "43910                    52.566                    338.443          0.144   \n",
       "\n",
       "       stringency_index  \n",
       "43910             67.59  "
      ],
      "text/html": "<div>\n<style scoped>\n    .dataframe tbody tr th:only-of-type {\n        vertical-align: middle;\n    }\n\n    .dataframe tbody tr th {\n        vertical-align: top;\n    }\n\n    .dataframe thead th {\n        text-align: right;\n    }\n</style>\n<table border=\"1\" class=\"dataframe\">\n  <thead>\n    <tr style=\"text-align: right;\">\n      <th></th>\n      <th>iso_code</th>\n      <th>date</th>\n      <th>total_cases</th>\n      <th>new_cases</th>\n      <th>total_deaths</th>\n      <th>new_deaths</th>\n      <th>total_cases_per_million</th>\n      <th>new_cases_per_million</th>\n      <th>total_deaths_per_million</th>\n      <th>new_deaths_per_million</th>\n      <th>reproduction_rate</th>\n      <th>icu_patients_per_million</th>\n      <th>hosp_patients_per_million</th>\n      <th>positive_rate</th>\n      <th>stringency_index</th>\n    </tr>\n  </thead>\n  <tbody>\n    <tr>\n      <th>43910</th>\n      <td>PRT</td>\n      <td>2021-01-08</td>\n      <td>466709.0</td>\n      <td>10176.0</td>\n      <td>7590.0</td>\n      <td>118.0</td>\n      <td>45770.561</td>\n      <td>997.969</td>\n      <td>744.358</td>\n      <td>11.572</td>\n      <td>1.52</td>\n      <td>52.566</td>\n      <td>338.443</td>\n      <td>0.144</td>\n      <td>67.59</td>\n    </tr>\n  </tbody>\n</table>\n</div>"
     },
     "metadata": {},
     "execution_count": 87
    }
   ],
   "source": [
    "\"\"\"PER MILLION\"\"\"\n",
    "countries_cols.loc[countries_cols[\"total_cases_per_million\"] == countries_cols[\"total_cases_per_million\"].max()]\n"
   ]
  },
  {
   "cell_type": "code",
   "execution_count": 88,
   "metadata": {},
   "outputs": [
    {
     "output_type": "execute_result",
     "data": {
      "text/plain": [
       "      iso_code        date  total_cases  new_cases  total_deaths  new_deaths  \\\n",
       "51113      ESP  2020-11-02    1240697.0    55019.0       36257.0       379.0   \n",
       "\n",
       "       total_cases_per_million  new_cases_per_million  \\\n",
       "51113                26536.258               1176.757   \n",
       "\n",
       "       total_deaths_per_million  new_deaths_per_million  reproduction_rate  \\\n",
       "51113                   775.471                   8.106               1.15   \n",
       "\n",
       "       icu_patients_per_million  hosp_patients_per_million  positive_rate  \\\n",
       "51113                    56.679                    410.012          0.121   \n",
       "\n",
       "       stringency_index  \n",
       "51113              71.3  "
      ],
      "text/html": "<div>\n<style scoped>\n    .dataframe tbody tr th:only-of-type {\n        vertical-align: middle;\n    }\n\n    .dataframe tbody tr th {\n        vertical-align: top;\n    }\n\n    .dataframe thead th {\n        text-align: right;\n    }\n</style>\n<table border=\"1\" class=\"dataframe\">\n  <thead>\n    <tr style=\"text-align: right;\">\n      <th></th>\n      <th>iso_code</th>\n      <th>date</th>\n      <th>total_cases</th>\n      <th>new_cases</th>\n      <th>total_deaths</th>\n      <th>new_deaths</th>\n      <th>total_cases_per_million</th>\n      <th>new_cases_per_million</th>\n      <th>total_deaths_per_million</th>\n      <th>new_deaths_per_million</th>\n      <th>reproduction_rate</th>\n      <th>icu_patients_per_million</th>\n      <th>hosp_patients_per_million</th>\n      <th>positive_rate</th>\n      <th>stringency_index</th>\n    </tr>\n  </thead>\n  <tbody>\n    <tr>\n      <th>51113</th>\n      <td>ESP</td>\n      <td>2020-11-02</td>\n      <td>1240697.0</td>\n      <td>55019.0</td>\n      <td>36257.0</td>\n      <td>379.0</td>\n      <td>26536.258</td>\n      <td>1176.757</td>\n      <td>775.471</td>\n      <td>8.106</td>\n      <td>1.15</td>\n      <td>56.679</td>\n      <td>410.012</td>\n      <td>0.121</td>\n      <td>71.3</td>\n    </tr>\n  </tbody>\n</table>\n</div>"
     },
     "metadata": {},
     "execution_count": 88
    }
   ],
   "source": [
    "countries_cols.loc[countries_cols[\"new_cases_per_million\"] == countries_cols[\"new_cases_per_million\"].max()]\n"
   ]
  },
  {
   "cell_type": "code",
   "execution_count": 90,
   "metadata": {},
   "outputs": [
    {
     "output_type": "execute_result",
     "data": {
      "text/plain": [
       "      iso_code        date  total_cases  new_cases  total_deaths  new_deaths  \\\n",
       "57389      GBR  2021-01-08    2966244.0    68192.0       79965.0      1333.0   \n",
       "\n",
       "       total_cases_per_million  new_cases_per_million  \\\n",
       "57389                43694.485               1004.507   \n",
       "\n",
       "       total_deaths_per_million  new_deaths_per_million  reproduction_rate  \\\n",
       "57389                  1177.931                  19.636               1.25   \n",
       "\n",
       "       icu_patients_per_million  hosp_patients_per_million  positive_rate  \\\n",
       "57389                    45.635                    496.155          0.112   \n",
       "\n",
       "       stringency_index  \n",
       "57389             79.63  "
      ],
      "text/html": "<div>\n<style scoped>\n    .dataframe tbody tr th:only-of-type {\n        vertical-align: middle;\n    }\n\n    .dataframe tbody tr th {\n        vertical-align: top;\n    }\n\n    .dataframe thead th {\n        text-align: right;\n    }\n</style>\n<table border=\"1\" class=\"dataframe\">\n  <thead>\n    <tr style=\"text-align: right;\">\n      <th></th>\n      <th>iso_code</th>\n      <th>date</th>\n      <th>total_cases</th>\n      <th>new_cases</th>\n      <th>total_deaths</th>\n      <th>new_deaths</th>\n      <th>total_cases_per_million</th>\n      <th>new_cases_per_million</th>\n      <th>total_deaths_per_million</th>\n      <th>new_deaths_per_million</th>\n      <th>reproduction_rate</th>\n      <th>icu_patients_per_million</th>\n      <th>hosp_patients_per_million</th>\n      <th>positive_rate</th>\n      <th>stringency_index</th>\n    </tr>\n  </thead>\n  <tbody>\n    <tr>\n      <th>57389</th>\n      <td>GBR</td>\n      <td>2021-01-08</td>\n      <td>2966244.0</td>\n      <td>68192.0</td>\n      <td>79965.0</td>\n      <td>1333.0</td>\n      <td>43694.485</td>\n      <td>1004.507</td>\n      <td>1177.931</td>\n      <td>19.636</td>\n      <td>1.25</td>\n      <td>45.635</td>\n      <td>496.155</td>\n      <td>0.112</td>\n      <td>79.63</td>\n    </tr>\n  </tbody>\n</table>\n</div>"
     },
     "metadata": {},
     "execution_count": 90
    }
   ],
   "source": [
    "countries_cols.loc[countries_cols[\"total_deaths_per_million\"] == countries_cols[\"total_deaths_per_million\"].max()]\n"
   ]
  },
  {
   "cell_type": "code",
   "execution_count": 91,
   "metadata": {},
   "outputs": [
    {
     "output_type": "execute_result",
     "data": {
      "text/plain": [
       "      iso_code        date  total_cases  new_cases  total_deaths  new_deaths  \\\n",
       "51115      ESP  2020-11-04    1284408.0    25042.0       38118.0      1623.0   \n",
       "\n",
       "       total_cases_per_million  new_cases_per_million  \\\n",
       "51115                27471.157                535.603   \n",
       "\n",
       "       total_deaths_per_million  new_deaths_per_million  reproduction_rate  \\\n",
       "51115                   815.275                  34.713               1.12   \n",
       "\n",
       "       icu_patients_per_million  hosp_patients_per_million  positive_rate  \\\n",
       "51115                    59.587                    434.715          0.127   \n",
       "\n",
       "       stringency_index  \n",
       "51115              71.3  "
      ],
      "text/html": "<div>\n<style scoped>\n    .dataframe tbody tr th:only-of-type {\n        vertical-align: middle;\n    }\n\n    .dataframe tbody tr th {\n        vertical-align: top;\n    }\n\n    .dataframe thead th {\n        text-align: right;\n    }\n</style>\n<table border=\"1\" class=\"dataframe\">\n  <thead>\n    <tr style=\"text-align: right;\">\n      <th></th>\n      <th>iso_code</th>\n      <th>date</th>\n      <th>total_cases</th>\n      <th>new_cases</th>\n      <th>total_deaths</th>\n      <th>new_deaths</th>\n      <th>total_cases_per_million</th>\n      <th>new_cases_per_million</th>\n      <th>total_deaths_per_million</th>\n      <th>new_deaths_per_million</th>\n      <th>reproduction_rate</th>\n      <th>icu_patients_per_million</th>\n      <th>hosp_patients_per_million</th>\n      <th>positive_rate</th>\n      <th>stringency_index</th>\n    </tr>\n  </thead>\n  <tbody>\n    <tr>\n      <th>51115</th>\n      <td>ESP</td>\n      <td>2020-11-04</td>\n      <td>1284408.0</td>\n      <td>25042.0</td>\n      <td>38118.0</td>\n      <td>1623.0</td>\n      <td>27471.157</td>\n      <td>535.603</td>\n      <td>815.275</td>\n      <td>34.713</td>\n      <td>1.12</td>\n      <td>59.587</td>\n      <td>434.715</td>\n      <td>0.127</td>\n      <td>71.3</td>\n    </tr>\n  </tbody>\n</table>\n</div>"
     },
     "metadata": {},
     "execution_count": 91
    }
   ],
   "source": [
    "countries_cols.loc[countries_cols[\"new_deaths_per_million\"] == countries_cols[\"new_deaths_per_million\"].max()]\n"
   ]
  },
  {
   "cell_type": "code",
   "execution_count": 92,
   "metadata": {},
   "outputs": [
    {
     "output_type": "execute_result",
     "data": {
      "text/plain": [
       "      iso_code        date  total_cases  new_cases  total_deaths  new_deaths  \\\n",
       "51127      ESP  2020-11-16    1496864.0    38273.0       41253.0       484.0   \n",
       "\n",
       "       total_cases_per_million  new_cases_per_million  \\\n",
       "51127                32015.206                 818.59   \n",
       "\n",
       "       total_deaths_per_million  new_deaths_per_million  reproduction_rate  \\\n",
       "51127                   882.327                  10.352                1.0   \n",
       "\n",
       "       icu_patients_per_million  hosp_patients_per_million  positive_rate  \\\n",
       "51127                    67.501                    437.431          0.104   \n",
       "\n",
       "       stringency_index  \n",
       "51127              71.3  "
      ],
      "text/html": "<div>\n<style scoped>\n    .dataframe tbody tr th:only-of-type {\n        vertical-align: middle;\n    }\n\n    .dataframe tbody tr th {\n        vertical-align: top;\n    }\n\n    .dataframe thead th {\n        text-align: right;\n    }\n</style>\n<table border=\"1\" class=\"dataframe\">\n  <thead>\n    <tr style=\"text-align: right;\">\n      <th></th>\n      <th>iso_code</th>\n      <th>date</th>\n      <th>total_cases</th>\n      <th>new_cases</th>\n      <th>total_deaths</th>\n      <th>new_deaths</th>\n      <th>total_cases_per_million</th>\n      <th>new_cases_per_million</th>\n      <th>total_deaths_per_million</th>\n      <th>new_deaths_per_million</th>\n      <th>reproduction_rate</th>\n      <th>icu_patients_per_million</th>\n      <th>hosp_patients_per_million</th>\n      <th>positive_rate</th>\n      <th>stringency_index</th>\n    </tr>\n  </thead>\n  <tbody>\n    <tr>\n      <th>51127</th>\n      <td>ESP</td>\n      <td>2020-11-16</td>\n      <td>1496864.0</td>\n      <td>38273.0</td>\n      <td>41253.0</td>\n      <td>484.0</td>\n      <td>32015.206</td>\n      <td>818.59</td>\n      <td>882.327</td>\n      <td>10.352</td>\n      <td>1.0</td>\n      <td>67.501</td>\n      <td>437.431</td>\n      <td>0.104</td>\n      <td>71.3</td>\n    </tr>\n  </tbody>\n</table>\n</div>"
     },
     "metadata": {},
     "execution_count": 92
    }
   ],
   "source": [
    "countries_cols.loc[countries_cols[\"icu_patients_per_million\"] == countries_cols[\"icu_patients_per_million\"].max()]\n"
   ]
  },
  {
   "cell_type": "code",
   "execution_count": 94,
   "metadata": {},
   "outputs": [
    {
     "output_type": "execute_result",
     "data": {
      "text/plain": [
       "      iso_code        date  total_cases  new_cases  total_deaths  new_deaths  \\\n",
       "57389      GBR  2021-01-08    2966244.0    68192.0       79965.0      1333.0   \n",
       "\n",
       "       total_cases_per_million  new_cases_per_million  \\\n",
       "57389                43694.485               1004.507   \n",
       "\n",
       "       total_deaths_per_million  new_deaths_per_million  reproduction_rate  \\\n",
       "57389                  1177.931                  19.636               1.25   \n",
       "\n",
       "       icu_patients_per_million  hosp_patients_per_million  positive_rate  \\\n",
       "57389                    45.635                    496.155          0.112   \n",
       "\n",
       "       stringency_index  \n",
       "57389             79.63  "
      ],
      "text/html": "<div>\n<style scoped>\n    .dataframe tbody tr th:only-of-type {\n        vertical-align: middle;\n    }\n\n    .dataframe tbody tr th {\n        vertical-align: top;\n    }\n\n    .dataframe thead th {\n        text-align: right;\n    }\n</style>\n<table border=\"1\" class=\"dataframe\">\n  <thead>\n    <tr style=\"text-align: right;\">\n      <th></th>\n      <th>iso_code</th>\n      <th>date</th>\n      <th>total_cases</th>\n      <th>new_cases</th>\n      <th>total_deaths</th>\n      <th>new_deaths</th>\n      <th>total_cases_per_million</th>\n      <th>new_cases_per_million</th>\n      <th>total_deaths_per_million</th>\n      <th>new_deaths_per_million</th>\n      <th>reproduction_rate</th>\n      <th>icu_patients_per_million</th>\n      <th>hosp_patients_per_million</th>\n      <th>positive_rate</th>\n      <th>stringency_index</th>\n    </tr>\n  </thead>\n  <tbody>\n    <tr>\n      <th>57389</th>\n      <td>GBR</td>\n      <td>2021-01-08</td>\n      <td>2966244.0</td>\n      <td>68192.0</td>\n      <td>79965.0</td>\n      <td>1333.0</td>\n      <td>43694.485</td>\n      <td>1004.507</td>\n      <td>1177.931</td>\n      <td>19.636</td>\n      <td>1.25</td>\n      <td>45.635</td>\n      <td>496.155</td>\n      <td>0.112</td>\n      <td>79.63</td>\n    </tr>\n  </tbody>\n</table>\n</div>"
     },
     "metadata": {},
     "execution_count": 94
    }
   ],
   "source": [
    "countries_cols.loc[countries_cols[\"hosp_patients_per_million\"] == countries_cols[\"hosp_patients_per_million\"].max()]"
   ]
  }
 ]
}